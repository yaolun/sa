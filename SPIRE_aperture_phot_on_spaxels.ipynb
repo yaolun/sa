{
 "cells": [
  {
   "cell_type": "code",
   "execution_count": 3,
   "metadata": {
    "collapsed": true
   },
   "outputs": [],
   "source": [
    "%matplotlib inline"
   ]
  },
  {
   "cell_type": "code",
   "execution_count": 4,
   "metadata": {
    "collapsed": true
   },
   "outputs": [],
   "source": [
    "import numpy as np\n",
    "import matplotlib.pyplot as plt\n",
    "from astropy.io import ascii, fits\n",
    "import astropy.constants as const\n",
    "\n",
    "c = const.c.cgs.value"
   ]
  },
  {
   "cell_type": "markdown",
   "metadata": {},
   "source": [
    "## Some functions"
   ]
  },
  {
   "cell_type": "code",
   "execution_count": 5,
   "metadata": {
    "collapsed": true
   },
   "outputs": [],
   "source": [
    "def CircularAperture(x, y, r, pix=10000.):\n",
    "    \n",
    "    grid_x, grid_y = np.meshgrid(np.linspace(0,pix-1,pix), np.linspace(0,pix-1,pix))\n",
    "    grid_x = grid_x - (pix-1)/2.\n",
    "    grid_y = grid_y - (pix-1)/2.\n",
    "    grid_dist = ((grid_x-x)**2+(grid_y-y)**2)**0.5\n",
    "    aperture = np.where(grid_dist <= r, np.full((pix, pix), 1, dtype=int), 0)\n",
    "    \n",
    "    return aperture"
   ]
  },
  {
   "cell_type": "code",
   "execution_count": 6,
   "metadata": {
    "collapsed": true
   },
   "outputs": [],
   "source": [
    "def Total_MaskedAperture(aperture, mask):\n",
    "    \n",
    "    aperture_masked = np.where(mask != 0, aperture, 0)\n",
    "    \n",
    "    return aperture_masked, np.sum(aperture_masked)"
   ]
  },
  {
   "cell_type": "code",
   "execution_count": 7,
   "metadata": {
    "collapsed": true
   },
   "outputs": [],
   "source": [
    "def Mask(x, y, radius, pix=10000.):\n",
    "    \n",
    "    init_arr = np.full((pix, pix), 1, dtype=int)\n",
    "    grid_x, grid_y = np.meshgrid(np.linspace(0,pix-1,pix), np.linspace(0,pix-1,pix))\n",
    "    \n",
    "    dist_x = grid_x - (pix-1)/2. - x\n",
    "    dist_y = grid_y - (pix-1)/2. - y\n",
    "    \n",
    "    aper_trim = np.where((dist_x**2+dist_y**2)**0.5 <= radius, init_arr, 0)\n",
    "    \n",
    "    return aper_trim"
   ]
  },
  {
   "cell_type": "markdown",
   "metadata": {},
   "source": [
    "## SPIRE beam profiles"
   ]
  },
  {
   "cell_type": "code",
   "execution_count": 8,
   "metadata": {
    "collapsed": false
   },
   "outputs": [
    {
     "data": {
      "image/png": "[encoded data removed]",
      "text/plain": [
       "<matplotlib.figure.Figure at 0x10c23ee50>"
      ]
     },
     "metadata": {},
     "output_type": "display_data"
    }
   ],
   "source": [
    "# read in the SSW beam profile\n",
    "wl_ssw_beam, diam_ssw_beam = np.genfromtxt('/Users/yaolun/test/SSW_beam_profile.txt').T\n",
    "\n",
    "# read in the SLW beam profile\n",
    "wl_slw_beam, diam_slw_beam = np.genfromtxt('/Users/yaolun/test/SLW_beam_profile.txt').T\n",
    "\n",
    "# plot beam profiles\n",
    "fig = plt.figure(figsize=(8,6))\n",
    "ax = fig.add_subplot(111)\n",
    "\n",
    "ax.plot(wl_ssw_beam, diam_ssw_beam, 'b-')\n",
    "ax.plot(wl_slw_beam, diam_slw_beam, 'b-')\n",
    "\n",
    "ax.set_xlim([100, 700])\n",
    "ax.set_xlabel(r'$\\rm{Wavelength\\,[\\mu m]}$', fontsize=18)\n",
    "ax.set_ylabel(r'$\\rm{Flux\\,Density\\,[Jy]}$', fontsize=18)\n",
    "[ax.spines[axis].set_linewidth(1.5) for axis in ['top','bottom','left','right']]\n",
    "ax.minorticks_on()\n",
    "ax.tick_params('both',labelsize=18,width=1.5,which='major',pad=10,length=5)\n",
    "ax.tick_params('both',labelsize=18,width=1.5,which='minor',pad=10,length=2.5)"
   ]
  },
  {
   "cell_type": "markdown",
   "metadata": {},
   "source": [
    "# SPIRE FITS"
   ]
  },
  {
   "cell_type": "code",
   "execution_count": 9,
   "metadata": {
    "collapsed": false
   },
   "outputs": [],
   "source": [
    "hdu = fits.open('/Users/yaolun/bhr71/calibration_testing/HSA/bhr71_spire_point_apod.fits')"
   ]
  },
  {
   "cell_type": "markdown",
   "metadata": {},
   "source": [
    "## Weights for SSW"
   ]
  },
  {
   "cell_type": "code",
   "execution_count": null,
   "metadata": {
    "collapsed": false
   },
   "outputs": [],
   "source": [
    "%%time\n",
    "# do 200\" x 200\"\n",
    "pix = 5000.\n",
    "factor = pix/200.\n",
    "aper_rad = 15.9\n",
    "weight_ssw = np.empty((len(range(9,26)), len(diam_ssw_beam)))\n",
    "aperture = CircularAperture(0, 0, aper_rad*factor, pix=pix)\n",
    "ideal = (diam_ssw_beam*factor/2.)**2*np.pi\n",
    "\n",
    "a = np.full((pix, pix), 0)\n",
    "\n",
    "# center of SSW module\n",
    "cen_ra = hdu[18].header['RA']\n",
    "cen_dec = hdu[18].header['DEC']\n",
    "\n",
    "# SSW\n",
    "s = 0\n",
    "for i in range(9,26):\n",
    "    ra = (hdu[i].header['RA']-cen_ra)*np.cos(np.radians(cen_dec))*3600.\n",
    "    dec = (hdu[i].header['DEC']-cen_dec) * 3600.\n",
    "    \n",
    "    # check if the pixel has any overlap with the aperture to save some computing time\n",
    "    if (ra**2+dec**2) > aper_rad+max(diam_ssw_beam):\n",
    "        weight_ssw[i-9,:].fill(0)\n",
    "        continue\n",
    "\n",
    "    for iw in range(len(diam_ssw_beam)):\n",
    "#     for iw in range(0,20):\n",
    "        masked_arr, arr_sum = Total_MaskedAperture(aperture,\n",
    "                                    Mask(ra*factor, dec*factor, diam_ssw_beam[iw]*factor/2., pix=pix))\n",
    "        if (arr_sum/ideal[iw]) >= 0.99:\n",
    "            weight_ssw[i-9,iw] = 1\n",
    "        else:\n",
    "            weight_ssw[i-9,iw] = arr_sum/ideal[iw]\n",
    "            s += 1"
   ]
  },
  {
   "cell_type": "code",
   "execution_count": null,
   "metadata": {
    "collapsed": false
   },
   "outputs": [],
   "source": [
    "print arr_sum, ideal[19], np.sum(aperture)"
   ]
  },
  {
   "cell_type": "code",
   "execution_count": null,
   "metadata": {
    "collapsed": false
   },
   "outputs": [],
   "source": [
    "plt.imshow(weight_ssw, extent=[0,6,0,6])"
   ]
  },
  {
   "cell_type": "code",
   "execution_count": null,
   "metadata": {
    "collapsed": false
   },
   "outputs": [],
   "source": [
    "import cProfile\n",
    "cProfile.run('Total_MaskedAperture(aperture,Mask(0, 0, 250., pix=5000.))')"
   ]
  },
  {
   "cell_type": "code",
   "execution_count": null,
   "metadata": {
    "collapsed": false
   },
   "outputs": [],
   "source": [
    "# create empty arrays and apply the weighting\n",
    "wl_ssw_wsum = c/1e5/hdu[18].data.field(0)\n",
    "flux_ssw_wsum = np.zeros_like(wl_ssw_wsum)\n",
    "\n",
    "for iw in range(len(wl_ssw_wsum)):\n",
    "    for i in range(9,26):\n",
    "        flux_dum = hdu[i].data.field(1)\n",
    "        flux_ssw_wsum[iw] += flux_dum[iw] * weight_ssw[i-9,iw]\n",
    "\n",
    "# sort the spectrum with the increase of wavelength\n",
    "sorter = np.argsort(wl_ssw_wsum)\n",
    "wl_ssw_wsum = wl_ssw_wsum[sorter]\n",
    "flux_ssw_wsum = flux_ssw_wsum[sorter]\n",
    "\n",
    "# trim the spectrum like SPIRE-1D spectra in CDF archive\n",
    "flux_ssw_wsum = flux_ssw_wsum[(wl_ssw_wsum >= 195.) & (wl_ssw_wsum < 310.)]\n",
    "wl_ssw_wsum = wl_ssw_wsum[(wl_ssw_wsum >= 195.) & (wl_ssw_wsum < 310.)]\n",
    "\n",
    "# write the summed spectrum into ASCII file\n",
    "foo = open('/Users/yaolun/bhr71/calibration_testing/bhr71_ssw_tophat_weighted_sum.txt','w')\n",
    "for wave in wl_ssw_wsum:\n",
    "    foo.write('{} \\t {}\\n'.format(wave, flux_ssw_wsum[wl_ssw_wsum == wave][0]))\n",
    "foo.close()\n",
    "\n",
    "# save the SSW weight array\n",
    "np.save('/Users/yaolun/bhr71/calibration_testing/bhr71_ssw_tophat_weight', weight_ssw)"
   ]
  },
  {
   "cell_type": "markdown",
   "metadata": {},
   "source": [
    "## Weights for SLW"
   ]
  },
  {
   "cell_type": "code",
   "execution_count": 12,
   "metadata": {
    "collapsed": false
   },
   "outputs": [
    {
     "name": "stdout",
     "output_type": "stream",
     "text": [
      "CPU times: user 50.4 s, sys: 57.4 s, total: 1min 47s\n",
      "Wall time: 1min 48s\n"
     ]
    }
   ],
   "source": [
    "%%time\n",
    "# do 200\" x 200\"\n",
    "pix = 5000.\n",
    "factor = pix/200.\n",
    "aper_rad = 15.9\n",
    "weight_slw = np.empty((len(range(9,26)), len(diam_slw_beam)))\n",
    "aperture = CircularAperture(0, 0, aper_rad*factor, pix=pix)\n",
    "ideal = (diam_slw_beam*factor/2.)**2*np.pi\n",
    "\n",
    "a = np.full((pix, pix), 0)\n",
    "\n",
    "# center of SLW module\n",
    "cen_ra = hdu[5].header['RA']\n",
    "cen_dec = hdu[5].header['DEC']\n",
    "\n",
    "# SSW\n",
    "for i in range(2,9):\n",
    "    ra = (hdu[i].header['RA']-cen_ra)*np.cos(np.radians(cen_dec))*3600.\n",
    "    dec = (hdu[i].header['DEC']-cen_dec) * 3600.\n",
    "    \n",
    "    # check if the pixel has any overlap with the aperture to save some computing time\n",
    "    if (ra**2+dec**2)**0.5 > aper_rad+max(diam_slw_beam):\n",
    "        weight_slw[i-2,:].fill(0)\n",
    "        continue\n",
    "\n",
    "#     for iw in range(len(diam_slw_beam)):\n",
    "    for iw in range(10):\n",
    "        masked_arr, arr_sum = Total_MaskedAperture(aperture,\n",
    "                                    Mask(ra*factor, dec*factor, diam_slw_beam[iw]*factor/2., pix=pix))\n",
    "        if (arr_sum/ideal[iw]) >= 0.99:\n",
    "            weight_slw[i-2,iw] = 1\n",
    "        else:\n",
    "            weight_slw[i-2,iw] = arr_sum/ideal[iw]"
   ]
  },
  {
   "cell_type": "code",
   "execution_count": 13,
   "metadata": {
    "collapsed": false
   },
   "outputs": [
    {
     "name": "stdout",
     "output_type": "stream",
     "text": [
      "41.261793 1905\n"
     ]
    },
    {
     "data": {
      "text/plain": [
       "<matplotlib.image.AxesImage at 0x11b525e90>"
      ]
     },
     "execution_count": 13,
     "metadata": {},
     "output_type": "execute_result"
    },
    {
     "data": {
      "image/png": "[encoded data removed]",
      "text/plain": [
       "<matplotlib.figure.Figure at 0x10f41e610>"
      ]
     },
     "metadata": {},
     "output_type": "display_data"
    }
   ],
   "source": [
    "print diam_slw_beam[0], len(diam_slw_beam)\n",
    "plt.imshow(a, cmap='viridis')"
   ]
  },
  {
   "cell_type": "code",
   "execution_count": null,
   "metadata": {
    "collapsed": true
   },
   "outputs": [],
   "source": [
    "weight_slw_copy = weight_slw"
   ]
  },
  {
   "cell_type": "code",
   "execution_count": null,
   "metadata": {
    "collapsed": true
   },
   "outputs": [],
   "source": [
    "# create empty arrays and apply the weighting\n",
    "wl_slw_wsum = c/1e5/hdu[5].data.field(0)\n",
    "flux_slw_wsum = np.zeros_like(wl_slw_wsum)\n",
    "\n",
    "for iw in range(len(wl_slw_wsum)):\n",
    "    for i in range(2,9):\n",
    "        flux_dum = hdu[i].data.field(1)\n",
    "        flux_slw_wsum[iw] += flux_dum[iw] * weight_slw[i-2,iw]\n",
    "        \n",
    "# sort the spectrum with the increase of wavelength\n",
    "sorter = np.argsort(wl_slw_wsum)\n",
    "wl_slw_wsum = wl_slw_wsum[sorter]\n",
    "flux_slw_wsum = flux_slw_wsum[sorter]\n",
    "\n",
    "# trim the spectrum like SPIRE-1D spectra in CDF archive\n",
    "flux_slw_wsum = flux_slw_wsum[wl_slw_wsum >= 310.]\n",
    "wl_slw_wsum = wl_slw_wsum[wl_slw_wsum >= 310.]\n",
    "\n",
    "# write the summed spectrum into ASCII file\n",
    "foo = open('/Users/yaolun/bhr71/calibration_testing/bhr71_slw_tophat_weighted_sum.txt','w')\n",
    "for wave in wl_slw_wsum:\n",
    "    foo.write('{} \\t {}\\n'.format(wave, flux_slw_wsum[wl_slw_wsum == wave][0]))\n",
    "foo.close()\n",
    "# save the SLW weight array\n",
    "np.save('/Users/yaolun/bhr71/calibration_testing/bhr71_slw_tophat_weight', weight_slw)"
   ]
  },
  {
   "cell_type": "code",
   "execution_count": null,
   "metadata": {
    "collapsed": false
   },
   "outputs": [],
   "source": [
    "plt.imshow(a+aperture, cmap='viridis')"
   ]
  },
  {
   "cell_type": "code",
   "execution_count": null,
   "metadata": {
    "collapsed": true
   },
   "outputs": [],
   "source": [
    "# SLW\n",
    "slw_area = 0\n",
    "slw_cen_area = Gaussian_anywhere(grid, 0, 0, avg_slw)\n",
    "for j in range(2,10):\n",
    "    ra_dum = (hdu[j].header['RA']-cen_ra)*np.cos(np.radians(cen_dec))*3600.\n",
    "    dec_dum = (hdu[j].header['DEC']-cen_dec) * 3600.\n",
    "    slw_area += Gaussian_anywhere(grid, ra_dum, dec_dum, avg_slw)\n",
    "\n",
    "print ssw_cen_area, slw_cen_area\n",
    "print ssw_area, slw_area, ssw_area/slw_area"
   ]
  }
 ],
 "metadata": {
  "kernelspec": {
   "display_name": "Python 2",
   "language": "python",
   "name": "python2"
  },
  "language_info": {
   "codemirror_mode": {
    "name": "ipython",
    "version": 2
   },
   "file_extension": ".py",
   "mimetype": "text/x-python",
   "name": "python",
   "nbconvert_exporter": "python",
   "pygments_lexer": "ipython2",
   "version": "2.7.11"
  }
 },
 "nbformat": 4,
 "nbformat_minor": 0
}
