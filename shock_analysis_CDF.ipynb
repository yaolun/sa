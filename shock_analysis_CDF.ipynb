{
 "cells": [
  {
   "cell_type": "markdown",
   "metadata": {},
   "source": [
    "##Shocl Analysis across CDF archive\n",
    "###pilot research regaring the observation using SOFIA"
   ]
  },
  {
   "cell_type": "markdown",
   "metadata": {},
   "source": [
    "###Shock origin in embedded protostars\n",
    "What fraction of the emission (cooling lines) is dominated by shocks in the outflow cavity?\n",
    "\n",
    "What fraction of those are C-shocks and J-shocks?\n",
    "\n",
    "High-J CO lines are correlated by shocks, how to quantify them? (Visser 2012)\n",
    "\n",
    "What trace C-shocks, and what trace J-shocks?  (H2O & OH?)"
   ]
  },
  {
   "cell_type": "code",
   "execution_count": 2,
   "metadata": {
    "collapsed": false
   },
   "outputs": [],
   "source": [
    "objlist = ['B1-a','B1-c','B335','BHR71','IRAS12496','FUOri','GSS30-IRS1','IRAS03245','IRAS03301','L1455-IRS3','L1157','L1551-IRS5',\\\n",
    "           'RCrA-IRS7B','TMC1A','TMC1','TMR1','V1057Cyg','V1331Cyg','V1515Cyg','VLA1623','WL12'] # ,'V1735Cyg'\n",
    "indir = '/home/bettyjo/yaolun/FWD_archive/CDF_archive/'\n",
    "plotdir = '/home/bettjo/yaolun/test/shock_analysis/'\n",
    "import os\n",
    "# if not os.path.exists(plotdir):\n",
    "#     os.makedirs(plotdir)"
   ]
  },
  {
   "cell_type": "markdown",
   "metadata": {},
   "source": [
    "###investigate the corelation between H2O and OH"
   ]
  },
  {
   "cell_type": "code",
   "execution_count": 7,
   "metadata": {
    "collapsed": false
   },
   "outputs": [],
   "source": [
    "def read_fitting_h2o(filepath,noiselevel):\n",
    "    from astropy.io import ascii\n",
    "    h2o_label = []\n",
    "    data = ascii.read(filepath)\n",
    "    header = data.colnames\n",
    "    data = data[(data['SNR']>noiselevel) & (data['Validity']!=0) & (data['Str(W/cm2)']>0)]\n",
    "\n",
    "    ind_h2o = []\n",
    "    for i in range(0, len(data['Line'])):\n",
    "        if 'H2O' in data['Line'][i]:\n",
    "            #wl, wl_sig, flux, flux_sig, E_u, A, g\n",
    "            ind_h2o.append(i)\n",
    "    h2o_data = data[ind_h2o]\n",
    "    return h2o_data, h2o_data['Line']\n",
    "def read_fitting_oh(filepath,noiselevel):\n",
    "    from astropy.io import ascii\n",
    "    oh_label = []\n",
    "    data = ascii.read(filepath)\n",
    "    header = data.colnames\n",
    "    data = data[(data['SNR']>noiselevel) & (data['Validity']!=0) & (data['Str(W/cm2)']>0)]\n",
    "\n",
    "    ind_oh = []\n",
    "    for i in range(0, len(data['Line'])):\n",
    "        if 'OH' in data['Line'][i]:\n",
    "            #wl, wl_sig, flux, flux_sig, E_u, A, g\n",
    "            ind_oh.append(i)\n",
    "    oh_data = data[ind_oh]\n",
    "    return oh_data, oh_data['Line']"
   ]
  },
  {
   "cell_type": "code",
   "execution_count": null,
   "metadata": {
    "collapsed": true
   },
   "outputs": [],
   "source": [
    "import astropy as apy\n",
    "h2o_tot = []\n",
    "oh_tot = []\n",
    "for obj in objlist:\n",
    "    # H2O\n",
    "    h2o_pacs, h2o_name_pacs = read_fitting_h2o(\\\n",
    "        indir+obj+'/pacs/advanced_products/'+obj+'_centralSpaxel_PointSourceCorrected_CorrectedYES_trim_lines.txt',3)\n",
    "    h2o_spire, h2o_name_spire = read_fitting_h2o(\\\n",
    "        indir+obj+'/spire/advanced_products/'+obj+'_spire_corrected_lines.txt',3)\n",
    "    h2o_data = apy.table.vstack((h2o_pacs, h2o_spire))\n",
    "    h2o_name = np.hstack((h2o_name_pacs.data, h2o_name_spire.data))\n",
    "    \n",
    "    # OH\n",
    "    oh_pacs, oh_name_pacs = read_fitting_oh(\\\n",
    "        indir+obj+'/pacs/advanced_products/'+obj+'_centralSpaxel_PointSourceCorrected_CorrectedYES_trim_lines.txt',3)\n",
    "    oh_spire, oh_name_spire = read_fitting_oh(\\\n",
    "        indir+obj+'/spire/advanced_products/'+obj+'_spire_corrected_lines.txt',3)\n",
    "    oh_data = apy.table.vstack((oh_pacs, oh_spire))\n",
    "    oh_name = np.hstack((oh_name_pacs.data, oh_name_spire.data))\n",
    "    \n",
    "    # do not count if either H2O or OH is not found\n",
    "    check = 0\n",
    "    if len(h2o_name) == 0:\n",
    "        print 'H2O is not found in %s.' % obj\n",
    "        check += 1\n",
    "    if len(oh_name) == 0:\n",
    "        print 'OH is not found in %s.' % obj\n",
    "        check += 1\n",
    "    if check != 0:\n",
    "        continue\n",
    "    \n",
    "    # store the total line fluxes\n",
    "    h2o_tot.append(np.sum(h2o_data['Str(W/cm2)']*1e4))\n",
    "    oh_tot.append(np.sum(oh_data['Str(W/cm2)']*1e4))\n",
    "    "
   ]
  }
 ],
 "metadata": {
  "kernelspec": {
   "display_name": "Python 2",
   "language": "python",
   "name": "python2"
  },
  "language_info": {
   "codemirror_mode": {
    "name": "ipython",
    "version": 2
   },
   "file_extension": ".py",
   "mimetype": "text/x-python",
   "name": "python",
   "nbconvert_exporter": "python",
   "pygments_lexer": "ipython2",
   "version": "2.7.9"
  }
 },
 "nbformat": 4,
 "nbformat_minor": 0
}
