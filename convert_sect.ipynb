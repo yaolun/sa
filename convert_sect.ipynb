{
 "cells": [
  {
   "cell_type": "code",
   "execution_count": 1,
   "metadata": {
    "collapsed": true
   },
   "outputs": [],
   "source": [
    "from astropy.io import ascii\n",
    "import numpy as np"
   ]
  },
  {
   "cell_type": "code",
   "execution_count": 2,
   "metadata": {
    "collapsed": true
   },
   "outputs": [],
   "source": [
    "data = ascii.read('/Users/yaolun/bhr71/calibration_testing/spire_sect_makiwa.txt', data_start=4)"
   ]
  },
  {
   "cell_type": "code",
   "execution_count": 10,
   "metadata": {
    "collapsed": false
   },
   "outputs": [],
   "source": [
    "wl_ssw, flux_ssw = data['wave_segm2_0'], data['flux_segm2_0']\n",
    "wl_slw, flux_slw = data['wave_segm1_0'], data['flux_segm1_0']\n",
    "# trim\n",
    "trimmer_ssw = (wl_ssw >= 195.) & (wl_ssw < 310.)\n",
    "trimmer_slw = wl_slw >= 310.\n",
    "\n",
    "wl_ssw, flux_ssw = wl_ssw[trimmer_ssw], flux_ssw[trimmer_ssw]\n",
    "wl_slw, flux_slw = wl_slw[trimmer_slw], flux_slw[trimmer_slw]\n",
    "\n",
    "# sort\n",
    "sorter_ssw = np.argsort(wl_ssw)\n",
    "sorter_slw = np.argsort(wl_slw)\n",
    "\n",
    "wl_ssw, flux_ssw = wl_ssw[sorter_ssw], flux_ssw[sorter_ssw]\n",
    "wl_slw, flux_slw = wl_slw[sorter_slw], flux_slw[sorter_slw]"
   ]
  },
  {
   "cell_type": "code",
   "execution_count": 11,
   "metadata": {
    "collapsed": false
   },
   "outputs": [],
   "source": [
    "# write into file\n",
    "foo = open('/Users/yaolun/bhr71/best_calibrated/BHR71_spire_corrected_yly.txt','w')\n",
    "foo.write('%s \\t %s \\n' % ('Wavelength(um)', 'Flux(Jy)'))\n",
    "for i in range(len(wl_ssw)):\n",
    "    foo.write('%f \\t %f \\n' % (wl_ssw[i], flux_ssw[i]))\n",
    "for i in range(len(wl_slw)):\n",
    "    foo.write('%f \\t %f \\n' % (wl_slw[i], flux_slw[i]))\n",
    "foo.close()"
   ]
  },
  {
   "cell_type": "code",
   "execution_count": null,
   "metadata": {
    "collapsed": true
   },
   "outputs": [],
   "source": []
  }
 ],
 "metadata": {
  "kernelspec": {
   "display_name": "Python 2",
   "language": "python",
   "name": "python2"
  },
  "language_info": {
   "codemirror_mode": {
    "name": "ipython",
    "version": 2
   },
   "file_extension": ".py",
   "mimetype": "text/x-python",
   "name": "python",
   "nbconvert_exporter": "python",
   "pygments_lexer": "ipython2",
   "version": "2.7.11"
  }
 },
 "nbformat": 4,
 "nbformat_minor": 0
}
