{
 "cells": [
  {
   "cell_type": "code",
   "execution_count": 61,
   "metadata": {
    "collapsed": false
   },
   "outputs": [],
   "source": [
    "%matplotlib inline\n",
    "import numpy as np\n",
    "import matplotlib.pyplot as plt\n",
    "import seaborn as sns\n",
    "from astropy.io import ascii\n",
    "import matplotlib.mlab as mlab"
   ]
  },
  {
   "cell_type": "code",
   "execution_count": 86,
   "metadata": {
    "collapsed": true
   },
   "outputs": [],
   "source": [
    "def getCO(linename, filelist, obj=None):\n",
    "    from astropy.io import ascii\n",
    "    from astropy.table import vstack\n",
    "    \n",
    "    # vstack the fitting results from separated files\n",
    "    for foo in filelist:\n",
    "        if filelist.index(foo) == 0:\n",
    "            data = ascii.read(foo)\n",
    "        else:\n",
    "            data = vstack([data, ascii.read(foo)])\n",
    "    \n",
    "    if obj != None:\n",
    "        selector = (data['Object'] == obj) & (data['Line'] == linename) & (data['Validity'] == 1)\n",
    "    else:\n",
    "        selector = (data['Line'] == linename) & (data['Validity'] == 1)\n",
    "    \n",
    "    if 'Str(W/cm2)' in data.colnames:\n",
    "        flux_key = 'Str(W/cm2)'\n",
    "    else:\n",
    "        flux_key = 'Str(W/cm2/as2)'\n",
    "    \n",
    "    flux = data[flux_key][selector]\n",
    "    ra = data['RA(deg)'][selector]\n",
    "    dec = data['Dec(deg)'][selector]\n",
    "    \n",
    "    return flux, ra, dec"
   ]
  },
  {
   "cell_type": "code",
   "execution_count": null,
   "metadata": {
    "collapsed": false
   },
   "outputs": [],
   "source": [
    "# Create figure to be plotted later\n",
    "fig = plt.figure(figsize=(12,12))\n",
    "sns.set(style=\"dark\")\n",
    "\n",
    "# For line in SPIRE\n",
    "linename = 'CO13-12'\n",
    "obj = 'BHR71'\n",
    "# construct filelist\n",
    "rootpath = '/Volumes/SD-Mac/CDF_archive_v2/'\n",
    "spire_pix = ['SLWA1','SLWA2','SLWA3','SLWB1','SLWB2',\n",
    "             'SLWB3','SLWB4','SLWC1','SLWC2','SLWC3',\n",
    "             'SLWC4','SLWC5','SLWD1','SLWD2','SLWD3',\n",
    "             'SLWD4','SLWE1','SLWE2','SLWE3',\n",
    "             'SSWA1','SSWA2','SSWA3','SSWA4','SSWB1',\n",
    "             'SSWB2','SSWB3','SSWB4','SSWB5','SSWC1',\n",
    "             'SSWC2','SSWC3','SSWC4','SSWC5','SSWC6',\n",
    "             'SSWD1','SSWD2','SSWD3','SSWD4','SSWD6',\n",
    "             'SSWD7','SSWE1','SSWE2','SSWE3','SSWE4',\n",
    "             'SSWE5','SSWE6','SSWF1','SSWF2','SSWF3',\n",
    "             'SSWF5','SSWG1','SSWG2','SSWG3','SSWG4']\n",
    "for i in range(len(spire_pix)):\n",
    "    spire_pix[i] = rootpath+obj+'/spire/advanced_products/cube/'+obj+'_'+spire_pix[i]+'_lines.txt'\n",
    "\n",
    "flux, ra, dec = getCO(linename, spire_pix)\n",
    "\n",
    "# coordinates switch from absolute to relative\n",
    "ra_cen = ascii.read(rootpath+obj+'/spire/advanced_products/cube/'+obj+'_SLWC3_lines.txt')['RA(deg)'].data[0]\n",
    "dec_cen = ascii.read(rootpath+obj+'/spire/advanced_products/cube/'+obj+'_SLWC3_lines.txt')['Dec(deg)'].data[0]\n",
    "ra = (ra-ra_cen)*3600*np.cos(np.radians(dec))\n",
    "dec = (dec-dec_cen)*3600\n",
    "\n",
    "# re-grid\n",
    "xi = np.linspace(-100, 100, 500)\n",
    "yi = np.linspace(-100, 100, 500)\n",
    "fluxi = mlab.griddata(ra, dec, flux, xi, yi, interp='nn')\n",
    "\n",
    "# plot\n",
    "ax = fig.add_subplot(111)\n",
    "cmap = sns.dark_palette(\"red\", as_cmap=True)\n",
    "ax.contour(xi, yi, fluxi, 10, linewidths=2, cmap=cmap)\n",
    "ax.set_aspect('equal', 'datalim')\n",
    "\n",
    "\n",
    "# For line in PACS\n",
    "linename = 'CO22-21'\n",
    "obj = 'BHR71'\n",
    "# construct filelist\n",
    "rootpath = '/Volumes/SD-Mac/CDF_archive_v2/'\n",
    "pacs_pix = range(1,26)\n",
    "for i in range(len(pacs_pix)):\n",
    "    pacs_pix[i] = rootpath+obj+'/pacs/advanced_products/cube/'+obj+'_pacs_pixel'+str(pacs_pix[i])+'_hsa_lines.txt'\n",
    "\n",
    "flux, ra, dec = getCO(linename, pacs_pix)\n",
    "\n",
    "# coordinates switch from absolute to relative\n",
    "ra_cen = ascii.read(rootpath+obj+'/pacs/advanced_products/cube/'+obj+'_pacs_pixel13_hsa_lines.txt')['RA(deg)'].data[0]\n",
    "dec_cen = ascii.read(rootpath+obj+'/pacs/advanced_products/cube/'+obj+'_pacs_pixel13_hsa_lines.txt')['Dec(deg)'].data[0]\n",
    "ra = (ra-ra_cen)*3600*np.cos(np.radians(dec))\n",
    "dec = (dec-dec_cen)*3600\n",
    "\n",
    "# re-grid\n",
    "xi = np.linspace(-100, 100, 500)\n",
    "yi = np.linspace(-100, 100, 500)\n",
    "fluxi = mlab.griddata(ra, dec, flux, xi, yi, interp='nn')\n",
    "\n",
    "# plot\n",
    "cmap = sns.dark_palette(\"blue\", as_cmap=True)\n",
    "ax.contour(xi, yi, fluxi, 10, linewidths=2, cmap=cmap)\n",
    "\n",
    "ax.set_xlabel('RA Offset (arcsec)', fontsize=20)\n",
    "ax.set_ylabel('Dec Offset (arcsec)', fontsize=20)\n",
    "ax.tick_params('both',labelsize=18,width=2,which='major',pad=15)\n",
    "\n",
    "fig.savefig('/Users/yaolun/bhr71/for_Bourke/CO_contours.pdf', format='pdf', dpi=300, bbox_inches='tight')"
   ]
  },
  {
   "cell_type": "code",
   "execution_count": null,
   "metadata": {
    "collapsed": true
   },
   "outputs": [],
   "source": []
  }
 ],
 "metadata": {
  "kernelspec": {
   "display_name": "Python 2",
   "language": "python",
   "name": "python2"
  },
  "language_info": {
   "codemirror_mode": {
    "name": "ipython",
    "version": 2
   },
   "file_extension": ".py",
   "mimetype": "text/x-python",
   "name": "python",
   "nbconvert_exporter": "python",
   "pygments_lexer": "ipython2",
   "version": "2.7.11"
  }
 },
 "nbformat": 4,
 "nbformat_minor": 0
}
