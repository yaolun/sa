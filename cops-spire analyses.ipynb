{
 "cells": [
  {
   "cell_type": "code",
   "execution_count": 1,
   "metadata": {
    "collapsed": true
   },
   "outputs": [],
   "source": [
    "# This is a Python 3 script"
   ]
  },
  {
   "cell_type": "code",
   "execution_count": 2,
   "metadata": {
    "collapsed": true
   },
   "outputs": [],
   "source": [
    "# archive_dir = '/Volumes/SD-Mac/CDF_archive_v2/'\n",
    "archive_dir = '/Users/yaolun/data/CDF_archive_v2/'"
   ]
  },
  {
   "cell_type": "markdown",
   "metadata": {},
   "source": [
    "# Source Information"
   ]
  },
  {
   "cell_type": "code",
   "execution_count": 3,
   "metadata": {
    "collapsed": true
   },
   "outputs": [],
   "source": [
    "from astropy.io import ascii\n",
    "# distance\n",
    "dist = ascii.read('/Users/yaolun/data/cops-spire_distance.txt')\n",
    "\n",
    "# source list\n",
    "obj_list = ['RCrA-IRS7B','RCrA-IRS7C','HH46','L723-MM','L1014',\n",
    "            'L1157','Ced110','BHR71','IRAS03245','L1551-IRS5',\n",
    "            'L1455-IRS3','B1-a','B1-c','IRAS03301','TMR1',\n",
    "            'TMC1A','TMC1','IRAS15398','RNO91','GSS30-IRS1',\n",
    "            'VLA1623','WL12','RCrA-IRS5A','L483','B335',\n",
    "            'DKCha']\n",
    "l_bol_list = [19.0, 44.4, 23.2, 3.3, 0.327,\n",
    "              5.41, 0.89, 13.5, 6.13, 23.5,\n",
    "              0.521, 2.33, 4.4, 3.81, 1.96,\n",
    "              2.62, 0.792, 1.49, 2.26, 19.7,\n",
    "              5.36, 2.29, 4.61, 8.78, 0.564,\n",
    "              34.7]\n",
    "t_bol_list = [51.3, 98.3, 105.0, 66.7, 63.5,\n",
    "              41.8, 53.6, 51.1, 48.4, 109.0,\n",
    "              129.0, 80.5, 55.8, 361.0, 126.0,\n",
    "              158.0, 149.0, 41.6, 231.0, 129.0,\n",
    "              33.1, 207.0, 115.0, 49.3, 45.4,\n",
    "              597.0]\n",
    "alpha500_list = [2.76, 2.82, 2.42, 2.13, 1.82,\n",
    "                 2.28, 2.32, 2.58, 2.46, 2.72,\n",
    "                 1.57, 1.74, 2.08, 2.05, 2.37,\n",
    "                 2.27, 1.99, 2.45, 2.44, 2.65,\n",
    "                 2.65, 2.39, 2.56, 2.52, 2.30,\n",
    "                 2.06]\n",
    "alpha500_err_list = [0.04, 0.05, 0.03, 0.02, 0.01,\n",
    "                     0.02, 0.02, 0.01, 0.02, 0.007,\n",
    "                     0.02, 0.03, 0.01, 0.02, 0.02,\n",
    "                     0.01, 0.01, 0.01, 0.01, 0.05,\n",
    "                     0.02, 0.02, 0.03, 0.01, 0.01,\n",
    "                     0.03]\n",
    "alpha_nir_list = [2.68, -999, 0.71, 1.50, 0.75,\n",
    "                  0.79, 1.99, 1.95, 2.45, 1.43,\n",
    "                  0.99, 1.71, 2.91, 0.14, 1.02,\n",
    "                  -0.15, 0.55, 1.32, -999, 1.13,\n",
    "                  -999, 2.49, 0.40, 2.05, 0.74,\n",
    "                  -0.63]\n",
    "alpha_nir_err_list = [1.19, -999, 0.03, 0.32, 0.24,\n",
    "                      0.37, 0.54, 0.33, 0.75, 0.17,\n",
    "                      0.23, 0.39, 1.45, 0.08, 0.33,\n",
    "                      0.84, 0.04, 0.15, -999, 0.19,\n",
    "                      -999, 0.48, 0.30, 1.12, 0.18,\n",
    "                      0.24]"
   ]
  },
  {
   "cell_type": "markdown",
   "metadata": {},
   "source": [
    "# Evolutionary Indicators - Submillimeter Luminosity"
   ]
  },
  {
   "cell_type": "code",
   "execution_count": 4,
   "metadata": {
    "collapsed": true
   },
   "outputs": [],
   "source": [
    "def lsubmm(low_wave, spec, dist):\n",
    "    \"\"\"\n",
    "    spec = 'Wavelength(um)' and 'Flux_Density(Jy)'\n",
    "    dist: distance in parsec\n",
    "    \"\"\"\n",
    "    import sys\n",
    "    sys.path.append('/Users/yaolun/programs/misc/hyperion/')\n",
    "    from l_bol import l_bol\n",
    "    \n",
    "    l = l_bol(spec['Wavelength(um)'][spec['Wavelength(um)'] >= low_wave],\n",
    "              spec['Flux_Density(Jy)'][spec['Wavelength(um)'] >= low_wave], dist)\n",
    "    return l.data[0]"
   ]
  },
  {
   "cell_type": "code",
   "execution_count": 20,
   "metadata": {
    "collapsed": false
   },
   "outputs": [
    {
     "name": "stdout",
     "output_type": "stream",
     "text": [
      "RCrA-IRS7B 0.150941157376 19.0 51.3 125.876867054\n",
      "RCrA-IRS7C 0.152121038109 44.4 98.3 291.872843836\n",
      "HH46 0.189732597922 23.2 105.0 122.277353781\n",
      "L723-MM 0.0657261782949 3.3 66.7 50.2083049039\n",
      "L1014 0.0241873519017 0.327 63.5 13.5194626236\n",
      "L1157 0.106669579276 5.41 41.8 50.717365126\n",
      "Ced110 0.0207226612071 0.89 53.6 42.9481518374\n",
      "BHR71 0.161673190665 13.5 51.1 83.5017849559\n",
      "IRAS03245 0.0512886566335 6.13 48.4 119.519605355\n",
      "L1551-IRS5 0.0777980776847 23.5 109.0 302.064018795\n",
      "L1455-IRS3 0.0458527342071 0.521 129.0 11.3624630899\n",
      "B1-a 0.0934436647323 2.33 80.5 24.9348097239\n",
      "B1-c 0.115691858541 4.4 55.8 38.0320625453\n",
      "IRAS03301 0.0483955856362 3.81 361.0 78.7261885545\n",
      "TMR1 0.0149406509961 1.96 126.0 131.185716105\n",
      "TMC1A 0.0153518791321 2.62 158.0 170.663146671\n",
      "TMC1 0.015393789212 0.792 149.0 51.4493208326\n",
      "IRAS15398 0.0323112225541 1.49 41.6 46.1140087629\n",
      "RNO91 0.0153221845801 2.26 231.0 147.498549452\n",
      "GSS30-IRS1 0.0592557953155 19.7 129.0 332.456933454\n",
      "VLA1623 0.125718358942 5.36 33.1 42.6349822343\n",
      "WL12 0.0328013009094 2.29 207.0 69.8143042048\n",
      "RCrA-IRS5A 0.0713449203946 4.61 115.0 64.6156723492\n",
      "L483 0.107025399264 8.78 49.3 82.0366012212\n",
      "B335 0.0119918402352 0.564 45.4 47.0319808252\n",
      "DKCha 0.0255467051256 34.7 597.0 1358.29649379\n"
     ]
    },
    {
     "data": {
      "image/png": "[encoded data removed]",
      "text/plain": [
       "<matplotlib.figure.Figure at 0x10d536710>"
      ]
     },
     "metadata": {},
     "output_type": "display_data"
    }
   ],
   "source": [
    "%matplotlib inline\n",
    "import matplotlib.pyplot as plt\n",
    "\n",
    "fig = plt.figure()\n",
    "ax = fig.add_subplot(111)\n",
    "\n",
    "lsubmm_list = []\n",
    "for o in obj_list:\n",
    "    spec = ascii.read(archive_dir+o+'/spire/data/'+o+'_spire_corrected.txt')\n",
    "    l = lsubmm(350, spec, dist['distance'][dist['object'] == o])\n",
    "    lsubmm_list.append(l)\n",
    "    print(o, l, l_bol_list[obj_list.index(o)], t_bol_list[obj_list.index(o)], l_bol_list[obj_list.index(o)]/l)\n",
    "    if o != 'DKCha':\n",
    "        ax.errorbar(l_bol_list[obj_list.index(o)]/l, alpha500_list[obj_list.index(o)],\n",
    "                    yerr=alpha500_err_list[obj_list.index(o)], marker='o', color='b', markersize=5)\n",
    "    else:\n",
    "        ax.errorbar(l_bol_list[obj_list.index(o)]/l-1000, alpha500_list[obj_list.index(o)],\n",
    "                    yerr=alpha500_err_list[obj_list.index(o)], marker='o', color='r', markersize=5)    \n",
    "ax.set_xlim([0,400])\n",
    "ax.set_ylim([1.5, 3.0])\n",
    "\n",
    "ax.set_xlabel(r'$L_{bol}/L_{submm}$', fontsize=20)\n",
    "ax.set_ylabel(r'$\\alpha 500$', fontsize=20)\n",
    "ax.tick_params('both',labelsize=16,width=1.5,which='major',pad=5,length=5)\n",
    "ax.tick_params('both',labelsize=16,width=1.5,which='minor',pad=5,length=2.5)\n",
    "\n",
    "[ax.spines[axis].set_linewidth(1.5) for axis in ['top','bottom','left','right']]\n",
    "ax.minorticks_on()\n",
    "\n",
    "fig.savefig('/Users/yaolun/Dropbox/cops-spire/figures/alpha500_lsmm.pdf', format='pdf', dpi=300, bbox_inches='tight')"
   ]
  },
  {
   "cell_type": "code",
   "execution_count": 26,
   "metadata": {
    "collapsed": false
   },
   "outputs": [
    {
     "data": {
      "image/png": "[encoded data removed]",
      "text/plain": [
       "<matplotlib.figure.Figure at 0x110430c50>"
      ]
     },
     "metadata": {},
     "output_type": "display_data"
    }
   ],
   "source": [
    "fig = plt.figure()\n",
    "ax = fig.add_subplot(111)\n",
    "\n",
    "ax.errorbar(t_bol_list, alpha500_list, yerr=alpha500_err_list, marker='o', linestyle='None', color='b', markersize=5)\n",
    "ax.set_ylim([1.5, 3.0])\n",
    "\n",
    "ax.set_xlabel(r'$T_{bol}\\,[K]$', fontsize=20)\n",
    "ax.set_ylabel(r'$\\alpha 500$', fontsize=20)\n",
    "ax.tick_params('both',labelsize=16,width=1.5,which='major',pad=5,length=5)\n",
    "ax.tick_params('both',labelsize=16,width=1.5,which='minor',pad=5,length=2.5)\n",
    "\n",
    "[ax.spines[axis].set_linewidth(1.5) for axis in ['top','bottom','left','right']]\n",
    "ax.minorticks_on()\n",
    "\n",
    "fig.savefig('/Users/yaolun/Dropbox/cops-spire/figures/alpha500_tbol.pdf', format='pdf', dpi=300, bbox_inches='tight')"
   ]
  },
  {
   "cell_type": "code",
   "execution_count": 33,
   "metadata": {
    "collapsed": false
   },
   "outputs": [
    {
     "data": {
      "image/png": "[encoded data removed]",
      "text/plain": [
       "<matplotlib.figure.Figure at 0x110d55048>"
      ]
     },
     "metadata": {},
     "output_type": "display_data"
    }
   ],
   "source": [
    "import numpy as np\n",
    "fig = plt.figure()\n",
    "ax = fig.add_subplot(111)\n",
    "\n",
    "ax.plot(t_bol_list, np.array(l_bol_list)/np.array(lsubmm_list), marker='o', linestyle='None', color='b', markersize=5)\n",
    "\n",
    "ax.set_xlabel(r'$T_{bol}\\,[K]$', fontsize=20)\n",
    "ax.set_ylabel(r'$L_{bol}/L_{submm}$', fontsize=20)\n",
    "ax.tick_params('both',labelsize=16,width=1.5,which='major',pad=5,length=5)\n",
    "ax.tick_params('both',labelsize=16,width=1.5,which='minor',pad=5,length=2.5)\n",
    "\n",
    "ax.set_xscale('log')\n",
    "ax.set_yscale('log')\n",
    "\n",
    "[ax.spines[axis].set_linewidth(1.5) for axis in ['top','bottom','left','right']]\n",
    "ax.minorticks_on()\n",
    "\n",
    "fig.savefig('/Users/yaolun/Dropbox/cops-spire/figures/lsmm_tbol.pdf', format='pdf', dpi=300, bbox_inches='tight')"
   ]
  },
  {
   "cell_type": "markdown",
   "metadata": {},
   "source": [
    "# Alpha at 500 um"
   ]
  },
  {
   "cell_type": "code",
   "execution_count": 6,
   "metadata": {
    "collapsed": false
   },
   "outputs": [
    {
     "name": "stdout",
     "output_type": "stream",
     "text": [
      "RCrA-IRS7B 2.767245\n",
      "RCrA-IRS7C 2.812113\n",
      "HH46 2.432405\n",
      "L723-MM 2.155815\n",
      "L1014 1.854385\n",
      "L1157 2.273077\n",
      "Ced110 2.340313\n",
      "BHR71 2.589369\n",
      "IRAS03245 2.472901\n",
      "L1551-IRS5 2.736309\n",
      "L1455-IRS3 1.54925\n",
      "B1-a 1.743049\n",
      "B1-c 2.084786\n",
      "IRAS03301 2.067377\n",
      "TMR1 2.386842\n",
      "TMC1A 2.28547\n",
      "TMC1 2.004424\n",
      "IRAS15398 2.437274\n",
      "RNO91 2.456058\n",
      "GSS30-IRS1 2.66792\n",
      "VLA1623 2.660031\n",
      "WL12 2.409173\n",
      "RCrA-IRS5A 2.56084\n",
      "L483 2.529062\n",
      "B335 2.297253\n",
      "DKCha 2.077604\n"
     ]
    }
   ],
   "source": [
    "# alpha500_list = []\n",
    "for o in obj_list:\n",
    "#     alpha500_list.append(ascii.read(archive_dir+o+'/spire/data/'+o+'_alpha.txt')['500um'].data[0])\n",
    "    print(o, ascii.read(archive_dir+o+'/spire/data/'+o+'_alpha.txt')['500um'].data[0])"
   ]
  },
  {
   "cell_type": "markdown",
   "metadata": {},
   "source": [
    "## $\\alpha_{NIR}$"
   ]
  },
  {
   "cell_type": "code",
   "execution_count": 34,
   "metadata": {
    "collapsed": false
   },
   "outputs": [
    {
     "data": {
      "text/plain": [
       "<matplotlib.text.Text at 0x10fbb7c88>"
      ]
     },
     "execution_count": 34,
     "metadata": {},
     "output_type": "execute_result"
    },
    {
     "data": {
      "image/png": "[encoded data removed]",
      "text/plain": [
       "<matplotlib.figure.Figure at 0x110d39518>"
      ]
     },
     "metadata": {},
     "output_type": "display_data"
    }
   ],
   "source": [
    "# Alpha NIR vs L_bol/L_submm\n",
    "import numpy as np\n",
    "selector = (np.array(alpha_nir_list) != -999)\n",
    "plt.errorbar(np.array(l_bol_list)[selector]/np.array(lsubmm_list)[selector],\n",
    "             np.array(alpha_nir_list)[selector], \n",
    "             yerr=np.array(alpha_nir_err_list)[selector],\n",
    "             marker='o', linestyle='None')\n",
    "ax = plt.axes()\n",
    "ax.set_xlim([0,400])\n",
    "ax.set_xlabel(r'L$_{bol}$/L$_{submm}$', fontsize=20)\n",
    "ax.set_ylabel(r'$\\alpha_{NIR}$', fontsize=20)"
   ]
  },
  {
   "cell_type": "code",
   "execution_count": 36,
   "metadata": {
    "collapsed": false
   },
   "outputs": [
    {
     "data": {
      "text/plain": [
       "<matplotlib.text.Text at 0x11086f828>"
      ]
     },
     "execution_count": 36,
     "metadata": {},
     "output_type": "execute_result"
    },
    {
     "data": {
      "image/png": "[encoded data removed]",
      "text/plain": [
       "<matplotlib.figure.Figure at 0x110d14c88>"
      ]
     },
     "metadata": {},
     "output_type": "display_data"
    }
   ],
   "source": [
    "# Alpha NIR vs T_bol\n",
    "import numpy as np\n",
    "selector = (np.array(alpha_nir_list) != -999)\n",
    "plt.errorbar(np.array(t_bol_list)[selector],\n",
    "             np.array(alpha_nir_list)[selector], \n",
    "             yerr=np.array(alpha_nir_err_list)[selector],\n",
    "             marker='o', linestyle='None')\n",
    "ax = plt.axes()\n",
    "ax.set_xlim([0,400])\n",
    "ax.set_xlabel(r'T$_{bol}$ [K]', fontsize=20)\n",
    "ax.set_ylabel(r'$\\alpha_{NIR}$', fontsize=20)"
   ]
  },
  {
   "cell_type": "code",
   "execution_count": 35,
   "metadata": {
    "collapsed": false
   },
   "outputs": [
    {
     "data": {
      "text/plain": [
       "<matplotlib.text.Text at 0x110712860>"
      ]
     },
     "execution_count": 35,
     "metadata": {},
     "output_type": "execute_result"
    },
    {
     "data": {
      "image/png": "[encoded data removed]",
      "text/plain": [
       "<matplotlib.figure.Figure at 0x110857ac8>"
      ]
     },
     "metadata": {},
     "output_type": "display_data"
    }
   ],
   "source": [
    "# Alpha NIR vs Alpha 500 um\n",
    "import numpy as np\n",
    "selector = (np.array(alpha_nir_list) != -999)\n",
    "plt.errorbar(np.array(alpha500_list)[selector],\n",
    "             np.array(alpha_nir_list)[selector], \n",
    "             yerr=np.array(alpha_nir_err_list)[selector],\n",
    "             marker='o', linestyle='None')\n",
    "ax = plt.axes()\n",
    "ax.set_xlabel(r'$\\alpha_{500\\,\\mu m}$', fontsize=20)\n",
    "ax.set_ylabel(r'$\\alpha_{NIR}$', fontsize=20)"
   ]
  },
  {
   "cell_type": "markdown",
   "metadata": {
    "collapsed": true
   },
   "source": [
    "## Line detection statistics"
   ]
  },
  {
   "cell_type": "code",
   "execution_count": 64,
   "metadata": {
    "collapsed": false
   },
   "outputs": [
    {
     "name": "stdout",
     "output_type": "stream",
     "text": [
      "(['IRAS03245', 'IRAS03301', 'TMC1', 'L1455-IRS3', 'WL12', 'DKCha', 'L723-MM', 'L1014', 'TMC1A', 'HH100', 'L1157', 'Ced110', 'VLA1623', 'B335', 'HH46', 'IRAS15398', 'RCrA-IRS5A', 'RCrA-IRS7B', 'RCrA-IRS7C', 'RNO91', 'BHR71', 'GSS30-IRS1', 'L483', 'TMR1', 'B1-a', 'L1551-IRS5', 'B1-c'], 27)\n",
      "('CO', ['L1014'])\n",
      "('13CO', ['IRAS03245', 'IRAS03301', 'TMC1', 'L1455-IRS3', 'DKCha', 'L723-MM', 'L1014', 'TMC1A', 'L1157', 'B335', 'HH46', 'IRAS15398', 'RNO91', 'BHR71', 'L483', 'TMR1', 'B1-a', 'B1-c'])\n",
      "('HCO+', ['IRAS03245', 'IRAS03301', 'TMC1', 'L1455-IRS3', 'WL12', 'DKCha', 'L723-MM', 'L1014', 'TMC1A', 'L1157', 'Ced110', 'VLA1623', 'B335', 'HH46', 'IRAS15398', 'RNO91', 'BHR71', 'L483', 'TMR1', 'B1-a', 'L1551-IRS5', 'B1-c'])\n",
      "('H2O', ['Ced110', 'HH46', 'RNO91'])\n",
      "('OI3P1-3P2', ['L1455-IRS3', 'L723-MM', 'HH100', 'Ced110', 'HH46', 'IRAS15398', 'RNO91', 'L483', 'B1-c'])\n",
      "('OI3P0-3P1', ['IRAS03245', 'L1455-IRS3', 'WL12', 'L723-MM', 'L1014', 'TMC1A', 'HH100', 'L1157', 'Ced110', 'B335', 'HH46', 'IRAS15398', 'RNO91', 'BHR71', 'L483', 'TMR1', 'B1-c'])\n",
      "('OI', ['L1455-IRS3', 'L723-MM', 'HH100', 'Ced110', 'HH46', 'IRAS15398', 'RNO91', 'L483', 'B1-c'])\n",
      "('CI', ['L1157', 'B335'])\n",
      "('CII', ['IRAS03245', 'L1455-IRS3', 'DKCha', 'L723-MM', 'TMC1A', 'HH100', 'L1157', 'Ced110', 'B335', 'HH46', 'IRAS15398', 'RNO91', 'L483', 'TMR1'])\n"
     ]
    }
   ],
   "source": [
    "%matplotlib inline\n",
    "import os\n",
    "from astropy.io import ascii\n",
    "import numpy as np\n",
    "\n",
    "data = ascii.read(archive_dir+'CDF_archive_v2_lines.txt')\n",
    "total_obj = list(set(data['Object']))\n",
    "# print(set(data['Object']), len(list(set(data['Object']))))\n",
    "\n",
    "print(total_obj, len(total_obj))\n",
    "\n",
    "def DetectionInSource(species, data):\n",
    "    \n",
    "    # get the index of the line list for the given species\n",
    "    selector = np.zeros_like(data['Line'], dtype=bool)\n",
    "    for i in range(len(data['Line'])):\n",
    "        if species in data['Line'][i]:\n",
    "            selector[i] = True\n",
    "            \n",
    "    # if species == 'CO', check further to exclude 13CO\n",
    "    if species == 'CO':\n",
    "        for i in range(len(data['Line'])):\n",
    "            if '13CO' in data['Line'][i]:\n",
    "                selector[i] = False\n",
    "    \n",
    "    obj_detection = list(set(data['Object'][selector]))\n",
    "    \n",
    "    return obj_detection\n",
    "\n",
    "species_list = ['CO', '13CO', 'HCO+', 'H2O', 'OI3P1-3P2', 'OI3P0-3P1', 'OI', 'CI','CII']\n",
    "cutter = (data['SNR'] >= 5) & (data['Validity'] == 1) \n",
    "# positiver = (data['Str(W/cm2)'] >= 0)\n",
    "for s in species_list:\n",
    "    print(s, [obj for obj in total_obj if (obj not in DetectionInSource(s, data[cutter]))])"
   ]
  },
  {
   "cell_type": "code",
   "execution_count": 65,
   "metadata": {
    "collapsed": false
   },
   "outputs": [
    {
     "name": "stdout",
     "output_type": "stream",
     "text": [
      "('CO', ['L1014'])\n",
      "('13CO', ['IRAS03245', 'IRAS03301', 'TMC1', 'L1455-IRS3', 'DKCha', 'L723-MM', 'L1014', 'TMC1A', 'L1157', 'B335', 'HH46', 'IRAS15398', 'RNO91', 'BHR71', 'L483', 'TMR1', 'B1-a', 'B1-c'])\n",
      "('HCO+', ['IRAS03245', 'IRAS03301', 'TMC1', 'L1455-IRS3', 'WL12', 'DKCha', 'L723-MM', 'L1014', 'TMC1A', 'L1157', 'Ced110', 'VLA1623', 'B335', 'HH46', 'IRAS15398', 'RNO91', 'BHR71', 'L483', 'TMR1', 'B1-a', 'L1551-IRS5', 'B1-c'])\n",
      "('H2O', ['Ced110', 'HH46', 'RNO91'])\n",
      "('OI3P1-3P2', ['L1455-IRS3', 'L723-MM', 'HH100', 'Ced110', 'HH46', 'IRAS15398', 'RNO91', 'L483', 'B1-c'])\n",
      "('OI3P0-3P1', ['IRAS03245', 'L1455-IRS3', 'WL12', 'L723-MM', 'L1014', 'TMC1A', 'HH100', 'L1157', 'Ced110', 'B335', 'HH46', 'IRAS15398', 'RNO91', 'BHR71', 'L483', 'TMR1', 'B1-c'])\n",
      "('OI', ['L1455-IRS3', 'L723-MM', 'HH100', 'Ced110', 'HH46', 'IRAS15398', 'RNO91', 'L483', 'B1-c'])\n",
      "('CI', ['L1157', 'B335', 'BHR71'])\n",
      "('CII', ['IRAS03245', 'L1455-IRS3', 'WL12', 'DKCha', 'L723-MM', 'TMC1A', 'HH100', 'L1157', 'Ced110', 'VLA1623', 'B335', 'HH46', 'IRAS15398', 'RNO91', 'BHR71', 'GSS30-IRS1', 'L483', 'TMR1', 'B1-c'])\n"
     ]
    }
   ],
   "source": [
    "# only count lines with positive fluxes\n",
    "species_list = ['CO', '13CO', 'HCO+', 'H2O', 'OI3P1-3P2', 'OI3P0-3P1', 'OI', 'CI','CII']\n",
    "cutter = (data['SNR'] >= 5) & (data['Validity'] == 1) & (data['Str(W/cm2)'] >= 0)\n",
    "for s in species_list:\n",
    "    print(s, [obj for obj in total_obj if (obj not in DetectionInSource(s, data[cutter]))])"
   ]
  },
  {
   "cell_type": "code",
   "execution_count": 79,
   "metadata": {
    "collapsed": false
   },
   "outputs": [
    {
     "ename": "SyntaxError",
     "evalue": "invalid syntax (<ipython-input-79-cc2cac0f0281>, line 3)",
     "output_type": "error",
     "traceback": [
      "\u001b[0;36m  File \u001b[0;32m\"<ipython-input-79-cc2cac0f0281>\"\u001b[0;36m, line \u001b[0;32m3\u001b[0m\n\u001b[0;31m    print(s, [obj for obj in total_obj if (obj not in DetectionInSource(s, data[cutter & ]))])\u001b[0m\n\u001b[0m                                                                                         ^\u001b[0m\n\u001b[0;31mSyntaxError\u001b[0m\u001b[0;31m:\u001b[0m invalid syntax\n"
     ]
    }
   ],
   "source": [
    "species_list = ['CO4-3','CO5-4','CO6-5','CO7-6','CO8-7','CO9-8','CO10-9','CO11-10','CO12-11','CO13-12','CO14-13']\n",
    "for s in species_list:\n",
    "    print(s, [obj for obj in total_obj if (obj not in DetectionInSource(s, data[cutter & ]))])"
   ]
  },
  {
   "cell_type": "code",
   "execution_count": 61,
   "metadata": {
    "collapsed": false
   },
   "outputs": [
    {
     "name": "stdout",
     "output_type": "stream",
     "text": [
      "('13CO5-4', ['IRAS03245', 'IRAS03301', 'TMC1', 'L1455-IRS3', 'DKCha', 'L723-MM', 'L1014', 'TMC1A', 'L1157', 'B335', 'HH46', 'IRAS15398', 'RNO91', 'BHR71', 'L483', 'TMR1', 'B1-a', 'B1-c'])\n",
      "('13CO6-5', ['IRAS03245', 'IRAS03301', 'TMC1', 'L1455-IRS3', 'DKCha', 'L723-MM', 'L1014', 'TMC1A', 'L1157', 'B335', 'HH46', 'IRAS15398', 'RNO91', 'BHR71', 'L483', 'TMR1', 'B1-a', 'L1551-IRS5', 'B1-c'])\n",
      "('13CO7-6', ['IRAS03245', 'IRAS03301', 'TMC1', 'L1455-IRS3', 'WL12', 'DKCha', 'L723-MM', 'L1014', 'TMC1A', 'L1157', 'Ced110', 'B335', 'HH46', 'IRAS15398', 'RNO91', 'BHR71', 'L483', 'TMR1', 'B1-a', 'L1551-IRS5', 'B1-c'])\n",
      "('13CO8-7', ['IRAS03245', 'IRAS03301', 'TMC1', 'L1455-IRS3', 'WL12', 'DKCha', 'L723-MM', 'L1014', 'TMC1A', 'L1157', 'Ced110', 'B335', 'HH46', 'IRAS15398', 'RNO91', 'BHR71', 'L483', 'TMR1', 'B1-a', 'L1551-IRS5', 'B1-c'])\n",
      "('13CO9-8', ['IRAS03245', 'IRAS03301', 'TMC1', 'L1455-IRS3', 'WL12', 'DKCha', 'L723-MM', 'L1014', 'TMC1A', 'L1157', 'Ced110', 'B335', 'HH46', 'IRAS15398', 'RNO91', 'BHR71', 'L483', 'TMR1', 'B1-a', 'L1551-IRS5', 'B1-c'])\n",
      "('13CO10-9', ['IRAS03245', 'IRAS03301', 'TMC1', 'L1455-IRS3', 'WL12', 'DKCha', 'L723-MM', 'L1014', 'TMC1A', 'HH100', 'L1157', 'Ced110', 'B335', 'HH46', 'IRAS15398', 'RCrA-IRS5A', 'RCrA-IRS7B', 'RCrA-IRS7C', 'RNO91', 'BHR71', 'L483', 'TMR1', 'B1-a', 'L1551-IRS5', 'B1-c'])\n",
      "('13CO11-10', ['IRAS03245', 'IRAS03301', 'TMC1', 'L1455-IRS3', 'WL12', 'DKCha', 'L723-MM', 'L1014', 'TMC1A', 'HH100', 'L1157', 'Ced110', 'VLA1623', 'B335', 'HH46', 'IRAS15398', 'RCrA-IRS5A', 'RCrA-IRS7B', 'RCrA-IRS7C', 'RNO91', 'BHR71', 'GSS30-IRS1', 'L483', 'TMR1', 'B1-a', 'L1551-IRS5', 'B1-c'])\n",
      "('13CO12-11', ['IRAS03245', 'IRAS03301', 'TMC1', 'L1455-IRS3', 'WL12', 'DKCha', 'L723-MM', 'L1014', 'TMC1A', 'HH100', 'L1157', 'Ced110', 'VLA1623', 'B335', 'HH46', 'IRAS15398', 'RCrA-IRS5A', 'RCrA-IRS7B', 'RCrA-IRS7C', 'RNO91', 'BHR71', 'GSS30-IRS1', 'L483', 'TMR1', 'B1-a', 'L1551-IRS5', 'B1-c'])\n",
      "('13CO13-12', ['IRAS03245', 'IRAS03301', 'TMC1', 'L1455-IRS3', 'WL12', 'DKCha', 'L723-MM', 'L1014', 'TMC1A', 'HH100', 'L1157', 'Ced110', 'VLA1623', 'B335', 'HH46', 'IRAS15398', 'RCrA-IRS5A', 'RCrA-IRS7B', 'RCrA-IRS7C', 'RNO91', 'BHR71', 'GSS30-IRS1', 'L483', 'TMR1', 'B1-a', 'L1551-IRS5', 'B1-c'])\n",
      "Line found in the following sources\n",
      "('13CO5-4', ['WL12', 'HH100', 'Ced110', 'VLA1623', 'RCrA-IRS5A', 'RCrA-IRS7B', 'RCrA-IRS7C', 'GSS30-IRS1', 'L1551-IRS5'])\n",
      "('13CO6-5', ['WL12', 'HH100', 'Ced110', 'VLA1623', 'RCrA-IRS5A', 'RCrA-IRS7B', 'RCrA-IRS7C', 'GSS30-IRS1'])\n",
      "('13CO7-6', ['HH100', 'VLA1623', 'RCrA-IRS5A', 'RCrA-IRS7B', 'RCrA-IRS7C', 'GSS30-IRS1'])\n",
      "('13CO8-7', ['HH100', 'VLA1623', 'RCrA-IRS5A', 'RCrA-IRS7B', 'RCrA-IRS7C', 'GSS30-IRS1'])\n",
      "('13CO9-8', ['HH100', 'VLA1623', 'RCrA-IRS5A', 'RCrA-IRS7B', 'RCrA-IRS7C', 'GSS30-IRS1'])\n",
      "('13CO10-9', ['VLA1623', 'GSS30-IRS1'])\n",
      "('13CO11-10', [])\n",
      "('13CO12-11', [])\n",
      "('13CO13-12', [])\n"
     ]
    }
   ],
   "source": [
    "species_list = ['13CO5-4','13CO6-5','13CO7-6','13CO8-7','13CO9-8','13CO10-9','13CO11-10',\n",
    "                '13CO12-11','13CO13-12']\n",
    "for s in species_list:\n",
    "    print(s, [obj for obj in total_obj if (obj not in DetectionInSource(s, data[cutter]))])\n",
    "    \n",
    "print('Line found in the following sources')\n",
    "for s in species_list:\n",
    "    print(s, [obj for obj in total_obj if (obj in DetectionInSource(s, data[cutter]))])"
   ]
  },
  {
   "cell_type": "code",
   "execution_count": 58,
   "metadata": {
    "collapsed": false
   },
   "outputs": [
    {
     "name": "stdout",
     "output_type": "stream",
     "text": [
      "('13CO5-4', ['WL12', 'HH100', 'Ced110', 'VLA1623', 'RCrA-IRS5A', 'RCrA-IRS7B', 'RCrA-IRS7C', 'GSS30-IRS1', 'L1551-IRS5'])\n",
      "('13CO6-5', ['WL12', 'HH100', 'Ced110', 'VLA1623', 'RCrA-IRS5A', 'RCrA-IRS7B', 'RCrA-IRS7C', 'GSS30-IRS1'])\n",
      "('13CO7-6', ['HH100', 'VLA1623', 'RCrA-IRS5A', 'RCrA-IRS7B', 'RCrA-IRS7C', 'GSS30-IRS1'])\n",
      "('13CO8-7', ['HH100', 'VLA1623', 'RCrA-IRS5A', 'RCrA-IRS7B', 'RCrA-IRS7C', 'GSS30-IRS1'])\n",
      "('13CO9-8', ['HH100', 'VLA1623', 'RCrA-IRS5A', 'RCrA-IRS7B', 'RCrA-IRS7C', 'GSS30-IRS1'])\n",
      "('13CO10-9', ['VLA1623', 'GSS30-IRS1'])\n",
      "('13CO11-10', [])\n",
      "('13CO12-11', [])\n",
      "('13CO13-12', [])\n"
     ]
    }
   ],
   "source": [
    "for s in species_list:\n",
    "    print(s, [obj for obj in total_obj if (obj in DetectionInSource(s, data[cutter]))])"
   ]
  },
  {
   "cell_type": "code",
   "execution_count": 67,
   "metadata": {
    "collapsed": false
   },
   "outputs": [
    {
     "name": "stdout",
     "output_type": "stream",
     "text": [
      "('HCO+6-5', ['HH100', 'RCrA-IRS7B', 'RCrA-IRS7C'])\n",
      "('HCO+7-6', ['HH100', 'RCrA-IRS5A', 'RCrA-IRS7B', 'RCrA-IRS7C', 'GSS30-IRS1'])\n",
      "('HCO+8-7', ['HH100', 'RCrA-IRS5A', 'RCrA-IRS7B', 'RCrA-IRS7C'])\n",
      "('HCO+9-8', [])\n",
      "('HCO+10-9', ['HH100'])\n",
      "('HCO+11-10', [])\n",
      "('HCO+12-11', [])\n",
      "('HCO+13-12', [])\n",
      "('HCO+14-13', [])\n",
      "('HCO+15-14', [])\n",
      "('HCO+16-15', [])\n"
     ]
    }
   ],
   "source": [
    "# show sources with detections\n",
    "species_list = ['HCO+6-5','HCO+7-6','HCO+8-7','HCO+9-8','HCO+10-9','HCO+11-10','HCO+12-11','HCO+13-12','HCO+14-13',\n",
    "                'HCO+15-14','HCO+16-15']\n",
    "cutter = (data['SNR'] >= 5) & (data['Validity'] == 1)\n",
    "for s in species_list:\n",
    "    print(s, [obj for obj in total_obj if (obj in DetectionInSource(s, data[cutter]))])"
   ]
  },
  {
   "cell_type": "markdown",
   "metadata": {},
   "source": [
    "## detail water line detection stats"
   ]
  },
  {
   "cell_type": "code",
   "execution_count": 73,
   "metadata": {
    "collapsed": false
   },
   "outputs": [
    {
     "name": "stdout",
     "output_type": "stream",
     "text": [
      "('H2O', ['IRAS03245', 'IRAS03301', 'TMC1', 'L1455-IRS3', 'WL12', 'DKCha', 'L723-MM', 'L1014', 'TMC1A', 'HH100', 'L1157', 'VLA1623', 'B335', 'IRAS15398', 'RCrA-IRS5A', 'RCrA-IRS7B', 'RCrA-IRS7C', 'BHR71', 'GSS30-IRS1', 'L483', 'TMR1', 'B1-a', 'L1551-IRS5', 'B1-c'])\n",
      "('p-H2O1_11-0_00', ['HH100', 'L1157', 'IRAS15398', 'RCrA-IRS5A', 'RCrA-IRS7B', 'RCrA-IRS7C', 'BHR71', 'GSS30-IRS1', 'L483', 'B1-a', 'B1-c'])\n",
      "('p-H2O2_11-2_02', ['BHR71', 'B1-c'])\n",
      "('o-H2O1_10-1_01', ['L1157', 'RCrA-IRS7B', 'RCrA-IRS7C', 'BHR71', 'B1-c'])\n",
      "('o-H2O3_12-2_21', ['DKCha', 'HH100', 'L1157', 'VLA1623', 'RCrA-IRS7B', 'RCrA-IRS7C', 'BHR71', 'GSS30-IRS1', 'TMR1', 'B1-a', 'B1-c'])\n",
      "('o-H2O3_12-3_03', ['L1157', 'BHR71', 'B1-c'])\n",
      "('p-H2O2_02-1_11', ['DKCha', 'L723-MM', 'L1157', 'B335', 'IRAS15398', 'RCrA-IRS5A', 'RCrA-IRS7B', 'RCrA-IRS7C', 'BHR71', 'GSS30-IRS1', 'TMR1', 'B1-c'])\n"
     ]
    }
   ],
   "source": [
    "species_list =  ['H2O','p-H2O1_11-0_00','p-H2O2_11-2_02','o-H2O1_10-1_01','o-H2O3_12-2_21','o-H2O3_12-3_03','p-H2O2_02-1_11']\n",
    "cutter = (data['SNR'] >= 5) & (data['Validity'] == 1)\n",
    "for s in species_list:\n",
    "    print(s, [obj for obj in total_obj if (obj in DetectionInSource(s, data[cutter]))])"
   ]
  },
  {
   "cell_type": "markdown",
   "metadata": {},
   "source": [
    "## Use SNR >= 3 cut"
   ]
  },
  {
   "cell_type": "code",
   "execution_count": 62,
   "metadata": {
    "collapsed": false
   },
   "outputs": [
    {
     "name": "stdout",
     "output_type": "stream",
     "text": [
      "('CO', [])\n",
      "('13CO', ['L1157', 'L483', 'B1-c'])\n",
      "('HCO+', ['IRAS03245', 'WL12', 'DKCha', 'VLA1623', 'BHR71', 'B1-a'])\n",
      "('H2O', [])\n",
      "('OI3P1-3P2', ['L1455-IRS3', 'L723-MM', 'HH100', 'Ced110', 'HH46', 'IRAS15398', 'RNO91', 'L483', 'B1-c'])\n",
      "('OI3P0-3P1', ['L1455-IRS3', 'L723-MM', 'L1014', 'HH100', 'Ced110', 'HH46', 'IRAS15398', 'RNO91', 'L483', 'TMR1', 'B1-c'])\n",
      "('OI', ['L1455-IRS3', 'L723-MM', 'HH100', 'Ced110', 'HH46', 'IRAS15398', 'RNO91', 'L483', 'B1-c'])\n",
      "('CI', [])\n",
      "('CII', ['IRAS03245', 'L1455-IRS3', 'L723-MM', 'HH100', 'L1157', 'Ced110', 'HH46', 'IRAS15398', 'RNO91', 'L483', 'TMR1'])\n"
     ]
    }
   ],
   "source": [
    "species_list = ['CO', '13CO', 'HCO+', 'H2O', 'OI3P1-3P2', 'OI3P0-3P1', 'OI', 'CI','CII']\n",
    "cutter = (data['SNR'] >= 3) & (data['Validity'] == 1)\n",
    "for s in species_list:\n",
    "    print(s, [obj for obj in total_obj if (obj not in DetectionInSource(s, data[cutter]))])"
   ]
  },
  {
   "cell_type": "code",
   "execution_count": null,
   "metadata": {
    "collapsed": true
   },
   "outputs": [],
   "source": [
    "           NII_205\n",
    "   "
   ]
  },
  {
   "cell_type": "markdown",
   "metadata": {},
   "source": [
    "## Number of lines found in 1D SPIRE spectra"
   ]
  },
  {
   "cell_type": "code",
   "execution_count": 75,
   "metadata": {
    "collapsed": false
   },
   "outputs": [
    {
     "name": "stdout",
     "output_type": "stream",
     "text": [
      "323\n",
      "25\n"
     ]
    }
   ],
   "source": [
    "selector = (data['ObsWL(um)'] >= 200) & (data['Pixel_No.'] == 'c') & (data['SNR'] >= 5) & (data['Validity'] == 1)\n",
    "print(len(data[selector]))\n",
    "print(len(list(set(data['Object'][selector]))))"
   ]
  },
  {
   "cell_type": "markdown",
   "metadata": {},
   "source": [
    "## Number of lines found in SPIRE cube spectra"
   ]
  },
  {
   "cell_type": "code",
   "execution_count": 76,
   "metadata": {
    "collapsed": false
   },
   "outputs": [
    {
     "name": "stdout",
     "output_type": "stream",
     "text": [
      "3068\n",
      "27\n"
     ]
    }
   ],
   "source": [
    "selector = (data['ObsWL(um)'] >= 200) & (data['Pixel_No.'] != 'c') & (data['SNR'] >= 5) & (data['Validity'] == 1)\n",
    "print(len(data[selector]))\n",
    "print(len(list(set(data['Object'][selector]))))"
   ]
  },
  {
   "cell_type": "code",
   "execution_count": null,
   "metadata": {
    "collapsed": true
   },
   "outputs": [],
   "source": []
  }
 ],
 "metadata": {
  "kernelspec": {
   "display_name": "Python [default]",
   "language": "python",
   "name": "python3"
  },
  "language_info": {
   "codemirror_mode": {
    "name": "ipython",
    "version": 3
   },
   "file_extension": ".py",
   "mimetype": "text/x-python",
   "name": "python",
   "nbconvert_exporter": "python",
   "pygments_lexer": "ipython3",
   "version": "3.5.2"
  }
 },
 "nbformat": 4,
 "nbformat_minor": 0
}
