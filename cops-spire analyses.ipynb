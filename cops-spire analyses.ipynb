{
 "cells": [
  {
   "cell_type": "code",
   "execution_count": 31,
   "metadata": {
    "collapsed": true
   },
   "outputs": [],
   "source": [
    "# This is a Python 3 script"
   ]
  },
  {
   "cell_type": "code",
   "execution_count": 5,
   "metadata": {
    "collapsed": true
   },
   "outputs": [],
   "source": [
    "# archive_dir = '/Volumes/SD-Mac/CDF_archive_v2/'\n",
    "# archive_dir = '/Users/yaolun/data/CDF_archive_v2/'\n",
    "archive_dir = '/home/bettyjo/yaolun/CDF_archive_v2/'"
   ]
  },
  {
   "cell_type": "markdown",
   "metadata": {},
   "source": [
    "# Source Information"
   ]
  },
  {
   "cell_type": "code",
   "execution_count": 6,
   "metadata": {
    "collapsed": false
   },
   "outputs": [],
   "source": [
    "from astropy.io import ascii\n",
    "# distance\n",
    "# dist = ascii.read('/Users/yaolun/data/cops-spire_distance.txt')\n",
    "dist = ascii.read('/home/bettyjo/yaolun/cops-spire_distance.txt')\n",
    "\n",
    "# source list\n",
    "obj_list = ['RCrA-IRS7B','RCrA-IRS7C','HH46','L723-MM','L1014',\n",
    "            'L1157','Ced110','BHR71','IRAS03245','L1551-IRS5',\n",
    "            'L1455-IRS3','B1-a','B1-c','IRAS03301','TMR1',\n",
    "            'TMC1A','TMC1','IRAS15398','RNO91','GSS30-IRS1',\n",
    "            'VLA1623','WL12','RCrA-IRS5A','L483','B335',\n",
    "            'DKCha']\n",
    "l_bol_list = [19.0, 44.4, 23.2, 3.3, 0.327,\n",
    "              5.41, 0.89, 13.5, 6.13, 23.5,\n",
    "              0.521, 2.33, 4.4, 3.81, 1.96,\n",
    "              2.62, 0.792, 1.49, 2.26, 19.7,\n",
    "              5.36, 2.29, 4.61, 8.78, 0.564,\n",
    "              34.7]\n",
    "t_bol_list = [51.3, 98.3, 105.0, 66.7, 63.5,\n",
    "              41.8, 53.6, 51.1, 48.4, 109.0,\n",
    "              129.0, 80.5, 55.8, 361.0, 126.0,\n",
    "              158.0, 149.0, 41.6, 231.0, 129.0,\n",
    "              33.1, 207.0, 115.0, 49.3, 45.4,\n",
    "              597.0]\n",
    "alpha500_list = [2.76, 2.82, 2.42, 2.13, 1.82,\n",
    "                 2.28, 2.32, 2.58, 2.46, 2.72,\n",
    "                 1.57, 1.74, 2.08, 2.05, 2.37,\n",
    "                 2.27, 1.99, 2.45, 2.44, 2.65,\n",
    "                 2.65, 2.39, 2.56, 2.52, 2.30,\n",
    "                 2.06]\n",
    "alpha500_err_list = [0.04, 0.05, 0.03, 0.02, 0.01,\n",
    "                     0.02, 0.02, 0.01, 0.02, 0.007,\n",
    "                     0.02, 0.03, 0.01, 0.02, 0.02,\n",
    "                     0.01, 0.01, 0.01, 0.01, 0.05,\n",
    "                     0.02, 0.02, 0.03, 0.01, 0.01,\n",
    "                     0.03]\n",
    "alpha_nir_list = [2.68, -999, 0.71, 1.50, 0.75,\n",
    "                  0.79, 1.99, 1.95, 2.45, 1.43,\n",
    "                  0.99, 1.71, 2.91, 0.14, 1.02,\n",
    "                  -0.15, 0.55, 1.32, -999, 1.13,\n",
    "                  -999, 2.49, 0.40, 2.05, 0.74,\n",
    "                  -0.63]\n",
    "alpha_nir_err_list = [1.19, -999, 0.03, 0.32, 0.24,\n",
    "                      0.37, 0.54, 0.33, 0.75, 0.17,\n",
    "                      0.23, 0.39, 1.45, 0.08, 0.33,\n",
    "                      0.84, 0.04, 0.15, -999, 0.19,\n",
    "                      -999, 0.48, 0.30, 1.12, 0.18,\n",
    "                      0.24]"
   ]
  },
  {
   "cell_type": "markdown",
   "metadata": {},
   "source": [
    "# Evolutionary Indicators - Submillimeter Luminosity"
   ]
  },
  {
   "cell_type": "code",
   "execution_count": 9,
   "metadata": {
    "collapsed": true
   },
   "outputs": [],
   "source": [
    "def lsubmm(low_wave, spec, dist):\n",
    "    \"\"\"\n",
    "    spec = 'Wavelength(um)' and 'Flux_Density(Jy)'\n",
    "    dist: distance in parsec\n",
    "    \"\"\"\n",
    "    import sys\n",
    "    sys.path.append('/Users/yaolun/programs/misc/hyperion/')\n",
    "#     sys.path.append('/home/bettyjo/yaolun/programs/misc/hyperion/')\n",
    "    from l_bol import l_bol\n",
    "    \n",
    "    l = l_bol(spec['Wavelength(um)'][spec['Wavelength(um)'] >= low_wave],\n",
    "              spec['Flux_Density(Jy)'][spec['Wavelength(um)'] >= low_wave], dist)\n",
    "    return l.data[0]"
   ]
  },
  {
   "cell_type": "code",
   "execution_count": 11,
   "metadata": {
    "collapsed": false
   },
   "outputs": [
    {
     "name": "stdout",
     "output_type": "stream",
     "text": [
      "RCrA-IRS7B 0.150941157376 19.0 51.3 125.876867054\n",
      "RCrA-IRS7C 0.152121038109 44.4 98.3 291.872843836\n",
      "HH46 0.189732597922 23.2 105.0 122.277353781\n",
      "L723-MM 0.0657261782949 3.3 66.7 50.2083049039\n",
      "L1014 0.0241873519017 0.327 63.5 13.5194626236\n",
      "L1157 0.106669579276 5.41 41.8 50.717365126\n",
      "Ced110 0.0207226612071 0.89 53.6 42.9481518374\n",
      "BHR71 0.161673190665 13.5 51.1 83.5017849559\n",
      "IRAS03245 0.0512886566335 6.13 48.4 119.519605355\n",
      "L1551-IRS5 0.0777980776847 23.5 109.0 302.064018795\n",
      "L1455-IRS3 0.0458527342071 0.521 129.0 11.3624630899\n",
      "B1-a 0.0934436647323 2.33 80.5 24.9348097239\n",
      "B1-c 0.115691858541 4.4 55.8 38.0320625453\n",
      "IRAS03301 0.0483955856362 3.81 361.0 78.7261885545\n",
      "TMR1 0.0149406509961 1.96 126.0 131.185716105\n",
      "TMC1A 0.0153518791321 2.62 158.0 170.663146671\n",
      "TMC1 0.015393789212 0.792 149.0 51.4493208326\n",
      "IRAS15398 0.0323112225541 1.49 41.6 46.1140087629\n",
      "RNO91 0.0153221845801 2.26 231.0 147.498549452\n",
      "GSS30-IRS1 0.0711790094257 19.7 129.0 276.766987331\n",
      "VLA1623 0.151014904254 5.36 33.1 35.493185434\n",
      "WL12 0.0394014474732 2.29 207.0 58.1196922159\n",
      "RCrA-IRS5A 0.0713449203946 4.61 115.0 64.6156723492\n",
      "L483 0.107025399264 8.78 49.3 82.0366012212\n",
      "B335 0.0119918402352 0.564 45.4 47.0319808252\n",
      "DKCha 0.0255467051256 34.7 597.0 1358.29649379\n"
     ]
    },
    {
     "data": {
      "image/png": "[encoded data removed]",
      "text/plain": [
       "<matplotlib.figure.Figure at 0x10fc33d68>"
      ]
     },
     "metadata": {},
     "output_type": "display_data"
    }
   ],
   "source": [
    "%matplotlib inline\n",
    "import matplotlib.pyplot as plt\n",
    "\n",
    "fig = plt.figure()\n",
    "ax = fig.add_subplot(111)\n",
    "\n",
    "lsubmm_list = []\n",
    "for o in obj_list:\n",
    "    spec = ascii.read(archive_dir+o+'/spire/data/'+o+'_spire_corrected.txt')\n",
    "    l = lsubmm(350, spec, dist['distance'][dist['object'] == o])\n",
    "    lsubmm_list.append(l)\n",
    "    print(o, l, l_bol_list[obj_list.index(o)], t_bol_list[obj_list.index(o)], l_bol_list[obj_list.index(o)]/l)\n",
    "\n",
    "    ax.errorbar(l_bol_list[obj_list.index(o)], alpha500_list[obj_list.index(o)],\n",
    "                yerr=alpha500_err_list[obj_list.index(o)], marker='o', color='b', markersize=5)\n",
    "   \n",
    "# ax.set_xlim([0,400])\n",
    "ax.set_ylim([1.5, 3.0])\n",
    "\n",
    "ax.set_xlabel(r'$L_{bol}}$', fontsize=20)\n",
    "ax.set_ylabel(r'$\\alpha 500$', fontsize=20)\n",
    "ax.tick_params('both',labelsize=16,width=1.5,which='major',pad=5,length=5)\n",
    "ax.tick_params('both',labelsize=16,width=1.5,which='minor',pad=5,length=2.5)\n",
    "\n",
    "[ax.spines[axis].set_linewidth(1.5) for axis in ['top','bottom','left','right']]\n",
    "ax.minorticks_on()\n",
    "\n",
    "# fig.savefig('/Users/yaolun/Dropbox/cops-spire/figures/alpha500_lbol.pdf', format='pdf', dpi=300, bbox_inches='tight')\n",
    "fig.savefig('/Volumes/SD-Mac/Dropbox/cops-spire/figures/alpha500_lbol.pdf', format='pdf', dpi=300, bbox_inches='tight')"
   ]
  },
  {
   "cell_type": "code",
   "execution_count": 18,
   "metadata": {
    "collapsed": false
   },
   "outputs": [
    {
     "data": {
      "image/png": "[encoded data removed]",
      "text/plain": [
       "<matplotlib.figure.Figure at 0x11017e898>"
      ]
     },
     "metadata": {},
     "output_type": "display_data"
    }
   ],
   "source": [
    "import numpy as np\n",
    "fig = plt.figure()\n",
    "ax = fig.add_subplot(111)\n",
    "   \n",
    "ax.errorbar(lsubmm_list,\n",
    "            np.array(alpha500_list)/np.array(l_bol_list),\n",
    "            yerr=alpha500_err_list, marker='o', color='b', linestyle='None')\n",
    "\n",
    "# ax.set_xlim([0,400])\n",
    "# ax.set_ylim([1.5, 3.0])\n",
    "\n",
    "ax.set_xlabel(r'$L_{submm}}$', fontsize=20)\n",
    "ax.set_ylabel(r'$\\alpha 500 / L_{bol}$', fontsize=20)\n",
    "ax.tick_params('both',labelsize=16,width=1.5,which='major',pad=5,length=5)\n",
    "ax.tick_params('both',labelsize=16,width=1.5,which='minor',pad=5,length=2.5)\n",
    "\n",
    "[ax.spines[axis].set_linewidth(1.5) for axis in ['top','bottom','left','right']]\n",
    "ax.minorticks_on()\n",
    "\n",
    "# fig.savefig('/Users/yaolun/Dropbox/cops-spire/figures/alpha500_lsmm.pdf', format='pdf', dpi=300, bbox_inches='tight')"
   ]
  },
  {
   "cell_type": "markdown",
   "metadata": {},
   "source": [
    "### Plot against BHR71 modeling results"
   ]
  },
  {
   "cell_type": "code",
   "execution_count": 8,
   "metadata": {
    "collapsed": false
   },
   "outputs": [
    {
     "name": "stderr",
     "output_type": "stream",
     "text": [
      "/home/bettyjo/yaolun/anaconda/lib/python2.7/site-packages/matplotlib/__init__.py:1401: UserWarning:  This call to matplotlib.use() has no effect\n",
      "because the backend has already been chosen;\n",
      "matplotlib.use() must be called *before* pylab, matplotlib.pyplot,\n",
      "or matplotlib.backends is imported for the first time.\n",
      "\n",
      "  warnings.warn(_use_error_msg)\n"
     ]
    }
   ],
   "source": [
    "from AlphaHyperion import AlphaHyperion\n",
    "# aperture_list, alpha, alpha_err, lbol, lsmm\n",
    "import numpy as np\n",
    "from astropy.io import ascii\n",
    "\n",
    "model_dir = '/home/bettyjo/yaolun/hyperion/bhr71/controlled/'\n",
    "# age grid\n",
    "model_range = np.arange(141,175)\n",
    "aperfile = '/home/bettyjo/yaolun/bhr71/best_calibrated/aperture.txt'\n",
    "model_list = ascii.read(model_dir+'model_list.txt')\n",
    "dstar = 200.0\n",
    "wave_center = 500.0\n",
    "\n",
    "collection = {'age':[],'results':[]}\n",
    "\n",
    "for i in model_range:\n",
    "    result = AlphaHyperion(model_dir+'model'+str(i)+'/model'+str(i)+'.rtout',\n",
    "                           aperfile, dstar, wave_center, lbollsmm=True)\n",
    "    collection['results'].append(result)\n",
    "    \n",
    "    # get age from model list\n",
    "    collection['age'].append(model_list['age'][model_list['Model#'] == 'Model'+str(i)].data)"
   ]
  },
  {
   "cell_type": "code",
   "execution_count": 10,
   "metadata": {
    "collapsed": false
   },
   "outputs": [
    {
     "name": "stdout",
     "output_type": "stream",
     "text": [
      "(array([ 4000.]), 0.20312420168063)\n",
      "(array([ 6000.]), 0.19938874095675177)\n",
      "(array([ 8000.]), 0.19655240027301007)\n",
      "(array([ 10000.]), 0.19362966338236914)\n",
      "(array([ 12000.]), 0.18962806021115858)\n",
      "(array([ 14000.]), 0.1888806170817523)\n",
      "(array([ 16000.]), 0.18632607773547538)\n",
      "(array([ 18000.]), 0.18155459601865953)\n",
      "(array([ 20000.]), 0.17921531240964625)\n",
      "(array([ 22000.]), 0.1770024427083198)\n",
      "(array([ 24000.]), 0.17480910381247677)\n",
      "(array([ 26000.]), 0.17054678568434739)\n",
      "(array([ 28000.]), 0.16924829553584489)\n",
      "(array([ 30000.]), 0.16542299802669386)\n",
      "(array([ 32000.]), 0.1646927685167747)\n",
      "(array([ 34000.]), 0.16180379876031115)\n",
      "(array([ 36000.]), 0.15988106842017621)\n",
      "(array([ 38000.]), 0.15615040805281905)\n",
      "(array([ 40000.]), 0.15451078725832496)\n",
      "(array([ 42000.]), 0.15233885297263908)\n",
      "(array([ 44000.]), 0.14912523037971154)\n",
      "(array([ 46000.]), 0.14667894223847597)\n",
      "(array([ 48000.]), 0.14330918157925931)\n",
      "(array([ 50000.]), 0.14263506154914787)\n",
      "(array([ 55000.]), 0.13530489914624932)\n",
      "(array([ 60000.]), 0.12824676188988357)\n",
      "(array([ 65000.]), 0.12324473451935064)\n",
      "(array([ 70000.]), 0.11749667689603548)\n",
      "(array([ 75000.]), 0.11150924290665688)\n",
      "(array([ 80000.]), 0.10444454297653159)\n",
      "(array([ 85000.]), 0.096492140060043211)\n",
      "(array([ 90000.]), 0.086771775225279943)\n",
      "(array([ 95000.]), 0.081068998564832795)\n",
      "(array([ 100000.]), 0.075616513666874483)\n"
     ]
    },
    {
     "data": {
      "image/png": "[encoded data removed]",
      "text/plain": [
       "<matplotlib.figure.Figure at 0x2ab97d736050>"
      ]
     },
     "metadata": {},
     "output_type": "display_data"
    }
   ],
   "source": [
    "%matplotlib inline\n",
    "import matplotlib.pyplot as plt\n",
    "\n",
    "fig = plt.figure()\n",
    "ax = fig.add_subplot(111)\n",
    "\n",
    "aper_ind = 3\n",
    "\n",
    "for i in range(len(collection['results'])):\n",
    "    ax.plot(collection['age'][i], collection['results'][i][3][aper_ind]/collection['results'][i][4][aper_ind],\n",
    "           'o', color='b')\n",
    "    print(collection['age'][i],collection['results'][i][4][aper_ind])"
   ]
  },
  {
   "cell_type": "code",
   "execution_count": 16,
   "metadata": {
    "collapsed": false
   },
   "outputs": [
    {
     "name": "stdout",
     "output_type": "stream",
     "text": [
      "(52.949216955650343, 2.9774002911504325)\n",
      "(55.282837500055699, 2.9792001031454927)\n",
      "(57.249256968324914, 2.978175063634751)\n",
      "(58.140497891197597, 2.9763246173219198)\n",
      "(58.987600670034105, 2.9735976627079159)\n",
      "(59.95358621847938, 2.9707859626366231)\n",
      "(60.994834820406503, 2.9694433579032551)\n",
      "(61.301406150866178, 2.9638277014940857)\n",
      "(63.058333407326337, 2.9668148756181449)\n",
      "(63.72980184768155, 2.9635449356718859)\n",
      "(66.293571601525073, 2.9646393366656953)\n",
      "(66.586962575963724, 2.9646584649146295)\n",
      "(67.523030429256124, 2.9629565599891099)\n",
      "(68.799712844488411, 2.9636546691829331)\n",
      "(69.753679413195215, 2.962963858879414)\n",
      "(70.383390329541569, 2.9623870378450157)\n",
      "(71.692916986861306, 2.9626077125235653)\n",
      "(72.494578785834463, 2.9612905982571194)\n",
      "(74.252105120594152, 2.9656681021953473)\n",
      "(75.647369696989259, 2.9645387604440727)\n",
      "(77.116724624317726, 2.9653093075789188)\n",
      "(77.349221187055377, 2.9622500170602075)\n",
      "(78.714962810840987, 2.9630800780549209)\n",
      "(80.827465637081644, 2.9668270624834649)\n",
      "(84.202618059707305, 2.9675851274980798)\n",
      "(86.26668495753232, 2.9695062253052797)\n",
      "(89.880901283804903, 2.9697068329512568)\n",
      "(92.967089942816898, 2.9684835286497098)\n",
      "(95.738710490280923, 2.967523896239689)\n",
      "(100.9252138469832, 2.9670381984687242)\n",
      "(105.94354701854424, 2.9638644564072907)\n",
      "(115.81739462317553, 2.9571592566331573)\n",
      "(124.15270677544127, 2.9621229171875565)\n",
      "(131.70635260091004, 2.9633459225700949)\n"
     ]
    },
    {
     "data": {
      "image/png": "[encoded data removed]",
      "text/plain": [
       "<matplotlib.figure.Figure at 0x2ab98914c150>"
      ]
     },
     "metadata": {},
     "output_type": "display_data"
    }
   ],
   "source": [
    "fig = plt.figure()\n",
    "ax = fig.add_subplot(111)\n",
    "\n",
    "aper_ind = 3\n",
    "\n",
    "for i in range(len(collection['results'])):\n",
    "    ax.errorbar(collection['results'][i][3][aper_ind]/collection['results'][i][4][aper_ind],\n",
    "                collection['results'][i][1][aper_ind], yerr=collection['results'][i][2][aper_ind],\n",
    "                marker='o', color='b')\n",
    "    print(collection['results'][i][3][aper_ind]/collection['results'][i][4][aper_ind],\n",
    "          collection['results'][i][1][aper_ind])\n",
    "# ax.plot(np.array(l_bol_list)/np.array(lsubmm_list), np.array(alpha500_list),'o')\n",
    "\n",
    "ax.set_xlabel(r'$L_{bol}/L_{submm}$', fontsize=20)\n",
    "ax.set_ylabel(r'$\\alpha_{500}$', fontsize=20)\n",
    "ax.tick_params('both',labelsize=16,width=1.5,which='major',pad=5,length=5)\n",
    "ax.tick_params('both',labelsize=16,width=1.5,which='minor',pad=5,length=2.5)\n",
    "[ax.spines[axis].set_linewidth(1.5) for axis in ['top','bottom','left','right']]\n",
    "ax.minorticks_on()"
   ]
  },
  {
   "cell_type": "code",
   "execution_count": 22,
   "metadata": {
    "collapsed": true
   },
   "outputs": [],
   "source": [
    "# tstar grid\n",
    "model_range = np.arange(85,88)\n",
    "aperfile = '/home/bettyjo/yaolun/bhr71/best_calibrated/aperture.txt'\n",
    "model_list = ascii.read(model_dir+'model_list.txt')\n",
    "dstar = 200.0\n",
    "wave_center = 500.0\n",
    "\n",
    "collection = {'tstar':[],'results':[]}\n",
    "\n",
    "for i in model_range:\n",
    "    result = AlphaHyperion(model_dir+'model'+str(i)+'/model'+str(i)+'.rtout',\n",
    "                           aperfile, dstar, wave_center, lbollsmm=True)\n",
    "    collection['results'].append(result)\n",
    "    \n",
    "    # get age from model list\n",
    "    collection['tstar'].append(model_list['tstar'][model_list['Model#'] == 'Model'+str(i)].data)"
   ]
  },
  {
   "cell_type": "code",
   "execution_count": 25,
   "metadata": {
    "collapsed": false
   },
   "outputs": [
    {
     "name": "stdout",
     "output_type": "stream",
     "text": [
      "(array([ 6450.]), 2.980001240131668)\n",
      "(array([ 6950.]), 2.9722652985659304)\n",
      "(array([ 7450.]), 2.9704176733355507)\n"
     ]
    },
    {
     "data": {
      "image/png": "[encoded data removed]",
      "text/plain": [
       "<matplotlib.figure.Figure at 0x2ab9893d0a50>"
      ]
     },
     "metadata": {},
     "output_type": "display_data"
    }
   ],
   "source": [
    "fig = plt.figure()\n",
    "ax = fig.add_subplot(111)\n",
    "\n",
    "aper_ind = 3\n",
    "\n",
    "for i in range(len(collection['results'])):\n",
    "    ax.errorbar(collection['tstar'][i], collection['results'][i][1][aper_ind],\n",
    "                yerr=collection['results'][i][2][aper_ind],\n",
    "                marker='o', color='b', linestyle='None')\n",
    "    print(collection['tstar'][i],collection['results'][i][1][aper_ind])"
   ]
  },
  {
   "cell_type": "markdown",
   "metadata": {},
   "source": [
    "## Exercise on RJ-limit"
   ]
  },
  {
   "cell_type": "code",
   "execution_count": 33,
   "metadata": {
    "collapsed": false
   },
   "outputs": [
    {
     "data": {
      "text/plain": [
       "<matplotlib.text.Text at 0x2ab97da51310>"
      ]
     },
     "execution_count": 33,
     "metadata": {},
     "output_type": "execute_result"
    },
    {
     "data": {
      "image/png": "[encoded data removed]",
      "text/plain": [
       "<matplotlib.figure.Figure at 0x2ab98943aed0>"
      ]
     },
     "metadata": {},
     "output_type": "display_data"
    }
   ],
   "source": [
    "import astropy.constants as const\n",
    "import numpy as np\n",
    "import matplotlib.pyplot as plt\n",
    "h = const.h.cgs.value\n",
    "k = const.k_B.cgs.value\n",
    "c = const.c.cgs.value\n",
    "\n",
    "# T-range\n",
    "T = np.linspace(1, 20, num=100)\n",
    "nu = c/(500e-4)\n",
    "\n",
    "plt.plot(T,k*T/h/nu/(1/np.exp(h*nu/k/T)))\n",
    "plt.yscale('log')\n",
    "plt.xlabel('Temperature [K]')\n",
    "plt.ylabel(r'$(h\\nu/kT) / (1/e^{h\\nu /kT}-1)$')"
   ]
  },
  {
   "cell_type": "code",
   "execution_count": 26,
   "metadata": {
    "collapsed": false
   },
   "outputs": [
    {
     "data": {
      "image/png": "[encoded data removed]",
      "text/plain": [
       "<matplotlib.figure.Figure at 0x110430c50>"
      ]
     },
     "metadata": {},
     "output_type": "display_data"
    }
   ],
   "source": [
    "fig = plt.figure()\n",
    "ax = fig.add_subplot(111)\n",
    "\n",
    "ax.errorbar(t_bol_list, alpha500_list, yerr=alpha500_err_list, marker='o', linestyle='None', color='b', markersize=5)\n",
    "ax.set_ylim([1.5, 3.0])\n",
    "\n",
    "ax.set_xlabel(r'$T_{bol}\\,[K]$', fontsize=20)\n",
    "ax.set_ylabel(r'$\\alpha 500$', fontsize=20)\n",
    "ax.tick_params('both',labelsize=16,width=1.5,which='major',pad=5,length=5)\n",
    "ax.tick_params('both',labelsize=16,width=1.5,which='minor',pad=5,length=2.5)\n",
    "\n",
    "[ax.spines[axis].set_linewidth(1.5) for axis in ['top','bottom','left','right']]\n",
    "ax.minorticks_on()\n",
    "\n",
    "fig.savefig('/Users/yaolun/Dropbox/cops-spire/figures/alpha500_tbol.pdf', format='pdf', dpi=300, bbox_inches='tight')"
   ]
  },
  {
   "cell_type": "code",
   "execution_count": 33,
   "metadata": {
    "collapsed": false
   },
   "outputs": [
    {
     "data": {
      "image/png": "[encoded data removed]",
      "text/plain": [
       "<matplotlib.figure.Figure at 0x110d55048>"
      ]
     },
     "metadata": {},
     "output_type": "display_data"
    }
   ],
   "source": [
    "import numpy as np\n",
    "fig = plt.figure()\n",
    "ax = fig.add_subplot(111)\n",
    "\n",
    "ax.plot(t_bol_list, np.array(l_bol_list)/np.array(lsubmm_list), marker='o', linestyle='None', color='b', markersize=5)\n",
    "\n",
    "ax.set_xlabel(r'$T_{bol}\\,[K]$', fontsize=20)\n",
    "ax.set_ylabel(r'$L_{bol}/L_{submm}$', fontsize=20)\n",
    "ax.tick_params('both',labelsize=16,width=1.5,which='major',pad=5,length=5)\n",
    "ax.tick_params('both',labelsize=16,width=1.5,which='minor',pad=5,length=2.5)\n",
    "\n",
    "ax.set_xscale('log')\n",
    "ax.set_yscale('log')\n",
    "\n",
    "[ax.spines[axis].set_linewidth(1.5) for axis in ['top','bottom','left','right']]\n",
    "ax.minorticks_on()\n",
    "\n",
    "fig.savefig('/Users/yaolun/Dropbox/cops-spire/figures/lsmm_tbol.pdf', format='pdf', dpi=300, bbox_inches='tight')"
   ]
  },
  {
   "cell_type": "markdown",
   "metadata": {},
   "source": [
    "# Alpha at 500 um"
   ]
  },
  {
   "cell_type": "code",
   "execution_count": 6,
   "metadata": {
    "collapsed": false
   },
   "outputs": [
    {
     "name": "stdout",
     "output_type": "stream",
     "text": [
      "RCrA-IRS7B 2.767245\n",
      "RCrA-IRS7C 2.812113\n",
      "HH46 2.432405\n",
      "L723-MM 2.155815\n",
      "L1014 1.854385\n",
      "L1157 2.273077\n",
      "Ced110 2.340313\n",
      "BHR71 2.589369\n",
      "IRAS03245 2.472901\n",
      "L1551-IRS5 2.736309\n",
      "L1455-IRS3 1.54925\n",
      "B1-a 1.743049\n",
      "B1-c 2.084786\n",
      "IRAS03301 2.067377\n",
      "TMR1 2.386842\n",
      "TMC1A 2.28547\n",
      "TMC1 2.004424\n",
      "IRAS15398 2.437274\n",
      "RNO91 2.456058\n",
      "GSS30-IRS1 2.66792\n",
      "VLA1623 2.660031\n",
      "WL12 2.409173\n",
      "RCrA-IRS5A 2.56084\n",
      "L483 2.529062\n",
      "B335 2.297253\n",
      "DKCha 2.077604\n"
     ]
    }
   ],
   "source": [
    "# alpha500_list = []\n",
    "for o in obj_list:\n",
    "#     alpha500_list.append(ascii.read(archive_dir+o+'/spire/data/'+o+'_alpha.txt')['500um'].data[0])\n",
    "    print(o, ascii.read(archive_dir+o+'/spire/data/'+o+'_alpha.txt')['500um'].data[0])"
   ]
  },
  {
   "cell_type": "markdown",
   "metadata": {},
   "source": [
    "## $\\alpha_{NIR}$"
   ]
  },
  {
   "cell_type": "code",
   "execution_count": 34,
   "metadata": {
    "collapsed": false
   },
   "outputs": [
    {
     "data": {
      "text/plain": [
       "<matplotlib.text.Text at 0x10fbb7c88>"
      ]
     },
     "execution_count": 34,
     "metadata": {},
     "output_type": "execute_result"
    },
    {
     "data": {
      "image/png": "[encoded data removed]",
      "text/plain": [
       "<matplotlib.figure.Figure at 0x110d39518>"
      ]
     },
     "metadata": {},
     "output_type": "display_data"
    }
   ],
   "source": [
    "# Alpha NIR vs L_bol/L_submm\n",
    "import numpy as np\n",
    "selector = (np.array(alpha_nir_list) != -999)\n",
    "plt.errorbar(np.array(l_bol_list)[selector]/np.array(lsubmm_list)[selector],\n",
    "             np.array(alpha_nir_list)[selector], \n",
    "             yerr=np.array(alpha_nir_err_list)[selector],\n",
    "             marker='o', linestyle='None')\n",
    "ax = plt.axes()\n",
    "ax.set_xlim([0,400])\n",
    "ax.set_xlabel(r'L$_{bol}$/L$_{submm}$', fontsize=20)\n",
    "ax.set_ylabel(r'$\\alpha_{NIR}$', fontsize=20)"
   ]
  },
  {
   "cell_type": "code",
   "execution_count": 36,
   "metadata": {
    "collapsed": false
   },
   "outputs": [
    {
     "data": {
      "text/plain": [
       "<matplotlib.text.Text at 0x11086f828>"
      ]
     },
     "execution_count": 36,
     "metadata": {},
     "output_type": "execute_result"
    },
    {
     "data": {
      "image/png": "[encoded data removed]",
      "text/plain": [
       "<matplotlib.figure.Figure at 0x110d14c88>"
      ]
     },
     "metadata": {},
     "output_type": "display_data"
    }
   ],
   "source": [
    "# Alpha NIR vs T_bol\n",
    "import numpy as np\n",
    "selector = (np.array(alpha_nir_list) != -999)\n",
    "plt.errorbar(np.array(t_bol_list)[selector],\n",
    "             np.array(alpha_nir_list)[selector], \n",
    "             yerr=np.array(alpha_nir_err_list)[selector],\n",
    "             marker='o', linestyle='None')\n",
    "ax = plt.axes()\n",
    "ax.set_xlim([0,400])\n",
    "ax.set_xlabel(r'T$_{bol}$ [K]', fontsize=20)\n",
    "ax.set_ylabel(r'$\\alpha_{NIR}$', fontsize=20)"
   ]
  },
  {
   "cell_type": "code",
   "execution_count": 35,
   "metadata": {
    "collapsed": false
   },
   "outputs": [
    {
     "data": {
      "text/plain": [
       "<matplotlib.text.Text at 0x110712860>"
      ]
     },
     "execution_count": 35,
     "metadata": {},
     "output_type": "execute_result"
    },
    {
     "data": {
      "image/png": "[encoded data removed]",
      "text/plain": [
       "<matplotlib.figure.Figure at 0x110857ac8>"
      ]
     },
     "metadata": {},
     "output_type": "display_data"
    }
   ],
   "source": [
    "# Alpha NIR vs Alpha 500 um\n",
    "import numpy as np\n",
    "selector = (np.array(alpha_nir_list) != -999)\n",
    "plt.errorbar(np.array(alpha500_list)[selector],\n",
    "             np.array(alpha_nir_list)[selector], \n",
    "             yerr=np.array(alpha_nir_err_list)[selector],\n",
    "             marker='o', linestyle='None')\n",
    "ax = plt.axes()\n",
    "ax.set_xlabel(r'$\\alpha_{500\\,\\mu m}$', fontsize=20)\n",
    "ax.set_ylabel(r'$\\alpha_{NIR}$', fontsize=20)"
   ]
  },
  {
   "cell_type": "markdown",
   "metadata": {
    "collapsed": true
   },
   "source": [
    "## Line detection statistics"
   ]
  },
  {
   "cell_type": "code",
   "execution_count": 64,
   "metadata": {
    "collapsed": false
   },
   "outputs": [
    {
     "name": "stdout",
     "output_type": "stream",
     "text": [
      "(['IRAS03245', 'IRAS03301', 'TMC1', 'L1455-IRS3', 'WL12', 'DKCha', 'L723-MM', 'L1014', 'TMC1A', 'HH100', 'L1157', 'Ced110', 'VLA1623', 'B335', 'HH46', 'IRAS15398', 'RCrA-IRS5A', 'RCrA-IRS7B', 'RCrA-IRS7C', 'RNO91', 'BHR71', 'GSS30-IRS1', 'L483', 'TMR1', 'B1-a', 'L1551-IRS5', 'B1-c'], 27)\n",
      "('CO', ['L1014'])\n",
      "('13CO', ['IRAS03245', 'IRAS03301', 'TMC1', 'L1455-IRS3', 'DKCha', 'L723-MM', 'L1014', 'TMC1A', 'L1157', 'B335', 'HH46', 'IRAS15398', 'RNO91', 'BHR71', 'L483', 'TMR1', 'B1-a', 'B1-c'])\n",
      "('HCO+', ['IRAS03245', 'IRAS03301', 'TMC1', 'L1455-IRS3', 'WL12', 'DKCha', 'L723-MM', 'L1014', 'TMC1A', 'L1157', 'Ced110', 'VLA1623', 'B335', 'HH46', 'IRAS15398', 'RNO91', 'BHR71', 'L483', 'TMR1', 'B1-a', 'L1551-IRS5', 'B1-c'])\n",
      "('H2O', ['Ced110', 'HH46', 'RNO91'])\n",
      "('OI3P1-3P2', ['L1455-IRS3', 'L723-MM', 'HH100', 'Ced110', 'HH46', 'IRAS15398', 'RNO91', 'L483', 'B1-c'])\n",
      "('OI3P0-3P1', ['IRAS03245', 'L1455-IRS3', 'WL12', 'L723-MM', 'L1014', 'TMC1A', 'HH100', 'L1157', 'Ced110', 'B335', 'HH46', 'IRAS15398', 'RNO91', 'BHR71', 'L483', 'TMR1', 'B1-c'])\n",
      "('OI', ['L1455-IRS3', 'L723-MM', 'HH100', 'Ced110', 'HH46', 'IRAS15398', 'RNO91', 'L483', 'B1-c'])\n",
      "('CI', ['L1157', 'B335'])\n",
      "('CII', ['IRAS03245', 'L1455-IRS3', 'DKCha', 'L723-MM', 'TMC1A', 'HH100', 'L1157', 'Ced110', 'B335', 'HH46', 'IRAS15398', 'RNO91', 'L483', 'TMR1'])\n"
     ]
    }
   ],
   "source": [
    "%matplotlib inline\n",
    "import os\n",
    "from astropy.io import ascii\n",
    "import numpy as np\n",
    "\n",
    "data = ascii.read(archive_dir+'CDF_archive_v2_lines.txt')\n",
    "total_obj = list(set(data['Object']))\n",
    "# print(set(data['Object']), len(list(set(data['Object']))))\n",
    "\n",
    "print(total_obj, len(total_obj))\n",
    "\n",
    "def DetectionInSource(species, data):\n",
    "    \n",
    "    # get the index of the line list for the given species\n",
    "    selector = np.zeros_like(data['Line'], dtype=bool)\n",
    "    for i in range(len(data['Line'])):\n",
    "        if species in data['Line'][i]:\n",
    "            selector[i] = True\n",
    "            \n",
    "    # if species == 'CO', check further to exclude 13CO\n",
    "    if species == 'CO':\n",
    "        for i in range(len(data['Line'])):\n",
    "            if '13CO' in data['Line'][i]:\n",
    "                selector[i] = False\n",
    "    \n",
    "    obj_detection = list(set(data['Object'][selector]))\n",
    "    \n",
    "    return obj_detection\n",
    "\n",
    "species_list = ['CO', '13CO', 'HCO+', 'H2O', 'OI3P1-3P2', 'OI3P0-3P1', 'OI', 'CI','CII']\n",
    "cutter = (data['SNR'] >= 5) & (data['Validity'] == 1) \n",
    "# positiver = (data['Str(W/cm2)'] >= 0)\n",
    "for s in species_list:\n",
    "    print(s, [obj for obj in total_obj if (obj not in DetectionInSource(s, data[cutter]))])"
   ]
  },
  {
   "cell_type": "code",
   "execution_count": 65,
   "metadata": {
    "collapsed": false
   },
   "outputs": [
    {
     "name": "stdout",
     "output_type": "stream",
     "text": [
      "('CO', ['L1014'])\n",
      "('13CO', ['IRAS03245', 'IRAS03301', 'TMC1', 'L1455-IRS3', 'DKCha', 'L723-MM', 'L1014', 'TMC1A', 'L1157', 'B335', 'HH46', 'IRAS15398', 'RNO91', 'BHR71', 'L483', 'TMR1', 'B1-a', 'B1-c'])\n",
      "('HCO+', ['IRAS03245', 'IRAS03301', 'TMC1', 'L1455-IRS3', 'WL12', 'DKCha', 'L723-MM', 'L1014', 'TMC1A', 'L1157', 'Ced110', 'VLA1623', 'B335', 'HH46', 'IRAS15398', 'RNO91', 'BHR71', 'L483', 'TMR1', 'B1-a', 'L1551-IRS5', 'B1-c'])\n",
      "('H2O', ['Ced110', 'HH46', 'RNO91'])\n",
      "('OI3P1-3P2', ['L1455-IRS3', 'L723-MM', 'HH100', 'Ced110', 'HH46', 'IRAS15398', 'RNO91', 'L483', 'B1-c'])\n",
      "('OI3P0-3P1', ['IRAS03245', 'L1455-IRS3', 'WL12', 'L723-MM', 'L1014', 'TMC1A', 'HH100', 'L1157', 'Ced110', 'B335', 'HH46', 'IRAS15398', 'RNO91', 'BHR71', 'L483', 'TMR1', 'B1-c'])\n",
      "('OI', ['L1455-IRS3', 'L723-MM', 'HH100', 'Ced110', 'HH46', 'IRAS15398', 'RNO91', 'L483', 'B1-c'])\n",
      "('CI', ['L1157', 'B335', 'BHR71'])\n",
      "('CII', ['IRAS03245', 'L1455-IRS3', 'WL12', 'DKCha', 'L723-MM', 'TMC1A', 'HH100', 'L1157', 'Ced110', 'VLA1623', 'B335', 'HH46', 'IRAS15398', 'RNO91', 'BHR71', 'GSS30-IRS1', 'L483', 'TMR1', 'B1-c'])\n"
     ]
    }
   ],
   "source": [
    "# only count lines with positive fluxes\n",
    "species_list = ['CO', '13CO', 'HCO+', 'H2O', 'OI3P1-3P2', 'OI3P0-3P1', 'OI', 'CI','CII']\n",
    "cutter = (data['SNR'] >= 5) & (data['Validity'] == 1) & (data['Str(W/cm2)'] >= 0)\n",
    "for s in species_list:\n",
    "    print(s, [obj for obj in total_obj if (obj not in DetectionInSource(s, data[cutter]))])"
   ]
  },
  {
   "cell_type": "code",
   "execution_count": 79,
   "metadata": {
    "collapsed": false
   },
   "outputs": [
    {
     "ename": "SyntaxError",
     "evalue": "invalid syntax (<ipython-input-79-cc2cac0f0281>, line 3)",
     "output_type": "error",
     "traceback": [
      "\u001b[0;36m  File \u001b[0;32m\"<ipython-input-79-cc2cac0f0281>\"\u001b[0;36m, line \u001b[0;32m3\u001b[0m\n\u001b[0;31m    print(s, [obj for obj in total_obj if (obj not in DetectionInSource(s, data[cutter & ]))])\u001b[0m\n\u001b[0m                                                                                         ^\u001b[0m\n\u001b[0;31mSyntaxError\u001b[0m\u001b[0;31m:\u001b[0m invalid syntax\n"
     ]
    }
   ],
   "source": [
    "species_list = ['CO4-3','CO5-4','CO6-5','CO7-6','CO8-7','CO9-8','CO10-9','CO11-10','CO12-11','CO13-12','CO14-13']\n",
    "for s in species_list:\n",
    "    print(s, [obj for obj in total_obj if (obj not in DetectionInSource(s, data[cutter & ]))])"
   ]
  },
  {
   "cell_type": "code",
   "execution_count": 61,
   "metadata": {
    "collapsed": false
   },
   "outputs": [
    {
     "name": "stdout",
     "output_type": "stream",
     "text": [
      "('13CO5-4', ['IRAS03245', 'IRAS03301', 'TMC1', 'L1455-IRS3', 'DKCha', 'L723-MM', 'L1014', 'TMC1A', 'L1157', 'B335', 'HH46', 'IRAS15398', 'RNO91', 'BHR71', 'L483', 'TMR1', 'B1-a', 'B1-c'])\n",
      "('13CO6-5', ['IRAS03245', 'IRAS03301', 'TMC1', 'L1455-IRS3', 'DKCha', 'L723-MM', 'L1014', 'TMC1A', 'L1157', 'B335', 'HH46', 'IRAS15398', 'RNO91', 'BHR71', 'L483', 'TMR1', 'B1-a', 'L1551-IRS5', 'B1-c'])\n",
      "('13CO7-6', ['IRAS03245', 'IRAS03301', 'TMC1', 'L1455-IRS3', 'WL12', 'DKCha', 'L723-MM', 'L1014', 'TMC1A', 'L1157', 'Ced110', 'B335', 'HH46', 'IRAS15398', 'RNO91', 'BHR71', 'L483', 'TMR1', 'B1-a', 'L1551-IRS5', 'B1-c'])\n",
      "('13CO8-7', ['IRAS03245', 'IRAS03301', 'TMC1', 'L1455-IRS3', 'WL12', 'DKCha', 'L723-MM', 'L1014', 'TMC1A', 'L1157', 'Ced110', 'B335', 'HH46', 'IRAS15398', 'RNO91', 'BHR71', 'L483', 'TMR1', 'B1-a', 'L1551-IRS5', 'B1-c'])\n",
      "('13CO9-8', ['IRAS03245', 'IRAS03301', 'TMC1', 'L1455-IRS3', 'WL12', 'DKCha', 'L723-MM', 'L1014', 'TMC1A', 'L1157', 'Ced110', 'B335', 'HH46', 'IRAS15398', 'RNO91', 'BHR71', 'L483', 'TMR1', 'B1-a', 'L1551-IRS5', 'B1-c'])\n",
      "('13CO10-9', ['IRAS03245', 'IRAS03301', 'TMC1', 'L1455-IRS3', 'WL12', 'DKCha', 'L723-MM', 'L1014', 'TMC1A', 'HH100', 'L1157', 'Ced110', 'B335', 'HH46', 'IRAS15398', 'RCrA-IRS5A', 'RCrA-IRS7B', 'RCrA-IRS7C', 'RNO91', 'BHR71', 'L483', 'TMR1', 'B1-a', 'L1551-IRS5', 'B1-c'])\n",
      "('13CO11-10', ['IRAS03245', 'IRAS03301', 'TMC1', 'L1455-IRS3', 'WL12', 'DKCha', 'L723-MM', 'L1014', 'TMC1A', 'HH100', 'L1157', 'Ced110', 'VLA1623', 'B335', 'HH46', 'IRAS15398', 'RCrA-IRS5A', 'RCrA-IRS7B', 'RCrA-IRS7C', 'RNO91', 'BHR71', 'GSS30-IRS1', 'L483', 'TMR1', 'B1-a', 'L1551-IRS5', 'B1-c'])\n",
      "('13CO12-11', ['IRAS03245', 'IRAS03301', 'TMC1', 'L1455-IRS3', 'WL12', 'DKCha', 'L723-MM', 'L1014', 'TMC1A', 'HH100', 'L1157', 'Ced110', 'VLA1623', 'B335', 'HH46', 'IRAS15398', 'RCrA-IRS5A', 'RCrA-IRS7B', 'RCrA-IRS7C', 'RNO91', 'BHR71', 'GSS30-IRS1', 'L483', 'TMR1', 'B1-a', 'L1551-IRS5', 'B1-c'])\n",
      "('13CO13-12', ['IRAS03245', 'IRAS03301', 'TMC1', 'L1455-IRS3', 'WL12', 'DKCha', 'L723-MM', 'L1014', 'TMC1A', 'HH100', 'L1157', 'Ced110', 'VLA1623', 'B335', 'HH46', 'IRAS15398', 'RCrA-IRS5A', 'RCrA-IRS7B', 'RCrA-IRS7C', 'RNO91', 'BHR71', 'GSS30-IRS1', 'L483', 'TMR1', 'B1-a', 'L1551-IRS5', 'B1-c'])\n",
      "Line found in the following sources\n",
      "('13CO5-4', ['WL12', 'HH100', 'Ced110', 'VLA1623', 'RCrA-IRS5A', 'RCrA-IRS7B', 'RCrA-IRS7C', 'GSS30-IRS1', 'L1551-IRS5'])\n",
      "('13CO6-5', ['WL12', 'HH100', 'Ced110', 'VLA1623', 'RCrA-IRS5A', 'RCrA-IRS7B', 'RCrA-IRS7C', 'GSS30-IRS1'])\n",
      "('13CO7-6', ['HH100', 'VLA1623', 'RCrA-IRS5A', 'RCrA-IRS7B', 'RCrA-IRS7C', 'GSS30-IRS1'])\n",
      "('13CO8-7', ['HH100', 'VLA1623', 'RCrA-IRS5A', 'RCrA-IRS7B', 'RCrA-IRS7C', 'GSS30-IRS1'])\n",
      "('13CO9-8', ['HH100', 'VLA1623', 'RCrA-IRS5A', 'RCrA-IRS7B', 'RCrA-IRS7C', 'GSS30-IRS1'])\n",
      "('13CO10-9', ['VLA1623', 'GSS30-IRS1'])\n",
      "('13CO11-10', [])\n",
      "('13CO12-11', [])\n",
      "('13CO13-12', [])\n"
     ]
    }
   ],
   "source": [
    "species_list = ['13CO5-4','13CO6-5','13CO7-6','13CO8-7','13CO9-8','13CO10-9','13CO11-10',\n",
    "                '13CO12-11','13CO13-12']\n",
    "for s in species_list:\n",
    "    print(s, [obj for obj in total_obj if (obj not in DetectionInSource(s, data[cutter]))])\n",
    "    \n",
    "print('Line found in the following sources')\n",
    "for s in species_list:\n",
    "    print(s, [obj for obj in total_obj if (obj in DetectionInSource(s, data[cutter]))])"
   ]
  },
  {
   "cell_type": "code",
   "execution_count": 58,
   "metadata": {
    "collapsed": false
   },
   "outputs": [
    {
     "name": "stdout",
     "output_type": "stream",
     "text": [
      "('13CO5-4', ['WL12', 'HH100', 'Ced110', 'VLA1623', 'RCrA-IRS5A', 'RCrA-IRS7B', 'RCrA-IRS7C', 'GSS30-IRS1', 'L1551-IRS5'])\n",
      "('13CO6-5', ['WL12', 'HH100', 'Ced110', 'VLA1623', 'RCrA-IRS5A', 'RCrA-IRS7B', 'RCrA-IRS7C', 'GSS30-IRS1'])\n",
      "('13CO7-6', ['HH100', 'VLA1623', 'RCrA-IRS5A', 'RCrA-IRS7B', 'RCrA-IRS7C', 'GSS30-IRS1'])\n",
      "('13CO8-7', ['HH100', 'VLA1623', 'RCrA-IRS5A', 'RCrA-IRS7B', 'RCrA-IRS7C', 'GSS30-IRS1'])\n",
      "('13CO9-8', ['HH100', 'VLA1623', 'RCrA-IRS5A', 'RCrA-IRS7B', 'RCrA-IRS7C', 'GSS30-IRS1'])\n",
      "('13CO10-9', ['VLA1623', 'GSS30-IRS1'])\n",
      "('13CO11-10', [])\n",
      "('13CO12-11', [])\n",
      "('13CO13-12', [])\n"
     ]
    }
   ],
   "source": [
    "for s in species_list:\n",
    "    print(s, [obj for obj in total_obj if (obj in DetectionInSource(s, data[cutter]))])"
   ]
  },
  {
   "cell_type": "code",
   "execution_count": 67,
   "metadata": {
    "collapsed": false
   },
   "outputs": [
    {
     "name": "stdout",
     "output_type": "stream",
     "text": [
      "('HCO+6-5', ['HH100', 'RCrA-IRS7B', 'RCrA-IRS7C'])\n",
      "('HCO+7-6', ['HH100', 'RCrA-IRS5A', 'RCrA-IRS7B', 'RCrA-IRS7C', 'GSS30-IRS1'])\n",
      "('HCO+8-7', ['HH100', 'RCrA-IRS5A', 'RCrA-IRS7B', 'RCrA-IRS7C'])\n",
      "('HCO+9-8', [])\n",
      "('HCO+10-9', ['HH100'])\n",
      "('HCO+11-10', [])\n",
      "('HCO+12-11', [])\n",
      "('HCO+13-12', [])\n",
      "('HCO+14-13', [])\n",
      "('HCO+15-14', [])\n",
      "('HCO+16-15', [])\n"
     ]
    }
   ],
   "source": [
    "# show sources with detections\n",
    "species_list = ['HCO+6-5','HCO+7-6','HCO+8-7','HCO+9-8','HCO+10-9','HCO+11-10','HCO+12-11','HCO+13-12','HCO+14-13',\n",
    "                'HCO+15-14','HCO+16-15']\n",
    "cutter = (data['SNR'] >= 5) & (data['Validity'] == 1)\n",
    "for s in species_list:\n",
    "    print(s, [obj for obj in total_obj if (obj in DetectionInSource(s, data[cutter]))])"
   ]
  },
  {
   "cell_type": "markdown",
   "metadata": {},
   "source": [
    "## detail water line detection stats"
   ]
  },
  {
   "cell_type": "code",
   "execution_count": 73,
   "metadata": {
    "collapsed": false
   },
   "outputs": [
    {
     "name": "stdout",
     "output_type": "stream",
     "text": [
      "('H2O', ['IRAS03245', 'IRAS03301', 'TMC1', 'L1455-IRS3', 'WL12', 'DKCha', 'L723-MM', 'L1014', 'TMC1A', 'HH100', 'L1157', 'VLA1623', 'B335', 'IRAS15398', 'RCrA-IRS5A', 'RCrA-IRS7B', 'RCrA-IRS7C', 'BHR71', 'GSS30-IRS1', 'L483', 'TMR1', 'B1-a', 'L1551-IRS5', 'B1-c'])\n",
      "('p-H2O1_11-0_00', ['HH100', 'L1157', 'IRAS15398', 'RCrA-IRS5A', 'RCrA-IRS7B', 'RCrA-IRS7C', 'BHR71', 'GSS30-IRS1', 'L483', 'B1-a', 'B1-c'])\n",
      "('p-H2O2_11-2_02', ['BHR71', 'B1-c'])\n",
      "('o-H2O1_10-1_01', ['L1157', 'RCrA-IRS7B', 'RCrA-IRS7C', 'BHR71', 'B1-c'])\n",
      "('o-H2O3_12-2_21', ['DKCha', 'HH100', 'L1157', 'VLA1623', 'RCrA-IRS7B', 'RCrA-IRS7C', 'BHR71', 'GSS30-IRS1', 'TMR1', 'B1-a', 'B1-c'])\n",
      "('o-H2O3_12-3_03', ['L1157', 'BHR71', 'B1-c'])\n",
      "('p-H2O2_02-1_11', ['DKCha', 'L723-MM', 'L1157', 'B335', 'IRAS15398', 'RCrA-IRS5A', 'RCrA-IRS7B', 'RCrA-IRS7C', 'BHR71', 'GSS30-IRS1', 'TMR1', 'B1-c'])\n"
     ]
    }
   ],
   "source": [
    "species_list =  ['H2O','p-H2O1_11-0_00','p-H2O2_11-2_02','o-H2O1_10-1_01','o-H2O3_12-2_21','o-H2O3_12-3_03','p-H2O2_02-1_11']\n",
    "cutter = (data['SNR'] >= 5) & (data['Validity'] == 1)\n",
    "for s in species_list:\n",
    "    print(s, [obj for obj in total_obj if (obj in DetectionInSource(s, data[cutter]))])"
   ]
  },
  {
   "cell_type": "markdown",
   "metadata": {},
   "source": [
    "## Use SNR >= 3 cut"
   ]
  },
  {
   "cell_type": "code",
   "execution_count": 62,
   "metadata": {
    "collapsed": false
   },
   "outputs": [
    {
     "name": "stdout",
     "output_type": "stream",
     "text": [
      "('CO', [])\n",
      "('13CO', ['L1157', 'L483', 'B1-c'])\n",
      "('HCO+', ['IRAS03245', 'WL12', 'DKCha', 'VLA1623', 'BHR71', 'B1-a'])\n",
      "('H2O', [])\n",
      "('OI3P1-3P2', ['L1455-IRS3', 'L723-MM', 'HH100', 'Ced110', 'HH46', 'IRAS15398', 'RNO91', 'L483', 'B1-c'])\n",
      "('OI3P0-3P1', ['L1455-IRS3', 'L723-MM', 'L1014', 'HH100', 'Ced110', 'HH46', 'IRAS15398', 'RNO91', 'L483', 'TMR1', 'B1-c'])\n",
      "('OI', ['L1455-IRS3', 'L723-MM', 'HH100', 'Ced110', 'HH46', 'IRAS15398', 'RNO91', 'L483', 'B1-c'])\n",
      "('CI', [])\n",
      "('CII', ['IRAS03245', 'L1455-IRS3', 'L723-MM', 'HH100', 'L1157', 'Ced110', 'HH46', 'IRAS15398', 'RNO91', 'L483', 'TMR1'])\n"
     ]
    }
   ],
   "source": [
    "species_list = ['CO', '13CO', 'HCO+', 'H2O', 'OI3P1-3P2', 'OI3P0-3P1', 'OI', 'CI','CII']\n",
    "cutter = (data['SNR'] >= 3) & (data['Validity'] == 1)\n",
    "for s in species_list:\n",
    "    print(s, [obj for obj in total_obj if (obj not in DetectionInSource(s, data[cutter]))])"
   ]
  },
  {
   "cell_type": "code",
   "execution_count": null,
   "metadata": {
    "collapsed": true
   },
   "outputs": [],
   "source": [
    "           NII_205\n",
    "   "
   ]
  },
  {
   "cell_type": "markdown",
   "metadata": {},
   "source": [
    "## Number of lines found in 1D SPIRE spectra"
   ]
  },
  {
   "cell_type": "code",
   "execution_count": 75,
   "metadata": {
    "collapsed": false
   },
   "outputs": [
    {
     "name": "stdout",
     "output_type": "stream",
     "text": [
      "323\n",
      "25\n"
     ]
    }
   ],
   "source": [
    "selector = (data['ObsWL(um)'] >= 200) & (data['Pixel_No.'] == 'c') & (data['SNR'] >= 5) & (data['Validity'] == 1)\n",
    "print(len(data[selector]))\n",
    "print(len(list(set(data['Object'][selector]))))"
   ]
  },
  {
   "cell_type": "markdown",
   "metadata": {},
   "source": [
    "## Number of lines found in SPIRE cube spectra"
   ]
  },
  {
   "cell_type": "code",
   "execution_count": 76,
   "metadata": {
    "collapsed": false
   },
   "outputs": [
    {
     "name": "stdout",
     "output_type": "stream",
     "text": [
      "3068\n",
      "27\n"
     ]
    }
   ],
   "source": [
    "selector = (data['ObsWL(um)'] >= 200) & (data['Pixel_No.'] != 'c') & (data['SNR'] >= 5) & (data['Validity'] == 1)\n",
    "print(len(data[selector]))\n",
    "print(len(list(set(data['Object'][selector]))))"
   ]
  },
  {
   "cell_type": "markdown",
   "metadata": {
    "collapsed": true
   },
   "source": [
    "# CO optical depth analysis"
   ]
  },
  {
   "cell_type": "code",
   "execution_count": 7,
   "metadata": {
    "collapsed": false
   },
   "outputs": [
    {
     "name": "stdout",
     "output_type": "stream",
     "text": [
      "('WL12', 5)\n",
      "('WL12', 6)\n",
      "('Ced110', 5)\n",
      "('Ced110', 6)\n",
      "('VLA1623', 5)\n",
      "('VLA1623', 6)\n",
      "('RCrA-IRS5A', 5)\n",
      "('RCrA-IRS5A', 6)\n",
      "('RCrA-IRS7B', 5)\n",
      "('RCrA-IRS7B', 6)\n",
      "('RCrA-IRS7B', 7)\n",
      "('RCrA-IRS7B', 8)\n",
      "('RCrA-IRS7B', 9)\n",
      "('RCrA-IRS7C', 5)\n",
      "('RCrA-IRS7C', 6)\n",
      "('RCrA-IRS7C', 7)\n",
      "('RCrA-IRS7C', 8)\n",
      "('RCrA-IRS7C', 9)\n",
      "('GSS30-IRS1', 5)\n",
      "('GSS30-IRS1', 6)\n",
      "('GSS30-IRS1', 7)\n",
      "('L1551-IRS5', 5)\n"
     ]
    }
   ],
   "source": [
    "# compare the ratio of the line fluxes between 12CO and 13CO with the abundance ratio of 12C to 13C\n",
    "\n",
    "# get the source that both 12Co and 13CO are detected at the same J transition\n",
    "from astropy.io import ascii\n",
    "import numpy as np\n",
    "fitting = ascii.read(archive_dir+'CDF_archive_v2_lines.txt')\n",
    "\n",
    "# get only 1D spectra\n",
    "fitting = fitting[fitting['Pixel_No.'] == 'c']\n",
    "\n",
    "# possible J transitions for 13CO lines\n",
    "J_up = np.array([5,6,7,8,9,10])\n",
    "\n",
    "# select sources\n",
    "selected = {'Object':[], 'J_up':[], '12CO/13CO':[], 'unc':[]}\n",
    "selector = (fitting['SNR'] >= 5.0) & (fitting['Validity'] == 1)\n",
    "for o in list(set(fitting['Object'])):\n",
    "    for j in J_up:\n",
    "        co12 = fitting[(fitting['Line'] == 'CO'+str(j)+'-'+str(j-1)) & (fitting['Object'] == o) & selector]\n",
    "        co13 = fitting[(fitting['Line'] == '13CO'+str(j)+'-'+str(j-1)) & (fitting['Object'] == o) & selector]\n",
    "        if len(co12)+len(co13) == 2:\n",
    "            print(o,j)\n",
    "            selected['Object'].append(o)\n",
    "            selected['J_up'].append(j)\n",
    "            selected['12CO/13CO'].append(co12['Str(W/cm2)'].data[0]/co13['Str(W/cm2)'].data[0])\n",
    "            comb_noise = ((1/co12['SNR'].data[0])**2+(1/co13['SNR'].data[0])**2)**0.5*\\\n",
    "                                       (co12['Str(W/cm2)'].data[0]/co13['Str(W/cm2)'].data[0])\n",
    "            selected['unc'].append(comb_noise)\n",
    "        else:\n",
    "            selected['Object'].append(o)\n",
    "            selected['J_up'].append(j)\n",
    "            selected['12CO/13CO'].append(np.nan)\n",
    "            selected['unc'].append(np.nan)\n",
    "for k in selected.keys():\n",
    "    selected[k] = np.array(selected[k])"
   ]
  },
  {
   "cell_type": "code",
   "execution_count": 84,
   "metadata": {
    "collapsed": false
   },
   "outputs": [
    {
     "data": {
      "text/plain": [
       "array([ 3.67240949,  4.97966701,  9.49567496,         nan,         nan,\n",
       "               nan])"
      ]
     },
     "execution_count": 84,
     "metadata": {},
     "output_type": "execute_result"
    }
   ],
   "source": [
    "co12_Eu = np.array([55.32, 82.97, 116.16, 154.87, 199.11, 248.88])\n",
    "co13_Eu = np.array([52.89, 79.33, 111.05, 148.06, 190.36, 237.93])"
   ]
  },
  {
   "cell_type": "code",
   "execution_count": 24,
   "metadata": {
    "collapsed": false
   },
   "outputs": [
    {
     "name": "stderr",
     "output_type": "stream",
     "text": [
      "/home/bettyjo/yaolun/anaconda/lib/python2.7/site-packages/ipykernel/__main__.py:8: VisibleDeprecationWarning: boolean index did not match indexed array along dimension 0; dimension is 156 but corresponding boolean dimension is 6\n"
     ]
    },
    {
     "data": {
      "image/png": "[encoded data removed]",
      "text/plain": [
       "<matplotlib.figure.Figure at 0x2b94f51656d0>"
      ]
     },
     "metadata": {},
     "output_type": "display_data"
    }
   ],
   "source": [
    "# plot the results\n",
    "%matplotlib inline\n",
    "import matplotlib.pyplot as plt\n",
    "fig = plt.figure(figsize=(12,10))\n",
    "ax = fig.add_subplot(111)\n",
    "for o in list(set(selected['Object'])):\n",
    "    selector = (selected['Object'] == o)\n",
    "    if len(selected['J_up'][(np.isnan(selected['12CO/13CO'][selector]) == False)]) == 0:\n",
    "        continue\n",
    "    ax.errorbar(selected['J_up'][selector],\n",
    "                selected['12CO/13CO'][selector],\n",
    "                yerr=selected['unc'][selector],\n",
    "                marker='o', label=o, markersize=8)\n",
    "\n",
    "ax.legend(fontsize=18, loc='best', ncol=2)\n",
    "\n",
    "ax.set_xlabel(r'$J_{up}$', fontsize=20)\n",
    "ax.set_ylabel(r'$^{12}CO/^{13}CO$', fontsize=20)\n",
    "ax.set_xticks([5,6,7,8,9])\n",
    "ax.tick_params('both',labelsize=18,width=1.5,which='major',pad=5,length=5)\n",
    "ax.tick_params('both',labelsize=18,width=1.5,which='minor',pad=5,length=2.5)\n",
    "[ax.spines[axis].set_linewidth(1.5) for axis in ['top','bottom','left','right']]\n",
    "\n",
    "fig.savefig('/home/bettyjo/yaolun/test/co_optical_depth_str.pdf',format='pdf',dpi=300,bbox_inches='tight')\n"
   ]
  },
  {
   "cell_type": "code",
   "execution_count": null,
   "metadata": {
    "collapsed": true
   },
   "outputs": [],
   "source": []
  }
 ],
 "metadata": {
  "anaconda-cloud": {},
  "kernelspec": {
   "display_name": "Python [conda root]",
   "language": "python",
   "name": "conda-root-py"
  },
  "language_info": {
   "codemirror_mode": {
    "name": "ipython",
    "version": 2
   },
   "file_extension": ".py",
   "mimetype": "text/x-python",
   "name": "python",
   "nbconvert_exporter": "python",
   "pygments_lexer": "ipython2",
   "version": "2.7.13"
  }
 },
 "nbformat": 4,
 "nbformat_minor": 0
}
