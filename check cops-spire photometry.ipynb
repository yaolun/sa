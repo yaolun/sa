{
 "cells": [
  {
   "cell_type": "code",
   "execution_count": 14,
   "metadata": {
    "collapsed": false
   },
   "outputs": [],
   "source": [
    "def check_sed(objname):\n",
    "\n",
    "    %matplotlib inline\n",
    "    import matplotlib.pyplot as plt\n",
    "    from astropy.io import ascii\n",
    "    import astropy.constants as const\n",
    "    c = const.c.cgs.value\n",
    "\n",
    "#     objname = 'b1-a'\n",
    "    archive_dir = '/Volumes/SD-Mac/CDF_archive_v2/'\n",
    "    phot_dir = '/Users/yaolun/data/herschel_phot/cops-spire_paper/'\n",
    "    dist = ascii.read('/Users/yaolun/data/cops-spire_distance.txt')\n",
    "\n",
    "    phot = ascii.read(phot_dir+objname+'.txt')\n",
    "    pacs = ascii.read(archive_dir+objname+'/pacs/data/'+objname.upper()+'_pacs_weighted.txt')\n",
    "    spire = ascii.read(archive_dir+objname+'/spire/data/'+objname.upper()+'_spire_corrected.txt')\n",
    "\n",
    "    plt.plot(pacs['Wavelength(um)'], pacs['Flux_Density(Jy)']*1e-23*c/pacs['Wavelength(um)']/1e-4, linewidth=0.5)\n",
    "    plt.plot(spire['Wavelength(um)'], spire['Flux_Density(Jy)']*1e-23*c/spire['Wavelength(um)']/1e-4, linewidth=0.5)\n",
    "    plt.plot(phot['wavelength'], phot['flux(Jy)']*1e-23*c/phot['wavelength']/1e-4, '.')\n",
    "\n",
    "    plt.xscale('log')\n",
    "    plt.yscale('log')\n",
    "    plt.xlim([10**-0.5, 10**3.5])\n",
    "    plt.ylim([1e-14, 1e-7])"
   ]
  },
  {
   "cell_type": "code",
   "execution_count": 15,
   "metadata": {
    "collapsed": false
   },
   "outputs": [
    {
     "data": {
      "image/png": "[encoded data removed]",
      "text/plain": [
       "<matplotlib.figure.Figure at 0x11068be10>"
      ]
     },
     "metadata": {},
     "output_type": "display_data"
    }
   ],
   "source": [
    "check_sed('b1-a')"
   ]
  },
  {
   "cell_type": "code",
   "execution_count": null,
   "metadata": {
    "collapsed": true
   },
   "outputs": [],
   "source": []
  }
 ],
 "metadata": {
  "kernelspec": {
   "display_name": "Python 3",
   "language": "python",
   "name": "python3"
  },
  "language_info": {
   "codemirror_mode": {
    "name": "ipython",
    "version": 3
   },
   "file_extension": ".py",
   "mimetype": "text/x-python",
   "name": "python",
   "nbconvert_exporter": "python",
   "pygments_lexer": "ipython3",
   "version": "3.5.2"
  }
 },
 "nbformat": 4,
 "nbformat_minor": 0
}
