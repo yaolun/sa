{
 "cells": [
  {
   "cell_type": "code",
   "execution_count": 10,
   "metadata": {
    "collapsed": false
   },
   "outputs": [],
   "source": [
    "import astropy.constants as const\n",
    "c = const.c.cgs.value\n",
    "foo = open('SHARC-II_350um_filter.txt','w')\n",
    "data = open('interpolated_SHARC-II_350um_filter.csv','r').readlines()\n",
    "\n",
    "for d in data:\n",
    "    foo.write('%e \\t %f \\n' % (c/float(d.split()[0])/10, float(d.split()[1])/100.))\n",
    "foo.close()"
   ]
  },
  {
   "cell_type": "code",
   "execution_count": null,
   "metadata": {
    "collapsed": true
   },
   "outputs": [],
   "source": []
  }
 ],
 "metadata": {
  "kernelspec": {
   "display_name": "Python 2",
   "language": "python",
   "name": "python2"
  },
  "language_info": {
   "codemirror_mode": {
    "name": "ipython",
    "version": 2
   },
   "file_extension": ".py",
   "mimetype": "text/x-python",
   "name": "python",
   "nbconvert_exporter": "python",
   "pygments_lexer": "ipython2",
   "version": "2.7.9"
  }
 },
 "nbformat": 4,
 "nbformat_minor": 0
}
