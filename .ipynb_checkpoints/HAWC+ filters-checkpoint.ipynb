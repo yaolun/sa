{
 "cells": [
  {
   "cell_type": "markdown",
   "metadata": {},
   "source": [
    "# Extract photometric flux from spectra with HAWC+ filters"
   ]
  },
  {
   "cell_type": "markdown",
   "metadata": {},
   "source": [
    "## Read in SOFIA/HAWC+ filters"
   ]
  },
  {
   "cell_type": "code",
   "execution_count": 3,
   "metadata": {
    "collapsed": false
   },
   "outputs": [],
   "source": [
    "%matplotlib inline\n",
    "import numpy as np\n",
    "import matplotlib.pyplot as plt\n",
    "from astropy.io import ascii"
   ]
  },
  {
   "cell_type": "code",
   "execution_count": 17,
   "metadata": {
    "collapsed": true
   },
   "outputs": [],
   "source": [
    "filter_dir = '/Users/yaolun/astro_tools/sofia_filters/hawc+/'\n",
    "band = ['bandA','bandB','bandC','bandD','bandE']\n",
    "central_wave = [53., 63., 89., 154., 214.]  "
   ]
  },
  {
   "cell_type": "code",
   "execution_count": 18,
   "metadata": {
    "collapsed": false
   },
   "outputs": [],
   "source": [
    "data = ascii.read(filter_dir+band[0]+'.txt',data_start=2)"
   ]
  },
  {
   "cell_type": "code",
   "execution_count": 19,
   "metadata": {
    "collapsed": false
   },
   "outputs": [
    {
     "data": {
      "text/html": [
       "&lt;Table length=355&gt;\n",
       "<table id=\"table4483341520\">\n",
       "<thead><tr><th>Wavelength</th><th>Transmission</th><th>Atm.Trans</th><th>Tot.Trans.</th></tr></thead>\n",
       "<thead><tr><th>float64</th><th>float64</th><th>float64</th><th>float64</th></tr></thead>\n",
       "<tr><td>44.5</td><td>0.00557339</td><td>0.902486</td><td>0.0050299</td></tr>\n",
       "<tr><td>44.56</td><td>0.00606192</td><td>0.894958</td><td>0.00542516</td></tr>\n",
       "<tr><td>44.62</td><td>0.0067286</td><td>0.821183</td><td>0.00552542</td></tr>\n",
       "<tr><td>44.68</td><td>0.00745039</td><td>0.11478</td><td>0.000855154</td></tr>\n",
       "<tr><td>44.74</td><td>0.00824107</td><td>0.50698</td><td>0.00417805</td></tr>\n",
       "<tr><td>44.8</td><td>0.00910328</td><td>0.84605</td><td>0.00770183</td></tr>\n",
       "<tr><td>44.86</td><td>0.00999764</td><td>0.873449</td><td>0.00873243</td></tr>\n",
       "<tr><td>44.92</td><td>0.01086</td><td>0.838134</td><td>0.00910214</td></tr>\n",
       "<tr><td>44.98</td><td>0.0117641</td><td>0.718866</td><td>0.00845683</td></tr>\n",
       "<tr><td>45.04</td><td>0.0129199</td><td>0.345855</td><td>0.00446842</td></tr>\n",
       "<tr><td>...</td><td>...</td><td>...</td><td>...</td></tr>\n",
       "<tr><td>65.2</td><td>0.00639209</td><td>0.0</td><td>0.0</td></tr>\n",
       "<tr><td>65.26</td><td>0.00609773</td><td>0.032386</td><td>0.000197481</td></tr>\n",
       "<tr><td>65.32</td><td>0.00585998</td><td>0.247769</td><td>0.00145192</td></tr>\n",
       "<tr><td>65.38</td><td>0.00558889</td><td>0.444944</td><td>0.00248674</td></tr>\n",
       "<tr><td>65.44</td><td>0.00540364</td><td>0.558723</td><td>0.00301914</td></tr>\n",
       "<tr><td>65.5</td><td>0.00523729</td><td>0.612521</td><td>0.00320795</td></tr>\n",
       "<tr><td>65.56</td><td>0.00516905</td><td>0.540131</td><td>0.00279197</td></tr>\n",
       "<tr><td>65.62</td><td>0.00528103</td><td>0.647178</td><td>0.00341776</td></tr>\n",
       "<tr><td>65.68</td><td>0.0054519</td><td>0.639425</td><td>0.00348608</td></tr>\n",
       "<tr><td>65.74</td><td>0.00514827</td><td>0.40271</td><td>0.00207326</td></tr>\n",
       "</table>"
      ],
      "text/plain": [
       "<Table length=355>\n",
       "Wavelength Transmission Atm.Trans  Tot.Trans.\n",
       " float64     float64     float64    float64  \n",
       "---------- ------------ --------- -----------\n",
       "      44.5   0.00557339  0.902486   0.0050299\n",
       "     44.56   0.00606192  0.894958  0.00542516\n",
       "     44.62    0.0067286  0.821183  0.00552542\n",
       "     44.68   0.00745039   0.11478 0.000855154\n",
       "     44.74   0.00824107   0.50698  0.00417805\n",
       "      44.8   0.00910328   0.84605  0.00770183\n",
       "     44.86   0.00999764  0.873449  0.00873243\n",
       "     44.92      0.01086  0.838134  0.00910214\n",
       "     44.98    0.0117641  0.718866  0.00845683\n",
       "     45.04    0.0129199  0.345855  0.00446842\n",
       "       ...          ...       ...         ...\n",
       "      65.2   0.00639209       0.0         0.0\n",
       "     65.26   0.00609773  0.032386 0.000197481\n",
       "     65.32   0.00585998  0.247769  0.00145192\n",
       "     65.38   0.00558889  0.444944  0.00248674\n",
       "     65.44   0.00540364  0.558723  0.00301914\n",
       "      65.5   0.00523729  0.612521  0.00320795\n",
       "     65.56   0.00516905  0.540131  0.00279197\n",
       "     65.62   0.00528103  0.647178  0.00341776\n",
       "     65.68    0.0054519  0.639425  0.00348608\n",
       "     65.74   0.00514827   0.40271  0.00207326"
      ]
     },
     "execution_count": 19,
     "metadata": {},
     "output_type": "execute_result"
    }
   ],
   "source": [
    "data"
   ]
  },
  {
   "cell_type": "markdown",
   "metadata": {},
   "source": [
    "## Read in the observations"
   ]
  },
  {
   "cell_type": "code",
   "execution_count": 20,
   "metadata": {
    "collapsed": true
   },
   "outputs": [],
   "source": [
    "spitzer = ascii.read('/Users/yaolun/bhr71/best_calibrated/bhr71_spitzer_irs.txt', header_start=None, data_start=3)"
   ]
  },
  {
   "cell_type": "code",
   "execution_count": null,
   "metadata": {
    "collapsed": true
   },
   "outputs": [],
   "source": []
  }
 ],
 "metadata": {
  "kernelspec": {
   "display_name": "Python 2",
   "language": "python",
   "name": "python2"
  },
  "language_info": {
   "codemirror_mode": {
    "name": "ipython",
    "version": 2
   },
   "file_extension": ".py",
   "mimetype": "text/x-python",
   "name": "python",
   "nbconvert_exporter": "python",
   "pygments_lexer": "ipython2",
   "version": "2.7.11"
  }
 },
 "nbformat": 4,
 "nbformat_minor": 0
}
