{
 "cells": [
  {
   "cell_type": "markdown",
   "metadata": {},
   "source": [
    "# Source Information"
   ]
  },
  {
   "cell_type": "code",
   "execution_count": 15,
   "metadata": {
    "collapsed": true
   },
   "outputs": [],
   "source": [
    "from astropy.io import ascii\n",
    "# distance\n",
    "dist = ascii.read('/Users/yaolun/data/cops-spire_distance.txt')\n",
    "archive_dir = '/Volumes/SD-Mac/CDF_archive_v2/'\n",
    "\n",
    "# source list\n",
    "obj_list = ['RCrA-IRS7B','RCrA-IRS7C','HH46','L723-MM','L1014',\n",
    "            'L1157','Ced110','BHR71','IRAS03245','L1551-IRS5',\n",
    "            'L1455-IRS3','B1-a','B1-c','IRAS03301','TMR1',\n",
    "            'TMC1A','TMC1','IRAS15398','RNO91','GSS30-IRS1',\n",
    "            'VLA1623','WL12','RCrA-IRS5A','L483','B335',\n",
    "            'DKCha']\n",
    "l_bol_list = [19.0, 44.4, 23.2, 3.3, 0.327,\n",
    "              5.41, 1.07, 10.7, 6.13, 23.5,\n",
    "              0.521, 2.33, 4.4, 3.81, 1.96,\n",
    "              2.62, 0.792, 1.49, 2.73, 19.8,\n",
    "              5.38, 2.3, 4.61, 8.78, 0.564,\n",
    "              34.7]\n",
    "t_bol_list = [51.3, 98.3, 105.0, 66.7, 63.5,\n",
    "              41.8, 53.6, 51.1, 48.4, 109.0,\n",
    "              129.0, 80.5, 55.8, 361.0, 126.0,\n",
    "              158.0, 149.0, 41.6, 231.0, 129.0,\n",
    "              33.1, 207.0, 115.0, 49.3, 45.4,\n",
    "              597.0]\n",
    "alpha500_list = [2.77, 2.81, 2.43, 2.16, 1.85,\n",
    "                 2.27, 2.34, 2.59, 2.47, 2.74,\n",
    "                 1.55, 1.74, 2.08, 2.07, 2.39,\n",
    "                 2.29, 2.00, 2.43, 2.46, 2.67,\n",
    "                 2.66, 2.41, 2.56, 2.53, 2.30,\n",
    "                 2.08]"
   ]
  },
  {
   "cell_type": "markdown",
   "metadata": {},
   "source": [
    "# Submillimeter Luminosity"
   ]
  },
  {
   "cell_type": "code",
   "execution_count": 7,
   "metadata": {
    "collapsed": true
   },
   "outputs": [],
   "source": [
    "def lsubmm(low_wave, spec, dist):\n",
    "    \"\"\"\n",
    "    spec = 'Wavelength(um)' and 'Flux_Density(Jy)'\n",
    "    dist: distance in parsec\n",
    "    \"\"\"\n",
    "    import sys\n",
    "    sys.path.append('/Users/yaolun/programs/misc/hyperion/')\n",
    "    from l_bol import l_bol\n",
    "    \n",
    "    l = l_bol(spec['Wavelength(um)'][spec['Wavelength(um)'] >= low_wave],\n",
    "              spec['Flux_Density(Jy)'][spec['Wavelength(um)'] >= low_wave], dist)\n",
    "    return l.data[0]"
   ]
  },
  {
   "cell_type": "code",
   "execution_count": 20,
   "metadata": {
    "collapsed": false
   },
   "outputs": [
    {
     "name": "stdout",
     "output_type": "stream",
     "text": [
      "('RCrA-IRS7B', 0.15094115737602182, 19.0, 51.3, 125.87686705401067)\n",
      "(125.87686705401067, 2.77)\n",
      "('RCrA-IRS7C', 0.1521210381086798, 44.4, 98.3, 291.87284383557335)\n",
      "(291.87284383557335, 2.81)\n",
      "('HH46', 0.18973259792221031, 23.2, 105.0, 122.27735378140933)\n",
      "(122.27735378140933, 2.43)\n",
      "('L723-MM', 0.065726178294938029, 3.3, 66.7, 50.208304903894785)\n",
      "(50.208304903894785, 2.16)\n",
      "('L1014', 0.024187351901734898, 0.327, 63.5, 13.519462623626239)\n",
      "(13.519462623626239, 1.85)\n",
      "('L1157', 0.10666957927638177, 5.41, 41.8, 50.717365126027595)\n",
      "(50.717365126027595, 2.27)\n",
      "('Ced110', 0.020722661207146772, 1.07, 53.6, 51.634294905664987)\n",
      "(51.634294905664987, 2.34)\n",
      "('BHR71', 0.16167319066457092, 10.7, 51.1, 66.182896224270522)\n",
      "(66.182896224270522, 2.59)\n",
      "('IRAS03245', 0.05128865663348689, 6.13, 48.4, 119.51960535456216)\n",
      "(119.51960535456216, 2.47)\n",
      "('L1551-IRS5', 0.077798077684749126, 23.5, 109.0, 302.06401879524515)\n",
      "(302.06401879524515, 2.74)\n",
      "('L1455-IRS3', 0.045852734207118585, 0.521, 129.0, 11.36246308991352)\n",
      "(11.36246308991352, 1.55)\n",
      "('B1-a', 0.093443664732252227, 2.33, 80.5, 24.934809723872025)\n",
      "(24.934809723872025, 1.74)\n",
      "('B1-c', 0.11569185854052985, 4.4, 55.8, 38.032062545339492)\n",
      "(38.032062545339492, 2.08)\n",
      "('IRAS03301', 0.048395585636191701, 3.81, 361.0, 78.726188554494215)\n",
      "(78.726188554494215, 2.07)\n",
      "('TMR1', 0.014940650996101566, 1.96, 126.0, 131.1857161051027)\n",
      "(131.1857161051027, 2.39)\n",
      "('TMC1A', 0.015351879132118882, 2.62, 158.0, 170.66314667098248)\n",
      "(170.66314667098248, 2.29)\n",
      "('TMC1', 0.015393789212041945, 0.792, 149.0, 51.449320832615413)\n",
      "(51.449320832615413, 2.0)\n",
      "('IRAS15398', 0.032311222554090621, 1.49, 41.6, 46.114008762920207)\n",
      "(46.114008762920207, 2.43)\n",
      "('RNO91', 0.015322184580113139, 2.73, 231.0, 178.17302655022849)\n",
      "(178.17302655022849, 2.46)\n",
      "('GSS30-IRS1', 0.059255795315532905, 19.8, 129.0, 334.14453210131438)\n",
      "(334.14453210131438, 2.67)\n",
      "('VLA1623', 0.12571835894150521, 5.38, 33.1, 42.794067988934138)\n",
      "(42.794067988934138, 2.66)\n",
      "('WL12', 0.0328013009093715, 2.3, 207.0, 70.11917016202483)\n",
      "(70.11917016202483, 2.41)\n",
      "('RCrA-IRS5A', 0.071344920394626726, 4.61, 115.0, 64.61567234921462)\n",
      "(64.61567234921462, 2.56)\n",
      "('L483', 0.10702539926444425, 8.78, 49.3, 82.036601221228722)\n",
      "(82.036601221228722, 2.53)\n",
      "('B335', 0.011991840235186839, 0.564, 45.4, 47.031980825185883)\n",
      "(47.031980825185883, 2.3)\n",
      "('DKCha', 0.025546705125612329, 34.7, 597.0, 1358.2964937897555)\n",
      "(1358.2964937897555, 2.08)\n"
     ]
    },
    {
     "data": {
      "image/png": "[encoded data removed]",
      "text/plain": [
       "<matplotlib.figure.Figure at 0x10bb67dd0>"
      ]
     },
     "metadata": {},
     "output_type": "display_data"
    }
   ],
   "source": [
    "%matplotlib inline\n",
    "import matplotlib.pyplot as plt\n",
    "for o in obj_list:\n",
    "    spec = ascii.read(archive_dir+o+'/spire/data/'+o+'_spire_corrected.txt')\n",
    "    l = lsubmm(350, spec, dist['distance'][dist['object'] == o])\n",
    "    print(o, l, l_bol_list[obj_list.index(o)], t_bol_list[obj_list.index(o)], l_bol_list[obj_list.index(o)]/l)\n",
    "    print(l_bol_list[obj_list.index(o)]/l, alpha500_list[obj_list.index(o)])\n",
    "    plt.plot(l_bol_list[obj_list.index(o)]/l, alpha500_list[obj_list.index(o)])"
   ]
  },
  {
   "cell_type": "markdown",
   "metadata": {},
   "source": [
    "# Alpha at 500 um"
   ]
  },
  {
   "cell_type": "code",
   "execution_count": 10,
   "metadata": {
    "collapsed": false
   },
   "outputs": [
    {
     "name": "stdout",
     "output_type": "stream",
     "text": [
      "('RCrA-IRS7B', 2.767245)\n",
      "('RCrA-IRS7C', 2.8121130000000001)\n",
      "('HH46', 2.4324050000000002)\n",
      "('L723-MM', 2.155815)\n",
      "('L1014', 1.854385)\n",
      "('L1157', 2.2730769999999998)\n",
      "('Ced110', 2.3403130000000001)\n",
      "('BHR71', 2.589369)\n",
      "('IRAS03245', 2.4729009999999998)\n",
      "('L1551-IRS5', 2.7363089999999999)\n",
      "('L1455-IRS3', 1.54925)\n",
      "('B1-a', 1.7430490000000001)\n",
      "('B1-c', 2.0847859999999998)\n",
      "('IRAS03301', 2.067377)\n",
      "('TMR1', 2.3868420000000001)\n",
      "('TMC1A', 2.2854700000000001)\n",
      "('TMC1', 2.0044240000000002)\n",
      "('IRAS15398', 2.4372739999999999)\n",
      "('RNO91', 2.4560580000000001)\n",
      "('GSS30-IRS1', 2.6679200000000001)\n",
      "('VLA1623', 2.660031)\n",
      "('WL12', 2.409173)\n",
      "('RCrA-IRS5A', 2.5608399999999998)\n",
      "('L483', 2.5290620000000001)\n",
      "('B335', 2.297253)\n",
      "('DKCha', 2.077604)\n"
     ]
    }
   ],
   "source": [
    "for o in obj_list:\n",
    "    print(o, ascii.read(archive_dir+o+'/spire/data/'+o+'_alpha.txt')['500um'].data[0])"
   ]
  },
  {
   "cell_type": "code",
   "execution_count": null,
   "metadata": {
    "collapsed": true
   },
   "outputs": [],
   "source": []
  }
 ],
 "metadata": {
  "kernelspec": {
   "display_name": "Python 2",
   "language": "python",
   "name": "python2"
  },
  "language_info": {
   "codemirror_mode": {
    "name": "ipython",
    "version": 2
   },
   "file_extension": ".py",
   "mimetype": "text/x-python",
   "name": "python",
   "nbconvert_exporter": "python",
   "pygments_lexer": "ipython2",
   "version": "2.7.11"
  }
 },
 "nbformat": 4,
 "nbformat_minor": 0
}
