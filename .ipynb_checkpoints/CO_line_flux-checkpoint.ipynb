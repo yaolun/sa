{
 "cells": [
  {
   "cell_type": "code",
   "execution_count": 1,
   "metadata": {
    "collapsed": true
   },
   "outputs": [],
   "source": [
    "%matplotlib inline"
   ]
  },
  {
   "cell_type": "code",
   "execution_count": null,
   "metadata": {
    "collapsed": true
   },
   "outputs": [],
   "source": [
    "def CO_line_flux(obj='BHR71', indir='/Users/yaolun/bhr71/fitting/', plotdir='/Users/yaolun/test/'):\n",
    "    import numpy as np\n",
    "    import matplotlib.pyplot as plt\n",
    "    \n",
    "    def read_fitting_co(filepath,noiselevel):\n",
    "        from astropy.io import ascii\n",
    "        co_label = []\n",
    "        upper_level = 48\n",
    "        lower_level = 4\n",
    "        for level in range(0,upper_level-lower_level):\n",
    "            co_label.append('CO'+str(lower_level+level)+'-'+str(lower_level+level-1))\n",
    "        data = ascii.read(filepath)\n",
    "        # data = np.genfromtxt(home+filepath, skip_header=1, dtype=str)\n",
    "        # header = data[0]\n",
    "        # data = data[1:,:]\n",
    "        header = data.colnames\n",
    "        data = data[(data['SNR']>noiselevel) & (data['Validity']!=0) & (data['Str(W/cm2)']>0)]\n",
    "        #data = data.astype(float)\n",
    "\n",
    "        ind_co = []\n",
    "        for i in range(0, len(data['Line'])):\n",
    "            if data['Line'][i] in co_label:\n",
    "                #wl, wl_sig, flux, flux_sig, E_u, A, g\n",
    "                ind_co.append(i)\n",
    "        co_data = data[ind_co]\n",
    "        return co_data, co_data['Line']\n",
    "     \n",
    "    filepath = indir+obj+'/'\n",
    "    noiselevel = 3\n",
    "    \n",
    "    co_data, co_name = read_fitting_co(filepath, noiselevel)\n",
    "    print co_name"
   ]
  }
 ],
 "metadata": {
  "kernelspec": {
   "display_name": "Python 2",
   "language": "python",
   "name": "python2"
  },
  "language_info": {
   "codemirror_mode": {
    "name": "ipython",
    "version": 2
   },
   "file_extension": ".py",
   "mimetype": "text/x-python",
   "name": "python",
   "nbconvert_exporter": "python",
   "pygments_lexer": "ipython2",
   "version": "2.7.9"
  }
 },
 "nbformat": 4,
 "nbformat_minor": 0
}
