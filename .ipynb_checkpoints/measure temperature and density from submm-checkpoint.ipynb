{
 "cells": [
  {
   "cell_type": "code",
   "execution_count": 1,
   "metadata": {
    "collapsed": true
   },
   "outputs": [],
   "source": [
    "# This is a Python 2 script"
   ]
  },
  {
   "cell_type": "markdown",
   "metadata": {},
   "source": [
    "The goal is measuring temperature and density of embedded protostars/cores with submm data.  This method is widely used in the literature since it does not involve complicated RT modeling.  Blackbody function fits a single temperature component with choice of dust model."
   ]
  },
  {
   "cell_type": "code",
   "execution_count": 1,
   "metadata": {
    "collapsed": false
   },
   "outputs": [
    {
     "name": "stderr",
     "output_type": "stream",
     "text": [
      "/Users/yaolun/anaconda/lib/python2.7/site-packages/matplotlib/font_manager.py:273: UserWarning: Matplotlib is building the font cache using fc-list. This may take a moment.\n",
      "  warnings.warn('Matplotlib is building the font cache using fc-list. This may take a moment.')\n"
     ]
    }
   ],
   "source": [
    "%matplotlib inline\n",
    "\n",
    "import numpy as np\n",
    "import matplotlib.pyplot as plt\n",
    "from astropy.io import ascii"
   ]
  },
  {
   "cell_type": "code",
   "execution_count": 2,
   "metadata": {
    "collapsed": false
   },
   "outputs": [],
   "source": [
    "# Weingartner & Draine\n",
    "# dustfile = ascii.read('/Users/yaolun/Google Drive/dust_model/Weingartner_Draine/kext_albedo_WD_MW_5.5A_30_D03_nocomment.all',\n",
    "#                       header_start=64, data_start=67)\n",
    "\n",
    "# Ossenkopf & Hennings\n",
    "# dustfile = ascii.read('/Users/yaolun/programs/misc/oh5_hyperion.txt', names=['nu', 'albedo','chi','g'])\n",
    "\n",
    "# Use Neal's original version of OH5 dust\n",
    "dustfile = np.genfromtxt('/Users/yaolun/Google Drive/dust_model/Dust_OH5_Evans_Shirley/sigma.oh5.ref', \n",
    "                          skip_header=2, skip_footer=1).T"
   ]
  },
  {
   "cell_type": "markdown",
   "metadata": {},
   "source": [
    "BHR71\n",
    "\n",
    "E(B-V) = 1.7790 +/-  0.1581 (S&F 2011) and\t2.0686 +/-  0.1839 (SFD 1998)\n",
    "\n",
    "if Rv = 5.5\n",
    "\n",
    "Av = 9.78 & 11.38"
   ]
  },
  {
   "cell_type": "markdown",
   "metadata": {},
   "source": [
    "$S_{\\nu} = B_{\\nu}(T_{dust}) (1-e^{-\\tau_{\\nu}})\\Omega_{beam, \\nu}$\n",
    "\n",
    "In optically thin limit\n",
    "\n",
    "$S_{\\nu} = B_{\\nu}(T_{dust})\\tau_{\\nu}\\Omega_{beam, \\nu}$\n",
    "\n",
    "assume $\\tau_{\\nu} = N_{dust} \\sigma_{d} Q_{ext}$\n",
    "\n",
    "$\\sigma_{d}$ is the geometric cross-section of dust grains, and $Q_{ext}$ is the dimensionless extinction efficiency\n",
    "\n",
    "take $\\sigma_{d} Q_{ext} = \\sigma_{ext} = \\sigma_{scat}+\\sigma_{abs}$\n",
    "\n",
    "then $S_{\\nu} = B_{\\nu}(T_{dust})\\sigma_{ext}N_{dust}\\Omega_{beam, \\nu}$"
   ]
  },
  {
   "cell_type": "code",
   "execution_count": 3,
   "metadata": {
    "collapsed": false
   },
   "outputs": [],
   "source": [
    "# read in observations\n",
    "import sys\n",
    "sys.path.append('/Users/yaolun/programs/misc/hyperion/')\n",
    "from get_obs import get_obs\n",
    "obs = get_obs('/Users/yaolun/bhr71/best_calibrated/', obj='BHR71')  # flux in Jy"
   ]
  },
  {
   "cell_type": "code",
   "execution_count": 4,
   "metadata": {
    "collapsed": false
   },
   "outputs": [
    {
     "ename": "NameError",
     "evalue": "name 'c' is not defined",
     "output_type": "error",
     "traceback": [
      "\u001b[0;31m---------------------------------------------------------------------------\u001b[0m",
      "\u001b[0;31mNameError\u001b[0m                                 Traceback (most recent call last)",
      "\u001b[0;32m<ipython-input-4-9f62e4002969>\u001b[0m in \u001b[0;36m<module>\u001b[0;34m()\u001b[0m\n\u001b[0;32m----> 1\u001b[0;31m \u001b[0mplt\u001b[0m\u001b[0;34m.\u001b[0m\u001b[0mplot\u001b[0m\u001b[0;34m(\u001b[0m\u001b[0mobs\u001b[0m\u001b[0;34m[\u001b[0m\u001b[0;34m'phot'\u001b[0m\u001b[0;34m]\u001b[0m\u001b[0;34m[\u001b[0m\u001b[0;36m0\u001b[0m\u001b[0;34m]\u001b[0m\u001b[0;34m,\u001b[0m \u001b[0mobs\u001b[0m\u001b[0;34m[\u001b[0m\u001b[0;34m'phot'\u001b[0m\u001b[0;34m]\u001b[0m\u001b[0;34m[\u001b[0m\u001b[0;36m1\u001b[0m\u001b[0;34m]\u001b[0m\u001b[0;34m*\u001b[0m\u001b[0;36m1e-23\u001b[0m\u001b[0;34m*\u001b[0m\u001b[0;34m(\u001b[0m\u001b[0mc\u001b[0m\u001b[0;34m/\u001b[0m\u001b[0mobs\u001b[0m\u001b[0;34m[\u001b[0m\u001b[0;34m'phot'\u001b[0m\u001b[0;34m]\u001b[0m\u001b[0;34m[\u001b[0m\u001b[0;36m0\u001b[0m\u001b[0;34m]\u001b[0m\u001b[0;34m/\u001b[0m\u001b[0;36m1e-4\u001b[0m\u001b[0;34m)\u001b[0m\u001b[0;34m,\u001b[0m \u001b[0;34m's'\u001b[0m\u001b[0;34m)\u001b[0m\u001b[0;34m\u001b[0m\u001b[0m\n\u001b[0m\u001b[1;32m      2\u001b[0m \u001b[0mplt\u001b[0m\u001b[0;34m.\u001b[0m\u001b[0mplot\u001b[0m\u001b[0;34m(\u001b[0m\u001b[0mobs\u001b[0m\u001b[0;34m[\u001b[0m\u001b[0;34m'spec'\u001b[0m\u001b[0;34m]\u001b[0m\u001b[0;34m[\u001b[0m\u001b[0;36m0\u001b[0m\u001b[0;34m]\u001b[0m\u001b[0;34m,\u001b[0m \u001b[0mobs\u001b[0m\u001b[0;34m[\u001b[0m\u001b[0;34m'spec'\u001b[0m\u001b[0;34m]\u001b[0m\u001b[0;34m[\u001b[0m\u001b[0;36m1\u001b[0m\u001b[0;34m]\u001b[0m\u001b[0;34m*\u001b[0m\u001b[0;36m1e-23\u001b[0m\u001b[0;34m*\u001b[0m\u001b[0;34m(\u001b[0m\u001b[0mc\u001b[0m\u001b[0;34m/\u001b[0m\u001b[0mobs\u001b[0m\u001b[0;34m[\u001b[0m\u001b[0;34m'spec'\u001b[0m\u001b[0;34m]\u001b[0m\u001b[0;34m[\u001b[0m\u001b[0;36m0\u001b[0m\u001b[0;34m]\u001b[0m\u001b[0;34m/\u001b[0m\u001b[0;36m1e-4\u001b[0m\u001b[0;34m)\u001b[0m\u001b[0;34m,\u001b[0m \u001b[0;34m'g'\u001b[0m\u001b[0;34m)\u001b[0m\u001b[0;34m\u001b[0m\u001b[0m\n\u001b[1;32m      3\u001b[0m \u001b[0mplt\u001b[0m\u001b[0;34m.\u001b[0m\u001b[0mxscale\u001b[0m\u001b[0;34m(\u001b[0m\u001b[0;34m'log'\u001b[0m\u001b[0;34m)\u001b[0m\u001b[0;34m\u001b[0m\u001b[0m\n\u001b[1;32m      4\u001b[0m \u001b[0mplt\u001b[0m\u001b[0;34m.\u001b[0m\u001b[0myscale\u001b[0m\u001b[0;34m(\u001b[0m\u001b[0;34m'log'\u001b[0m\u001b[0;34m)\u001b[0m\u001b[0;34m\u001b[0m\u001b[0m\n",
      "\u001b[0;31mNameError\u001b[0m: name 'c' is not defined"
     ]
    }
   ],
   "source": [
    "plt.plot(obs['phot'][0], obs['phot'][1]*1e-23*(c/obs['phot'][0]/1e-4), 's')\n",
    "plt.plot(obs['spec'][0], obs['spec'][1]*1e-23*(c/obs['spec'][0]/1e-4), 'g')\n",
    "plt.xscale('log')\n",
    "plt.yscale('log')"
   ]
  },
  {
   "cell_type": "code",
   "execution_count": 144,
   "metadata": {
    "collapsed": true
   },
   "outputs": [],
   "source": [
    "def bbfunc(omegab, kappa):\n",
    "    def bbfunc2(nu, *p):\n",
    "        tdust = p[0]\n",
    "        Nd = p[1]\n",
    "        \n",
    "        # kappa in cm2 of dust\n",
    "        # nd = 1/cm2\n",
    "        import astropy.constants as const\n",
    "        import numpy as np\n",
    "\n",
    "        h = const.h.cgs.value\n",
    "        c = const.c.cgs.value\n",
    "        k = const.k_B.cgs.value\n",
    "\n",
    "        bb = 2.*h*nu**3/c**2 / (np.exp(h*nu/k/tdust)-1)\n",
    "        \n",
    "        return bb * kappa * Nd * omegab\n",
    "    return bbfunc2"
   ]
  },
  {
   "cell_type": "code",
   "execution_count": 145,
   "metadata": {
    "collapsed": true
   },
   "outputs": [],
   "source": [
    "def bbfunc2(nu, omegab, kappa, *p):\n",
    "    tdust = p[0]\n",
    "    Nd = p[1]\n",
    "\n",
    "    # kappa in cm2/g of dust\n",
    "    # nd = g/cm2\n",
    "    import astropy.constants as const\n",
    "    import numpy as np\n",
    "\n",
    "    h = const.h.cgs.value\n",
    "    c = const.c.cgs.value\n",
    "    k = const.k_B.cgs.value\n",
    "\n",
    "    bb = 2.*h*nu**3/c**2 / (np.exp(h*nu/k/tdust)-1)\n",
    "\n",
    "    return bb * kappa * Nd * omegab"
   ]
  },
  {
   "cell_type": "code",
   "execution_count": 210,
   "metadata": {
    "collapsed": true
   },
   "outputs": [],
   "source": []
  },
  {
   "cell_type": "code",
   "execution_count": 240,
   "metadata": {
    "collapsed": false
   },
   "outputs": [
    {
     "name": "stdout",
     "output_type": "stream",
     "text": [
      "2.38293219779e-13\n"
     ]
    }
   ],
   "source": [
    "freq = c/1.3e-1\n",
    "td = 19.6\n",
    "bb = 2.*h*freq**3/c**2 / (np.exp(h*freq/k/td)-1)\n",
    "print bb"
   ]
  },
  {
   "cell_type": "code",
   "execution_count": 262,
   "metadata": {
    "collapsed": false
   },
   "outputs": [],
   "source": [
    "# get the kappa_nu from dust model\n",
    "# the unit is cm2/g\n",
    "# this part depends on the format of input dust model\n",
    "# kappa = (1-dustfile['albedo']) * dustfile['chi']\n",
    "# kappa = dustfile['chi']\n",
    "# Neal's version of OH5 dust\n",
    "kappa = (dustfile[0,:]+dustfile[1,:])\n",
    "nu_kappa = c/oh5_sigma[3,:]*1e4\n",
    "\n",
    "# # for oh5, md = 1/(1.0395087779657002e14)\n",
    "md = 1/(1.0395087779657002e14)\n",
    "# Av = 11.38\n",
    "\n",
    "# nu = c/obs['phot'][0][(obs['phot'][0] > 200) & (obs['phot'][0] < 1400)]/1e-4\n",
    "# f_phot = obs['phot'][1][(obs['phot'][0] > 200) & (obs['phot'][0] < 1400)]/nu\n",
    "# f_phot_err = obs['phot'][2][(obs['phot'][0] > 200) & (obs['phot'][0] < 1400)]/nu\n",
    "# aper = np.array([90.0, 35.4, 47.9, 46.0])\n",
    "\n",
    "# take down to 70 um\n",
    "trimmer = (obs['phot'][0] > 200) & (obs['phot'][0] < 1400)\n",
    "nu = c/obs['phot'][0][trimmer]/1e-4\n",
    "f_phot = obs['phot'][1][trimmer]*1e-23\n",
    "f_phot_err = obs['phot'][2][trimmer]*1e-23\n",
    "\n",
    "sorter = np.argsort(nu)\n",
    "nu = nu[sorter]\n",
    "f_phot = f_phot[sorter]\n",
    "f_phot_err = f_phot_err[sorter]\n",
    "\n",
    "# load aperture\n",
    "aperture = ascii.read('/Users/yaolun/bhr71/best_calibrated/aperture.txt')\n",
    "aper = []\n",
    "for wl in obs['phot'][0][trimmer]:\n",
    "    if wl in aperture['wavelength(um)']:\n",
    "        aper.append(aperture['aperture(arcsec)'][aperture['wavelength(um)'] == wl][0])\n",
    "    else:\n",
    "        print 'No aperture found for %f um' % wl\n",
    "        aper_dum = raw_input('What is the aperture size?')\n",
    "        aper.append(aper_dum)\n",
    "aper = np.array(aper)\n",
    "# aper = np.array([31.8, 31.8, 31.8, 35.4, 47.9, 46.0, 90.0])\n",
    "\n",
    "omegab = np.pi*(aper/2)**2/4.25e10\n",
    "\n",
    "# interpolate kappa\n",
    "from scipy.interpolate import interp1d\n",
    "f = interp1d(nu_kappa, kappa)\n",
    "kappa_int = f(nu)"
   ]
  },
  {
   "cell_type": "code",
   "execution_count": 263,
   "metadata": {
    "collapsed": false
   },
   "outputs": [
    {
     "name": "stdout",
     "output_type": "stream",
     "text": [
      "(array([  1.89446786e+01,   1.35085195e+11]), array([[  1.16401906e+01,  -2.06510292e+11],\n",
      "       [ -2.06510292e+11,   4.00287111e+21]]))\n",
      "[  3.41177235e+00   6.32682473e+10]\n"
     ]
    }
   ],
   "source": [
    "from scipy.optimize import curve_fit\n",
    "p = curve_fit(bbfunc(omegab, kappa_int), nu, f_phot, sigma=f_phot_err, p0=[50, 1e22])\n",
    "print p\n",
    "perr = np.sqrt(np.diag(p[1]))\n",
    "print perr\n",
    "# print p[0]+perr, p[0]-perr"
   ]
  },
  {
   "cell_type": "code",
   "execution_count": 268,
   "metadata": {
    "collapsed": false
   },
   "outputs": [
    {
     "name": "stdout",
     "output_type": "stream",
     "text": [
      "3.72056323569\n",
      "1.74255598687\n"
     ]
    }
   ],
   "source": [
    "area = (90.*200/2*AU)**2*np.pi\n",
    "print p[0][1]*area * md *100 /MS\n",
    "print perr[1]*area * md *100 /MS"
   ]
  },
  {
   "cell_type": "code",
   "execution_count": 265,
   "metadata": {
    "collapsed": false
   },
   "outputs": [
    {
     "data": {
      "text/plain": [
       "array([ 0.58420179,  1.51892464,  2.16989235,  3.03784928])"
      ]
     },
     "execution_count": 265,
     "metadata": {},
     "output_type": "execute_result"
    }
   ],
   "source": [
    "# evaluate RJ limit\n",
    "h = const.h.cgs.value\n",
    "c = const.c.cgs.value\n",
    "k = const.k_B.cgs.value\n",
    "h*nu/k/p[0][0]\n",
    "# p[0]+perr"
   ]
  },
  {
   "cell_type": "code",
   "execution_count": 272,
   "metadata": {
    "collapsed": false
   },
   "outputs": [
    {
     "data": {
      "image/png": "[encoded data removed]",
      "text/plain": [
       "<matplotlib.figure.Figure at 0x11d4bad50>"
      ]
     },
     "metadata": {},
     "output_type": "display_data"
    }
   ],
   "source": [
    "fig = plt.figure(figsize=(8,6))\n",
    "ax = fig.add_subplot(111)\n",
    "\n",
    "obs_trimmer = (obs['phot'][0] > 200) & (obs['phot'][0] < 1400)\n",
    "nu = c/obs['phot'][0][obs_trimmer]/1e-4\n",
    "f_phot = obs['phot'][1][obs_trimmer]*1e-23\n",
    "f_phot_err = obs['phot'][2][obs_trimmer]*1e-23\n",
    "kappa_int = f(nu)\n",
    "\n",
    "# re-get the aperture\n",
    "aper = []\n",
    "for wl in obs['phot'][0][obs_trimmer]:\n",
    "    if wl in aperture['wavelength(um)']:\n",
    "        aper.append(aperture['aperture(arcsec)'][aperture['wavelength(um)'] == wl][0])\n",
    "    else:\n",
    "        print 'No aperture found for %f um' % wl\n",
    "        aper_dum = raw_input('What is the aperture size?')\n",
    "        aper.append(aper_dum)\n",
    "aper = np.array(aper)\n",
    "\n",
    "omegab = np.pi*(aper/2)**2/4.25e10\n",
    "\n",
    "obs_yerr_hi = np.log10(f_phot*nu+f_phot_err*nu)-np.log10(f_phot*nu)\n",
    "obs_yerr_low = np.log10(f_phot*nu)-np.log10(f_phot*nu-f_phot_err*nu)\n",
    "\n",
    "obs_plot = ax.errorbar(np.log10(c/nu*1e4), np.log10(f_phot*nu), yerr=[obs_yerr_hi, obs_yerr_low], \n",
    "                       fmt='o', markersize=10, markeredgewidth=1.5,\n",
    "                       mec='b', ecolor='b', color='None', elinewidth=1.2, capthick=1.2, barsabove=True)\n",
    "\n",
    "yerr_hi = np.log10(bbfunc2(nu, omegab, kappa_int, *p[0]+perr)*nu) - np.log10(bbfunc2(nu, omegab, kappa_int, *p[0])*nu)\n",
    "yerr_low = np.log10(bbfunc2(nu, omegab, kappa_int, *p[0])*nu) - np.log10(bbfunc2(nu, omegab, kappa_int, *p[0]-perr)*nu)\n",
    "\n",
    "fit = ax.errorbar(np.log10(c/nu*1e4), np.log10(bbfunc2(nu, omegab, kappa_int, *p[0])*nu),\n",
    "                  yerr=[yerr_low, yerr_hi], fmt='o', linestyle='-', markersize=10, markeredgewidth=1.5,\n",
    "                  color='None', mec='g',ecolor='g', elinewidth=1.2, capthick=1.2, barsabove=True)\n",
    "\n",
    "ax.legend([obs_plot, fit], [r'$\\rm{Photometry}$', r'$\\rm{Fit\\,with\\,OH5\\,dust}$'],\n",
    "          loc='best', numpoints=1, fontsize=16)\n",
    "\n",
    "ax.text(0.1, 0.2, r'$\\rm{T_{dust}= %3.1f \\pm %3.1f \\,K}$' % (p[0][0], perr[0]), transform=ax.transAxes, fontsize=24)\n",
    "expo = np.floor(np.log10(p[0][1]))\n",
    "ax.text(0.1, 0.1, r'$\\rm{N_{dust}= %2.1f \\pm %2.1f \\times 10^{%d}\\,cm^{-2}}$' % (p[0][1]/10**expo, perr[1]/10**expo, expo), \n",
    "        transform=ax.transAxes, fontsize=24)\n",
    "\n",
    "\n",
    "ax.set_xlim([np.log10(50), np.log10(1500)])\n",
    "\n",
    "[ax.spines[axis].set_linewidth(1.5) for axis in ['top','bottom','left','right']]\n",
    "ax.minorticks_on()\n",
    "ax.tick_params('both',labelsize=18,width=1.5,which='major',pad=10,length=5)\n",
    "ax.tick_params('both',labelsize=18,width=1.5,which='minor',pad=10,length=2.5)\n",
    "ax.set_xlabel(r'$\\rm{log(Wavelength)\\,[\\mu m]}$', fontsize=18)\n",
    "ax.set_ylabel(r'$\\rm{log(\\nu S_{\\nu})\\,[erg\\,s^{-1}\\,cm^{-2}]}$', fontsize=18)\n",
    "\n",
    "fig.savefig('/Users/yaolun/bhr71/greybb_fit.pdf', format='pdf', dpi=300, bbox_inches='tight')"
   ]
  },
  {
   "cell_type": "code",
   "execution_count": null,
   "metadata": {
    "collapsed": true
   },
   "outputs": [],
   "source": []
  }
 ],
 "metadata": {
  "kernelspec": {
   "display_name": "Python 2",
   "language": "python",
   "name": "python2"
  },
  "language_info": {
   "codemirror_mode": {
    "name": "ipython",
    "version": 2
   },
   "file_extension": ".py",
   "mimetype": "text/x-python",
   "name": "python",
   "nbconvert_exporter": "python",
   "pygments_lexer": "ipython2",
   "version": "2.7.11"
  }
 },
 "nbformat": 4,
 "nbformat_minor": 0
}
