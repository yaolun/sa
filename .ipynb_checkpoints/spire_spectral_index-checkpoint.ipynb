{
 "cells": [
  {
   "cell_type": "code",
   "execution_count": 1,
   "metadata": {},
   "outputs": [
    {
     "data": {
      "text/html": [
       "<style>.container { width:100% !important; }</style>"
      ],
      "text/plain": [
       "<IPython.core.display.HTML object>"
      ]
     },
     "metadata": {},
     "output_type": "display_data"
    }
   ],
   "source": [
    "# first to run everytime\n",
    "%config InlineBackend.figure_format = 'retina'\n",
    "from IPython.core.display import display, HTML\n",
    "display(HTML(\"<style>.container { width:100% !important; }</style>\"))\n",
    "%matplotlib inline\n",
    "import os\n",
    "\n",
    "if 'bettyjo' in os.path.expanduser('~'):\n",
    "    archive_dir = '/home/bettyjo/yaolun/CDF_archive_v2/'\n",
    "    plotdir = '/home/bettyjo/yaolun/test/cops-spire/'\n",
    "    dist_file = '/home/bettyjo/yaolun/cops-spire_distance.txt'\n",
    "else:\n",
    "    archive_dir = '/Volumes/SD-Mac/CDF_archive_v2/'\n",
    "    plotdir = '/Users/yaolun/test/cops-spire/'\n",
    "    dist_file = '/Users/yaolun/data/cops-spire_distance.txt'"
   ]
  },
  {
   "cell_type": "code",
   "execution_count": 23,
   "metadata": {
    "collapsed": true
   },
   "outputs": [],
   "source": [
    "from astropy.io import ascii\n",
    "\n",
    "dist = ascii.read(dist_file)\n",
    "\n",
    "# source list\n",
    "obj_list = ['RCrA-IRS7B','RCrA-IRS7C','HH46','L723-MM','L1014',\n",
    "            'L1157','Ced110','BHR71','IRAS03245','L1551-IRS5',\n",
    "            'L1455-IRS3','B1-a','B1-c','IRAS03301','TMR1',\n",
    "            'TMC1A','TMC1','IRAS15398','RNO91','GSS30-IRS1',\n",
    "            'VLA1623','WL12','RCrA-IRS5A','L483','B335',\n",
    "            'DKCha']\n",
    "l_bol_list = [18.9, 70.4, 23.2, 3.3, 0.327,\n",
    "              5.26, 1.28, 13.5, 6.06, 25.9,\n",
    "              0.545, 2.47, 4.41, 3.91, 2.0,\n",
    "              2.62, 0.79, 1.49, 2.53, 19.7,\n",
    "              5.36, 2.23, 4.6, 8.78, 0.565,\n",
    "              35.1]\n",
    "t_bol_list = [52.8, 62.6, 111.0, 66.8, 63.4,\n",
    "              40.1, 53.6, 51.1, 48.2, 110.0,\n",
    "              128.0, 79.9, 55.9, 354.0, 125.0,\n",
    "              159.0, 149.0, 43.2, 349.0, 129.0, \n",
    "              33.2, 210.0, 115.0, 49.3, 45.5,\n",
    "              592.0]\n",
    "\n",
    "# fitted with lines\n",
    "alpha500_list = [2.76, 2.82, 2.42, 2.13, 1.82,\n",
    "                 2.28, 2.32, 2.58, 2.46, 2.72,\n",
    "                 1.57, 1.74, 2.08, 2.05, 2.37,\n",
    "                 2.27, 1.99, 2.45, 2.44, 2.65,\n",
    "                 2.65, 2.39, 2.56, 2.52, 2.30,\n",
    "                 2.06]\n",
    "alpha500_err_list = [0.04, 0.05, 0.03, 0.02, 0.01,\n",
    "                     0.02, 0.02, 0.01, 0.02, 0.007,\n",
    "                     0.02, 0.03, 0.01, 0.02, 0.02,\n",
    "                     0.01, 0.01, 0.01, 0.01, 0.05,\n",
    "                     0.02, 0.02, 0.03, 0.01, 0.01,\n",
    "                     0.03]"
   ]
  },
  {
   "cell_type": "code",
   "execution_count": 22,
   "metadata": {
    "collapsed": true
   },
   "outputs": [],
   "source": [
    "# modify from the spire_spectral_index.py\n",
    "def spire_spectral_index(outdir, obsid, obj, spec):\n",
    "\n",
    "    # Note that the spectral index works in frequency\n",
    "    import matplotlib.pyplot as plt\n",
    "    from astropy.modeling import models, fitting, powerlaws\n",
    "    from scipy.interpolate import interp1d\n",
    "    import astropy.constants as const\n",
    "    from astropy.io import ascii\n",
    "    import numpy as np\n",
    "    c = const.c.cgs.value\n",
    "\n",
    "    fig = plt.figure(figsize=(10,6))\n",
    "    ax = fig.add_subplot(111)\n",
    "\n",
    "    spire, = ax.plot(c/1e5/spec['Wavelength(um)'], spec['Flux_Density(Jy)'], linewidth=1, color='b')\n",
    "\n",
    "    f = interp1d(c/1e5/spec['Wavelength(um)'], spec['Flux_Density(Jy)'])\n",
    "    fitted_alpha = []\n",
    "    fitted_alpha_err = []\n",
    "\n",
    "    for band in [250, 350, 500]:\n",
    "        x_ref = c/1e5/band\n",
    "        amp = f(x_ref)\n",
    "        freq_dum = (c/1e5/spec['Wavelength(um)'])\\\n",
    "                   [(c/1e5/spec['Wavelength(um)'] >= x_ref-100) & (c/1e5/spec['Wavelength(um)'] <= x_ref+100)]\n",
    "        flux_dum = spec['Flux_Density(Jy)']\\\n",
    "                   [(c/1e5/spec['Wavelength(um)'] >= x_ref-100) & (c/1e5/spec['Wavelength(um)'] <= x_ref+100)]\n",
    "\n",
    "        alpha = 0\n",
    "\n",
    "        pow_model = powerlaws.PowerLaw1D(amp, x_ref, alpha)\n",
    "        fitter = fitting.LevMarLSQFitter()\n",
    "        fit = fitter(pow_model, freq_dum, flux_dum)\n",
    "\n",
    "        ax.plot(freq_dum, fit(freq_dum), '-', color='k')\n",
    "        # take negative sign because the frequency array is reversed\n",
    "        fitted_alpha.append(-fit.alpha.value)\n",
    "        # the uncertainty part somehow does work on bettyjo.\n",
    "        # probably something wrong with the python config\n",
    "        \n",
    "        fitted_alpha_err.append(fitter.fit_info['param_cov'][2,2]**0.5)\n",
    "        print(band, -fit.alpha.value, '+/-', fitter.fit_info['param_cov'][2,2]**0.5)\n",
    "\n",
    "\n",
    "    ax.text(0.35, 0.15, r'$\\alpha_{250,350,500} = %3.2f, %3.2f, %3.2f$' % (fitted_alpha[0], fitted_alpha[1], fitted_alpha[2]),\n",
    "            transform=ax.transAxes, fontsize=18)\n",
    "    ax.text(0.35, 0.05, r'$\\sigma_{\\alpha}\\,(250,350,500) = %5.3f, %5.3f, %5.3f$' % (fitted_alpha_err[0], fitted_alpha_err[1], fitted_alpha_err[2]),\n",
    "            transform=ax.transAxes, fontsize=18)\n",
    "    [ax.spines[axis].set_linewidth(1.5) for axis in ['top','bottom','left','right']]\n",
    "    ax.minorticks_on()\n",
    "    ax.tick_params('both',labelsize=18,width=1.5,which='major',pad=10,length=5)\n",
    "    ax.tick_params('both',labelsize=18,width=1.5,which='minor',pad=10,length=2.5)\n",
    "    ax.set_xlabel('Frequency [GHz]', fontsize=18)\n",
    "    ax.set_ylabel('Flux Density [Jy]', fontsize=18)\n",
    "    ax.set_xlim([400,2000])\n",
    "\n",
    "    fig.savefig(outdir+obj+'_spire_alpha.pdf', format='pdf', dpi=300, bbox_inches='tight')\n",
    "    fig.clf()\n",
    "    \n",
    "    return fitted_alpha, fitted_alpha_err"
   ]
  },
  {
   "cell_type": "code",
   "execution_count": 20,
   "metadata": {},
   "outputs": [
    {
     "name": "stdout",
     "output_type": "stream",
     "text": [
      "RCrA-IRS7B\n",
      "250 2.28215359272 +/- 0.00794676741748\n",
      "350 2.65538794845 +/- 0.0131561523449\n",
      "500 2.6440425375 +/- 0.00478586542824\n",
      "RCrA-IRS7C\n",
      "250 2.431864726 +/- 0.00823305345593\n",
      "350 2.72554639887 +/- 0.0133143705327\n",
      "500 2.81923763697 +/- 0.00515072281157\n",
      "HH46\n",
      "250 1.72761498629 +/- 0.00682339434846\n",
      "350 2.14532646916 +/- 0.00549482838491\n",
      "500 2.374770265 +/- 0.00427801580037\n",
      "L723-MM\n",
      "250 1.5590646987 +/- 0.00693767448049\n",
      "350 1.91138251856 +/- 0.00726415144179\n",
      "500 1.9611470781 +/- 0.0054125854229\n",
      "L1014\n",
      "250 0.863555366481 +/- 0.0177904428975\n",
      "350 1.6496234779 +/- 0.0142653180305\n",
      "500 1.56567117897 +/- 0.012636952827\n",
      "L1157\n",
      "250 1.47418952236 +/- 0.00621061559431\n",
      "350 1.89852739183 +/- 0.0041426944535\n",
      "500 2.2310109974 +/- 0.0035548234285\n",
      "Ced110\n",
      "250 1.63808453962 +/- 0.00712603666839\n",
      "350 1.99167453341 +/- 0.0105556580429\n",
      "500 2.12184305054 +/- 0.00618464011194\n",
      "BHR71\n",
      "250 2.00513578553 +/- 0.00619257417869\n",
      "350 2.37334159972 +/- 0.00541755052278\n",
      "500 2.50673549903 +/- 0.00237152429178\n",
      "IRAS03245\n",
      "250 2.05335882602 +/- 0.00657471292672\n",
      "350 2.19954904623 +/- 0.0069285974602\n",
      "500 2.28803619094 +/- 0.00602548156931\n",
      "L1551-IRS5\n",
      "250 2.19472144939 +/- 0.00545055309873\n",
      "350 2.49356224334 +/- 0.00577057489864\n",
      "500 2.58355175963 +/- 0.00284403156433\n",
      "L1455-IRS3\n",
      "250 -0.356588968639 +/- 0.0297706427871\n",
      "350 0.939578491768 +/- 0.0171576065647\n",
      "500 1.40003066463 +/- 0.0158239256971\n",
      "B1-a\n",
      "250 0.773023302641 +/- 0.00986688700492\n",
      "350 1.22026844729 +/- 0.0124485989284\n",
      "500 1.66901750801 +/- 0.00497897164945\n",
      "B1-c\n",
      "250 1.24703441032 +/- 0.00651241379648\n",
      "350 1.58998785931 +/- 0.00581891516799\n",
      "500 1.99942132826 +/- 0.00234342218857\n",
      "IRAS03301\n",
      "250 1.11037454228 +/- 0.0173311650568\n",
      "350 1.69422809348 +/- 0.0158883517185\n",
      "500 1.97413039417 +/- 0.0128334914945\n",
      "TMR1\n",
      "250 1.77675531916 +/- 0.00832588857121\n",
      "350 2.08926271009 +/- 0.00995934458463\n",
      "500 2.15095128585 +/- 0.00748804677488\n",
      "TMC1A\n",
      "250 1.70773770662 +/- 0.00749704703304\n",
      "350 1.88726187563 +/- 0.00735636838068\n",
      "500 2.18559097735 +/- 0.00516696306921\n",
      "TMC1\n",
      "250 1.29093565038 +/- 0.0103315164133\n",
      "350 1.44623570295 +/- 0.0116287088075\n",
      "500 1.8854418273 +/- 0.00640983027784\n",
      "IRAS15398\n",
      "250 0.894475275859 +/- 0.0150331130801\n",
      "350 2.08933086188 +/- 0.0136622057775\n",
      "500 2.4142557472 +/- 0.00484949671145\n",
      "RNO91\n",
      "250 1.87403544935 +/- 0.00601022159314\n",
      "350 2.11192500058 +/- 0.00857967325439\n",
      "500 2.32153737237 +/- 0.00479276368868\n",
      "GSS30-IRS1\n",
      "250 2.64143110534 +/- 0.00744647918811\n",
      "350 2.66485044351 +/- 0.0140695990659\n",
      "500 2.6033813634 +/- 0.00772744319128\n",
      "VLA1623\n",
      "250 1.55250185865 +/- 0.0061885296627\n",
      "350 2.23157536155 +/- 0.0124874306673\n",
      "500 2.51223799845 +/- 0.00481855561178\n"
     ]
    },
    {
     "name": "stderr",
     "output_type": "stream",
     "text": [
      "/Users/yaolun/anaconda/envs/astroconda3/lib/python3.5/site-packages/matplotlib/pyplot.py:524: RuntimeWarning: More than 20 figures have been opened. Figures created through the pyplot interface (`matplotlib.pyplot.figure`) are retained until explicitly closed and may consume too much memory. (To control this warning, see the rcParam `figure.max_open_warning`).\n",
      "  max_open_warning, RuntimeWarning)\n"
     ]
    },
    {
     "name": "stdout",
     "output_type": "stream",
     "text": [
      "WL12\n",
      "250 1.73697078026 +/- 0.00895746303802\n",
      "350 2.0956132662 +/- 0.0125940150256\n",
      "500 2.3474998306 +/- 0.00642475314839\n",
      "RCrA-IRS5A\n",
      "250 1.80204910334 +/- 0.00716380089701\n",
      "350 2.34205044302 +/- 0.0119497884553\n",
      "500 2.52988939664 +/- 0.00464626336802\n",
      "L483\n",
      "250 1.9780617265 +/- 0.00624105389669\n",
      "350 2.16302073701 +/- 0.0087229055676\n",
      "500 2.38685957127 +/- 0.00342702323164\n",
      "B335\n",
      "250 1.5321945495 +/- 0.00600667025341\n",
      "350 1.92587439503 +/- 0.00531062050524\n",
      "500 2.14073021326 +/- 0.00431238580898\n",
      "DKCha\n",
      "250 1.94806740864 +/- 0.00545087945128\n",
      "350 1.94320812246 +/- 0.00627765151989\n",
      "500 1.90927805202 +/- 0.00451600518193\n"
     ]
    },
    {
     "data": {
      "text/plain": [
       "<matplotlib.figure.Figure at 0x110668048>"
      ]
     },
     "metadata": {},
     "output_type": "display_data"
    },
    {
     "data": {
      "text/plain": [
       "<matplotlib.figure.Figure at 0x1135962b0>"
      ]
     },
     "metadata": {},
     "output_type": "display_data"
    },
    {
     "data": {
      "text/plain": [
       "<matplotlib.figure.Figure at 0x111d125c0>"
      ]
     },
     "metadata": {},
     "output_type": "display_data"
    },
    {
     "data": {
      "text/plain": [
       "<matplotlib.figure.Figure at 0x1139d4320>"
      ]
     },
     "metadata": {},
     "output_type": "display_data"
    },
    {
     "data": {
      "text/plain": [
       "<matplotlib.figure.Figure at 0x113d85cf8>"
      ]
     },
     "metadata": {},
     "output_type": "display_data"
    },
    {
     "data": {
      "text/plain": [
       "<matplotlib.figure.Figure at 0x1133d1208>"
      ]
     },
     "metadata": {},
     "output_type": "display_data"
    },
    {
     "data": {
      "text/plain": [
       "<matplotlib.figure.Figure at 0x11354bb38>"
      ]
     },
     "metadata": {},
     "output_type": "display_data"
    },
    {
     "data": {
      "text/plain": [
       "<matplotlib.figure.Figure at 0x1137a4630>"
      ]
     },
     "metadata": {},
     "output_type": "display_data"
    },
    {
     "data": {
      "text/plain": [
       "<matplotlib.figure.Figure at 0x1142aca20>"
      ]
     },
     "metadata": {},
     "output_type": "display_data"
    },
    {
     "data": {
      "text/plain": [
       "<matplotlib.figure.Figure at 0x111d12a20>"
      ]
     },
     "metadata": {},
     "output_type": "display_data"
    },
    {
     "data": {
      "text/plain": [
       "<matplotlib.figure.Figure at 0x10c5ac0b8>"
      ]
     },
     "metadata": {},
     "output_type": "display_data"
    },
    {
     "data": {
      "text/plain": [
       "<matplotlib.figure.Figure at 0x11391f748>"
      ]
     },
     "metadata": {},
     "output_type": "display_data"
    },
    {
     "data": {
      "text/plain": [
       "<matplotlib.figure.Figure at 0x113596c88>"
      ]
     },
     "metadata": {},
     "output_type": "display_data"
    },
    {
     "data": {
      "text/plain": [
       "<matplotlib.figure.Figure at 0x1139e1ef0>"
      ]
     },
     "metadata": {},
     "output_type": "display_data"
    },
    {
     "data": {
      "text/plain": [
       "<matplotlib.figure.Figure at 0x111d416d8>"
      ]
     },
     "metadata": {},
     "output_type": "display_data"
    },
    {
     "data": {
      "text/plain": [
       "<matplotlib.figure.Figure at 0x10c3b6048>"
      ]
     },
     "metadata": {},
     "output_type": "display_data"
    },
    {
     "data": {
      "text/plain": [
       "<matplotlib.figure.Figure at 0x113515278>"
      ]
     },
     "metadata": {},
     "output_type": "display_data"
    },
    {
     "data": {
      "text/plain": [
       "<matplotlib.figure.Figure at 0x113d87e48>"
      ]
     },
     "metadata": {},
     "output_type": "display_data"
    },
    {
     "data": {
      "text/plain": [
       "<matplotlib.figure.Figure at 0x1135e6278>"
      ]
     },
     "metadata": {},
     "output_type": "display_data"
    },
    {
     "data": {
      "text/plain": [
       "<matplotlib.figure.Figure at 0x1142ac588>"
      ]
     },
     "metadata": {},
     "output_type": "display_data"
    },
    {
     "data": {
      "text/plain": [
       "<matplotlib.figure.Figure at 0x1139ecda0>"
      ]
     },
     "metadata": {},
     "output_type": "display_data"
    },
    {
     "data": {
      "text/plain": [
       "<matplotlib.figure.Figure at 0x113d1f7f0>"
      ]
     },
     "metadata": {},
     "output_type": "display_data"
    },
    {
     "data": {
      "text/plain": [
       "<matplotlib.figure.Figure at 0x11378eef0>"
      ]
     },
     "metadata": {},
     "output_type": "display_data"
    },
    {
     "data": {
      "text/plain": [
       "<matplotlib.figure.Figure at 0x111d3e470>"
      ]
     },
     "metadata": {},
     "output_type": "display_data"
    },
    {
     "data": {
      "text/plain": [
       "<matplotlib.figure.Figure at 0x113546320>"
      ]
     },
     "metadata": {},
     "output_type": "display_data"
    },
    {
     "data": {
      "text/plain": [
       "<matplotlib.figure.Figure at 0x111d17c18>"
      ]
     },
     "metadata": {},
     "output_type": "display_data"
    }
   ],
   "source": [
    "from astropy.io import ascii\n",
    "\n",
    "obj_list_spire = ['RCrA-IRS7B','RCrA-IRS7C','HH46','L723-MM','L1014',\n",
    "                  'L1157','Ced110','BHR71','IRAS03245','L1551-IRS5',\n",
    "                  'L1455-IRS3','B1-a','B1-c','IRAS03301','TMR1',\n",
    "                  'TMC1A','TMC1','IRAS15398','RNO91','GSS30-IRS1',\n",
    "                  'VLA1623','WL12','RCrA-IRS5A','L483','B335',\n",
    "                  'DKCha']\n",
    "\n",
    "archive_dir = '/Volumes/SD-Mac/CDF_archive_v2/'\n",
    "outdir = '/Volumes/SD-Mac/research/cops-spire/spire_alpha/'\n",
    "\n",
    "#\n",
    "for obj in obj_list_spire:\n",
    "    spec = ascii.read(archive_dir+obj+'/spire/advanced_products/'+obj+'_spire_corrected_continuum.txt')\n",
    "    \n",
    "    print(obj)\n",
    "    fitted_alpha, fitted_alpha_err = spire_spectral_index(outdir, str(obj), obj, spec)    \n",
    "\n",
    "    # write out the alpha index\n",
    "    foo = open(outdir+obj+'_alpha_continuum.txt','w')\n",
    "    foo.write('250um \\t 350um \\t 500um \\n')\n",
    "    foo.write('%8.6f \\t %8.6f \\t %8.6f \\n' % (fitted_alpha[0], fitted_alpha[1], fitted_alpha[2]))\n",
    "    foo.write('%8.6f \\t %8.6f \\t %8.6f \\n' % (fitted_alpha_err[0], fitted_alpha_err[1], fitted_alpha_err[2]))\n",
    "    foo.close()"
   ]
  },
  {
   "cell_type": "markdown",
   "metadata": {},
   "source": [
    "### Plot the $\\alpha_{500}$ fitted with SEDs+lines"
   ]
  },
  {
   "cell_type": "code",
   "execution_count": 25,
   "metadata": {
    "collapsed": true
   },
   "outputs": [],
   "source": [
    "def lsubmm(low_wave, spec, dist):\n",
    "    \"\"\"\n",
    "    spec = 'Wavelength(um)' and 'Flux_Density(Jy)'\n",
    "    dist: distance in parsec\n",
    "    \"\"\"\n",
    "    import sys\n",
    "    sys.path.append('/Users/yaolun/programs/misc/hyperion/')\n",
    "#     sys.path.append('/home/bettyjo/yaolun/programs/misc/hyperion/')\n",
    "    from l_bol import l_bol\n",
    "    \n",
    "    l = l_bol(spec['Wavelength(um)'][spec['Wavelength(um)'] >= low_wave],\n",
    "              spec['Flux_Density(Jy)'][spec['Wavelength(um)'] >= low_wave], dist)\n",
    "    return l.data[0]"
   ]
  },
  {
   "cell_type": "code",
   "execution_count": 31,
   "metadata": {},
   "outputs": [
    {
     "data": {
      "image/png": "[encoded data removed]",
      "text/plain": [
       "<matplotlib.figure.Figure at 0x11392f860>"
      ]
     },
     "metadata": {
      "image/png": {
       "height": 550,
       "width": 569
      }
     },
     "output_type": "display_data"
    }
   ],
   "source": [
    "import matplotlib.pyplot as plt\n",
    "\n",
    "fig = plt.figure(figsize=(6,6))\n",
    "ax = fig.add_subplot(111)\n",
    "\n",
    "lsubmm_list = []\n",
    "for o in obj_list:\n",
    "    spec = ascii.read(archive_dir+o+'/spire/advanced_products/'+o+'_spire_corrected_continuum.txt')\n",
    "    l = lsubmm(350, spec, dist['distance'][dist['object'] == o])\n",
    "    lsubmm_list.append(l)\n",
    "\n",
    "    # read in the alpha500 fitted with line-free SEDs\n",
    "    a500_linefree = ascii.read('/Volumes/SD-Mac/research/cops-spire/spire_alpha/'+o+'_alpha_continuum.txt')\n",
    "    \n",
    "    if l_bol_list[obj_list.index(o)]/l <= 200.:\n",
    "        class0 = ax.errorbar(l_bol_list[obj_list.index(o)], alpha500_list[obj_list.index(o)],\n",
    "                    yerr=alpha500_err_list[obj_list.index(o)], marker='o', color='b', markersize=6)\n",
    "        class0_free = ax.errorbar(l_bol_list[obj_list.index(o)], a500_linefree['500um'][0],\n",
    "                                  yerr=a500_linefree['500um'][1], marker='o', color='m', markersize=6)\n",
    "        \n",
    "    else:\n",
    "        class1 = ax.errorbar(l_bol_list[obj_list.index(o)], alpha500_list[obj_list.index(o)],\n",
    "                    yerr=alpha500_err_list[obj_list.index(o)], marker='o', color='r', markersize=6)\n",
    "        class1_free = ax.errorbar(l_bol_list[obj_list.index(o)], a500_linefree['500um'][0],\n",
    "                                  yerr=a500_linefree['500um'][1], marker='o', color='k', markersize=6)\n",
    "\n",
    "ax.set_ylim([1.5, 3.0])\n",
    "\n",
    "# ax.legend([class0, class1, class0_free, class1_free], ['Class 0', 'Class I', 'Class 0 (line-free)', 'Class I (line-free)'], \n",
    "#           fontsize=18, loc='best', ncol=2)\n",
    "ax.set_xlabel(r'$L_{\\rm bol}\\,[L_{\\odot}]$', fontsize=20)\n",
    "ax.set_ylabel(r'$\\alpha_{500}$', fontsize=20)\n",
    "ax.tick_params('both',labelsize=16,width=1.5,which='major',pad=5,length=5)\n",
    "ax.tick_params('both',labelsize=16,width=1.5,which='minor',pad=5,length=2.5)\n",
    "ax.set_xscale('log')\n",
    "\n",
    "[ax.spines[axis].set_linewidth(1.5) for axis in ['top','bottom','left','right']]\n",
    "ax.minorticks_on()\n",
    "\n",
    "# fig.savefig(plotdir+'/evolutionary/alpha500_lbol.pdf', format='pdf', dpi=300, bbox_inches='tight')"
   ]
  },
  {
   "cell_type": "markdown",
   "metadata": {},
   "source": [
    "## Fit the SPIRE spectra with a single blackbody"
   ]
  },
  {
   "cell_type": "code",
   "execution_count": 32,
   "metadata": {
    "collapsed": true
   },
   "outputs": [],
   "source": [
    "%matplotlib inline\n",
    "\n",
    "import numpy as np\n",
    "import matplotlib.pyplot as plt\n",
    "from astropy.io import ascii\n",
    "import astropy.constants as const\n",
    "c = const.c.cgs.value\n",
    "h = const.h.cgs.value\n",
    "k = const.k_B.cgs.value\n",
    "pc = const.pc.cgs.value\n",
    "AU = const.au.cgs.value\n",
    "MS = const.M_sun.cgs.value\n",
    "mh = const.m_p.cgs.value + const.m_e.cgs.value"
   ]
  },
  {
   "cell_type": "markdown",
   "metadata": {},
   "source": [
    "Dust Models"
   ]
  },
  {
   "cell_type": "code",
   "execution_count": 34,
   "metadata": {},
   "outputs": [],
   "source": [
    "# Weingartner & Draine\n",
    "# dustfile = ascii.read('/Users/yaolun/Google Drive/dust_model/Weingartner_Draine/kext_albedo_WD_MW_5.5A_30_D03_nocomment.all',\n",
    "#                       header_start=64, data_start=67)\n",
    "\n",
    "# Ossenkopf & Hennings\n",
    "# dustfile = ascii.read('/Users/yaolun/programs/misc/oh5_hyperion.txt', names=['nu', 'albedo','chi','g'])\n",
    "\n",
    "# Use Neal's original version of OH5 dust\n",
    "dustfile = np.genfromtxt('/Volumes/SD-Mac/Google Drive/dust_model/Dust_OH5_Evans_Shirley/sigma.oh5.ref', \n",
    "                          skip_header=2, skip_footer=1).T"
   ]
  },
  {
   "cell_type": "markdown",
   "metadata": {},
   "source": [
    "BHR71\n",
    "\n",
    "E(B-V) = 1.7790 +/-  0.1581 (S&F 2011) and\t2.0686 +/-  0.1839 (SFD 1998)\n",
    "\n",
    "if Rv = 5.5\n",
    "\n",
    "Av = 9.78 & 11.38"
   ]
  },
  {
   "cell_type": "markdown",
   "metadata": {},
   "source": [
    "$S_{\\nu} = B_{\\nu}(T_{dust}) (1-e^{-\\tau_{\\nu}})\\Omega_{beam, \\nu}$\n",
    "\n",
    "In optically thin limit\n",
    "\n",
    "$S_{\\nu} = B_{\\nu}(T_{dust})\\tau_{\\nu}\\Omega_{beam, \\nu}$\n",
    "\n",
    "assume $\\tau_{\\nu} = N_{dust} \\sigma_{d} Q_{ext}$\n",
    "\n",
    "$\\sigma_{d}$ is the geometric cross-section of dust grains, and $Q_{ext}$ is the dimensionless extinction efficiency\n",
    "\n",
    "take $\\sigma_{d} Q_{ext} = \\sigma_{ext} = \\sigma_{scat}+\\sigma_{abs}$\n",
    "\n",
    "then $S_{\\nu} = B_{\\nu}(T_{dust})\\sigma_{ext}N_{dust}\\Omega_{beam, \\nu}$"
   ]
  },
  {
   "cell_type": "markdown",
   "metadata": {},
   "source": [
    "The goal is to fit\n",
    "$S_{\\nu} \\propto B_{\\nu}(T_{dust})\\nu^{\\beta}$"
   ]
  },
  {
   "cell_type": "code",
   "execution_count": 173,
   "metadata": {
    "collapsed": true
   },
   "outputs": [],
   "source": [
    "def modbb_fitter(spec, fitted_size):    \n",
    "    import numpy as np\n",
    "    from scipy.optimize import curve_fit\n",
    "    import astropy.constants as const\n",
    "    from astropy.io import ascii\n",
    "    from scipy.interpolate import interp1d\n",
    "    \n",
    "    c = const.c.cgs.value\n",
    "\n",
    "    def bbfunc(nu, tdust, beta, Nd):\n",
    "\n",
    "        h = const.h.cgs.value\n",
    "        c = const.c.cgs.value\n",
    "        k = const.k_B.cgs.value\n",
    "\n",
    "        bb = 2.*h*nu**3/c**2 / (np.exp(h*nu/k/tdust)-1)\n",
    "        \n",
    "        nu500 = c/500*1e4/1e9\n",
    "\n",
    "        return bb * (nu/nu500)**beta * Nd * omegab\n",
    "    \n",
    "    omegab = np.pi*(fitted_size/2)**2/4.25e10 # based on Makiwa+2016\n",
    "    \n",
    "    nu = c/spec['Wavelength(um)'][0::10]*1e4/1e9\n",
    "    \n",
    "    \n",
    "    popt, pcov = curve_fit(bbfunc, nu, spec['Flux_Density(Jy)'][0::10], sigma=spec['Flux_Density(Jy)'][0::10]*0.1, p0=[50, 1.8, 1e38], check_finite=True)\n",
    "    print(popt[0], '+/-', pcov[0,0]**0.5)\n",
    "    print(popt[1], '+/-', pcov[1,1]**0.5)\n",
    "    \n",
    "    return popt, pcov, bbfunc\n",
    "    "
   ]
  },
  {
   "cell_type": "code",
   "execution_count": 174,
   "metadata": {},
   "outputs": [
    {
     "name": "stdout",
     "output_type": "stream",
     "text": [
      "51.0376412099 +/- 0.0347640641129\n",
      "0.36457923192 +/- 0.00758288820065\n"
     ]
    }
   ],
   "source": [
    "from astropy.io import ascii\n",
    "import matplotlib.pyplot as plt\n",
    "import glob\n",
    "\n",
    "foo = open('/Volumes/SD-Mac/research/cops-spire/greybbfit/results.txt', 'w')\n",
    "foo.write('{:<10s}  {:<10s}  {:<10s}  {:<10s}  {:<10s}\\n'.format('Object', 'Tdust', 'unc_Tdust', 'beta', 'unc_beta'))\n",
    "\n",
    "for obj in obj_list:\n",
    "\n",
    "    obj = 'BHR71'\n",
    "    spec = ascii.read(archive_dir+obj+'/spire/advanced_products/'+obj+'_spire_corrected_continuum.txt')\n",
    "    fitted_size = ascii.read(glob.glob(archive_dir+obj+'/spire/data/*meta*')[0], data_start=4)['size'].data[0]\n",
    "\n",
    "    popt, pcov, bbfunc = modbb_fitter(spec, fitted_size)\n",
    "\n",
    "    foo.write('{:<10s}  {:<10e}  {:<10e}  {:<10e}  {:<10e}\\n'.format(obj, popt[0], pcov[0,0]**0.5, popt[1], pcov[1,1]**0.5))\n",
    "    \n",
    "    # plot\n",
    "    fig = plt.figure()\n",
    "    ax = fig.add_subplot(111)\n",
    "\n",
    "    data, = ax.plot(spec['Wavelength(um)'], spec['Flux_Density(Jy)'], 'b-')\n",
    "    fit, = ax.plot(spec['Wavelength(um)'][0::10], bbfunc(c/spec['Wavelength(um)'][0::10]*1e4/1e9, *popt), 'r-')\n",
    "    \n",
    "    ax.legend([data, fit], ['Data', 'Fit'], loc='best', fontsize=16)\n",
    "    ax.set_xlabel('Wavelength [$\\mu$m]', fontsize=18)\n",
    "    ax.set_ylabel('Flux Density [Jy]', fontsize=18)\n",
    "    \n",
    "    fig.savefig('/Volumes/SD-Mac/research/cops-spire/greybbfit/'+obj+'_fitting.pdf', format='pdf', dpi=300, bbox_inches='tight')"
   ]
  },
  {
   "cell_type": "code",
   "execution_count": 175,
   "metadata": {},
   "outputs": [
    {
     "data": {
      "text/plain": [
       "['RCrA-IRS7B',\n",
       " 'RCrA-IRS7C',\n",
       " 'HH46',\n",
       " 'L723-MM',\n",
       " 'L1014',\n",
       " 'L1157',\n",
       " 'Ced110',\n",
       " 'BHR71',\n",
       " 'IRAS03245',\n",
       " 'L1551-IRS5',\n",
       " 'L1455-IRS3',\n",
       " 'B1-a',\n",
       " 'B1-c',\n",
       " 'IRAS03301',\n",
       " 'TMR1',\n",
       " 'TMC1A',\n",
       " 'TMC1',\n",
       " 'IRAS15398',\n",
       " 'RNO91',\n",
       " 'GSS30-IRS1',\n",
       " 'VLA1623',\n",
       " 'WL12',\n",
       " 'RCrA-IRS5A',\n",
       " 'L483',\n",
       " 'B335',\n",
       " 'DKCha']"
      ]
     },
     "execution_count": 175,
     "metadata": {},
     "output_type": "execute_result"
    }
   ],
   "source": [
    "obj_list"
   ]
  },
  {
   "cell_type": "code",
   "execution_count": 170,
   "metadata": {},
   "outputs": [
    {
     "data": {
      "text/plain": [
       "[<matplotlib.lines.Line2D at 0x1200731d0>]"
      ]
     },
     "execution_count": 170,
     "metadata": {},
     "output_type": "execute_result"
    },
    {
     "data": {
      "image/png": "[encoded data removed]",
      "text/plain": [
       "<matplotlib.figure.Figure at 0x11fcfe3c8>"
      ]
     },
     "metadata": {
      "image/png": {
       "height": 347,
       "width": 522
      }
     },
     "output_type": "display_data"
    }
   ],
   "source": [
    "\n",
    "# ax.plot(spec['Wavelength(um)'][0::10], bbfunc(c/spec['Wavelength(um)'][0::10]*1e4/1e9, 40, 1.85, 1e38), 'r-')"
   ]
  },
  {
   "cell_type": "code",
   "execution_count": 77,
   "metadata": {},
   "outputs": [
    {
     "data": {
      "text/plain": [
       "['/Volumes/SD-Mac/CDF_archive_v2/BHR71/spire/data/1342248249_spire_sect_meta.txt']"
      ]
     },
     "execution_count": 77,
     "metadata": {},
     "output_type": "execute_result"
    }
   ],
   "source": [
    "glob.glob(archive_dir+obj+'/spire/data/*meta*')"
   ]
  },
  {
   "cell_type": "code",
   "execution_count": null,
   "metadata": {
    "collapsed": true
   },
   "outputs": [],
   "source": [
    "\n",
    "p = curve_fit(bbfunc(omegab, kappa_int), nu, f_phot, sigma=f_phot_err, p0=[50, 1e22])\n",
    "print p\n",
    "perr = np.sqrt(np.diag(p[1]))\n",
    "print perr\n",
    "# print p[0]+perr, p[0]-perr"
   ]
  }
 ],
 "metadata": {
  "kernelspec": {
   "display_name": "Python 3",
   "language": "python",
   "name": "python3"
  },
  "language_info": {
   "codemirror_mode": {
    "name": "ipython",
    "version": 3
   },
   "file_extension": ".py",
   "mimetype": "text/x-python",
   "name": "python",
   "nbconvert_exporter": "python",
   "pygments_lexer": "ipython3",
   "version": "3.5.2"
  }
 },
 "nbformat": 4,
 "nbformat_minor": 1
}
