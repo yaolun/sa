{
 "cells": [
  {
   "cell_type": "code",
   "execution_count": 1,
   "metadata": {
    "collapsed": false
   },
   "outputs": [
    {
     "name": "stderr",
     "output_type": "stream",
     "text": [
      "/Users/yaolun/anaconda/lib/python2.7/site-packages/matplotlib/font_manager.py:273: UserWarning: Matplotlib is building the font cache using fc-list. This may take a moment.\n",
      "  warnings.warn('Matplotlib is building the font cache using fc-list. This may take a moment.')\n"
     ]
    }
   ],
   "source": [
    "%matplotlib inline"
   ]
  },
  {
   "cell_type": "markdown",
   "metadata": {},
   "source": [
    "# Calibrate Herschel PACS and SPIRE 1-D spectra for semi-extended objects"
   ]
  },
  {
   "cell_type": "markdown",
   "metadata": {},
   "source": [
    "## PACS"
   ]
  },
  {
   "cell_type": "code",
   "execution_count": 2,
   "metadata": {
    "collapsed": false
   },
   "outputs": [],
   "source": [
    "from pacs_weight import pacs_weight\n",
    "import numpy as np\n",
    "import matplotlib.pyplot as plt\n",
    "from astropy.io import ascii, fits"
   ]
  },
  {
   "cell_type": "code",
   "execution_count": 16,
   "metadata": {
    "collapsed": true
   },
   "outputs": [],
   "source": [
    "outdir = '/Users/yaolun/bhr71/best_calibrated/'\n",
    "cubedir = '/Users/yaolun/bhr71/best_calibrated/bhr71_cube/fits_hsa/'\n",
    "photpath = '/Users/yaolun/bhr71/best_calibrated/bhr71.txt'"
   ]
  },
  {
   "cell_type": "code",
   "execution_count": 3,
   "metadata": {
    "collapsed": true
   },
   "outputs": [],
   "source": [
    "outdir = '/Users/yaolun/L1551-IRS5/'\n",
    "cubedir = '/Users/yaolun/L1551-IRS5/data/fits/'"
   ]
  },
  {
   "cell_type": "markdown",
   "metadata": {},
   "source": [
    "### From rebinned cube to 1-D spectra"
   ]
  },
  {
   "cell_type": "code",
   "execution_count": 5,
   "metadata": {
    "collapsed": false
   },
   "outputs": [
    {
     "name": "stdout",
     "output_type": "stream",
     "text": [
      "% Compiled module: GET_PACS.\n",
      "% Compiled module: GET_PACS_1D.\n",
      "% Compiled module: GET_PACS_LINESCAN.\n",
      "% Compiled module: READFITS.\n",
      "% Compiled module: SXPAR.\n",
      "% Compiled module: GETTOK.\n",
      "% Compiled module: VALID_NUM.\n",
      "% Compiled module: MRD_SKIP.\n",
      "% Compiled module: HEADFITS.\n",
      "% Compiled module: FXPOSIT.\n",
      "% Compiled module: MRD_HREAD.\n",
      "% Compiled module: AL_LEGEND.\n",
      "% Compiled module: CGCHECKFORSYMBOLS.\n",
      "% Compiled module: SETDEFAULTVALUE.\n",
      "% Compiled module: CGTEXT.\n",
      "% Compiled module: CGDEFCHARSIZE.\n",
      "% Compiled module: SETDECOMPOSEDSTATE.\n",
      "% Compiled module: DECOMPOSEDCOLOR.\n",
      "% Compiled module: CGDEFAULTCOLOR.\n",
      "% Compiled module: GETDECOMPOSEDSTATE.\n",
      "% Compiled module: CGCOLOR24.\n",
      "% Compiled module: CGPLOTS.\n",
      "% Compiled module: CGCOLOR.\n"
     ]
    }
   ],
   "source": [
    "cubefile = [cubedir+'bhr71_rebinnedcube_blue1.fits',cubedir+'bhr71_rebinnedcube_red1.fits',\n",
    "            cubedir+'bhr71_rebinnedcube_blue2.fits',cubedir+'bhr71_rebinnedcube_red2.fits']\n",
    "import pidly\n",
    "idl = pidly.IDL('/Applications/exelis/idl83/bin/idl')\n",
    "idl('.r /Users/yaolun/programs/line_fitting/get_pacs.pro')\n",
    "idl.pro('get_pacs', outdir=cubedir, objname='BHR71', filename=cubefile, suffix='hsa', separate=1)"
   ]
  },
  {
   "cell_type": "markdown",
   "metadata": {},
   "source": [
    "## L1551-IRS5"
   ]
  },
  {
   "cell_type": "code",
   "execution_count": null,
   "metadata": {
    "collapsed": true
   },
   "outputs": [],
   "source": [
    "cubefile = [cubedir+'hpacs1342192805_20hps3drbs_00.fits',cubedir+'hpacs1342192805_20hps3drrs_00.fits',\n",
    "            cubedir+'hpacs1342229711_20hps3drbs_00.fits',cubedir+'hpacs1342229711_20hps3drrs_00.fits']"
   ]
  },
  {
   "cell_type": "code",
   "execution_count": 22,
   "metadata": {
    "collapsed": false
   },
   "outputs": [
    {
     "name": "stdout",
     "output_type": "stream",
     "text": [
      "183.587366853\n",
      "Weighted spectrum saved at  /Users/yaolun/L1551-IRS5/data/L1551-IRS5_pacs_weightedhsa_b2a.txt\n",
      "184.428096366\n",
      "Weighted spectrum saved at  /Users/yaolun/L1551-IRS5/data/L1551-IRS5_pacs_weightedhsa_r1s.txt\n",
      "4.03933738786\n",
      "Weighted spectrum saved at  /Users/yaolun/L1551-IRS5/data/L1551-IRS5_pacs_weightedhsa_b2b.txt\n",
      "4.87982346945\n",
      "Weighted spectrum saved at  /Users/yaolun/L1551-IRS5/data/L1551-IRS5_pacs_weightedhsa_r1l.txt\n"
     ]
    }
   ],
   "source": [
    "wl = np.array([])\n",
    "flux = np.array([])\n",
    "for cube in cubefile:\n",
    "    hdu_dum = fits.open(cube)\n",
    "    wl_min = hdu_dum[8].data.min()\n",
    "    if wl_min < 60.:\n",
    "        band = 'b2a'\n",
    "    elif (wl_min > 60.) & (wl_min < 100):\n",
    "        band = 'b2b'\n",
    "    elif (wl_min > 100) & (wl_min < 130):\n",
    "        band = 'r1s'\n",
    "    elif wl_min > 130.:\n",
    "        band = 'r1l'\n",
    "    print hdu_dum[1].header['CROTA2']\n",
    "    wl_dum, flux_dum = pacs_weight(outdir+'data/cube/', 'L1551-IRS5', 31.8,\n",
    "                                   '/Users/yaolun/L1551-IRS5/data/', cube, suffix='hsa_'+band)\n",
    "    \n",
    "    if band == 'b2a':\n",
    "        trimmer = (wl_dum >= 54.8) & (wl_dum < 72.3)\n",
    "    elif band == 'b2b':\n",
    "        trimmer = (wl_dum >= 72.3) & (wl_dum < 95.05)\n",
    "    elif band == 'r1s':\n",
    "        trimmer = (wl_dum >= 103) & (wl_dum < 143)\n",
    "    elif band == 'r1l':\n",
    "        trimmer = (wl_dum >= 143) & (wl_dum < 190.31)\n",
    "    \n",
    "    wl = np.hstack((wl, wl_dum[trimmer]))\n",
    "    flux = np.hstack((flux, flux_dum[trimmer]))\n",
    "sorter = np.argsort(wl)\n",
    "wl = wl[sorter]\n",
    "flux = flux[sorter]"
   ]
  },
  {
   "cell_type": "code",
   "execution_count": 20,
   "metadata": {
    "collapsed": false
   },
   "outputs": [
    {
     "data": {
      "text/plain": [
       "[<matplotlib.lines.Line2D at 0x10b5f6050>]"
      ]
     },
     "execution_count": 20,
     "metadata": {},
     "output_type": "execute_result"
    },
    {
     "data": {
      "image/png": "[encoded data removed]",
      "text/plain": [
       "<matplotlib.figure.Figure at 0x10b9af590>"
      ]
     },
     "metadata": {},
     "output_type": "display_data"
    }
   ],
   "source": [
    "plt.plot(wl, flux)"
   ]
  },
  {
   "cell_type": "markdown",
   "metadata": {},
   "source": [
    "## BHR71"
   ]
  },
  {
   "cell_type": "code",
   "execution_count": 17,
   "metadata": {
    "collapsed": true
   },
   "outputs": [],
   "source": [
    "cubefile = [cubedir+'hpacs1342212230_20hps3drbs_00.fits',cubedir+'hpacs1342212230_20hps3drrs_00.fits',\n",
    "            cubedir+'hpacs1342212231_20hps3drbs_00.fits',cubedir+'hpacs1342212231_20hps3drrs_00.fits']"
   ]
  },
  {
   "cell_type": "code",
   "execution_count": 35,
   "metadata": {
    "collapsed": false
   },
   "outputs": [
    {
     "name": "stdout",
     "output_type": "stream",
     "text": [
      "337.599120461\n",
      "Weighted spectrum saved at  /Users/yaolun/bhr71/best_calibrated/bhr71_cube/BHR71_pacs_weighted_hsa_b2a.txt\n",
      "338.440063355\n",
      "Weighted spectrum saved at  /Users/yaolun/bhr71/best_calibrated/bhr71_cube/BHR71_pacs_weighted_hsa_r1s.txt\n",
      "337.513346003\n",
      "Weighted spectrum saved at  /Users/yaolun/bhr71/best_calibrated/bhr71_cube/BHR71_pacs_weighted_hsa_b2b.txt\n",
      "338.354031442\n",
      "Weighted spectrum saved at  /Users/yaolun/bhr71/best_calibrated/bhr71_cube/BHR71_pacs_weighted_hsa_r1l.txt\n"
     ]
    }
   ],
   "source": [
    "wl = np.array([])\n",
    "flux = np.array([])\n",
    "for cube in cubefile:\n",
    "    hdu_dum = fits.open(cube)\n",
    "    wl_min = hdu_dum[8].data.min()\n",
    "    if wl_min < 60.:\n",
    "        band = 'b2a'\n",
    "    elif (wl_min > 60.) & (wl_min < 100):\n",
    "        band = 'b2b'\n",
    "    elif (wl_min > 100) & (wl_min < 130):\n",
    "        band = 'r1s'\n",
    "    elif wl_min > 130.:\n",
    "        band = 'r1l'\n",
    "    print hdu_dum[1].header['CROTA2']\n",
    "    wl_dum, flux_dum = pacs_weight(outdir+'bhr71_cube/', 'BHR71', 31.8,\n",
    "                                   outdir+'bhr71_cube/', cube, suffix='hsa_'+band)\n",
    "    \n",
    "    if band == 'b2a':\n",
    "        trimmer = (wl_dum >= 54.8) & (wl_dum < 72.3)\n",
    "    elif band == 'b2b':\n",
    "        trimmer = (wl_dum >= 72.3) & (wl_dum < 95.05)\n",
    "    elif band == 'r1s':\n",
    "        trimmer = (wl_dum >= 103) & (wl_dum < 143)\n",
    "    elif band == 'r1l':\n",
    "        trimmer = (wl_dum >= 143) & (wl_dum < 190.31)\n",
    "    \n",
    "    wl = np.hstack((wl, wl_dum[trimmer]))\n",
    "    flux = np.hstack((flux, flux_dum[trimmer]))\n",
    "sorter = np.argsort(wl)\n",
    "wl = wl[sorter]\n",
    "flux = flux[sorter]\n",
    "\n",
    "# write out\n",
    "foo = open(outdir+'BHR71_pacs_weighted.txt','w')\n",
    "foo.write('{} \\t {}\\n'.format('Wavelength(um)', 'Flux_Density(Jy)'))\n",
    "for i in range(len(wl)):\n",
    "    foo.write('{} \\t {}\\n'.format(wl[i], flux[i]))\n",
    "foo.close()"
   ]
  },
  {
   "cell_type": "code",
   "execution_count": 36,
   "metadata": {
    "collapsed": false
   },
   "outputs": [
    {
     "data": {
      "text/plain": [
       "(50, 200)"
      ]
     },
     "execution_count": 36,
     "metadata": {},
     "output_type": "execute_result"
    },
    {
     "data": {
      "image/png": "[encoded data removed]",
      "text/plain": [
       "<matplotlib.figure.Figure at 0x10c2c6310>"
      ]
     },
     "metadata": {},
     "output_type": "display_data"
    }
   ],
   "source": [
    "plt.plot(wl, flux)\n",
    "phot = ascii.read(photpath, comment='%')\n",
    "plt.errorbar(phot['wavelength'], phot['flux(Jy)'], yerr=phot['error(Jy)'], fmt='s')\n",
    "plt.xlim([50,200])"
   ]
  },
  {
   "cell_type": "markdown",
   "metadata": {},
   "source": [
    "### BHR71 calibration without separating individual band"
   ]
  },
  {
   "cell_type": "code",
   "execution_count": 18,
   "metadata": {
    "collapsed": false
   },
   "outputs": [
    {
     "data": {
      "text/plain": [
       "<Container object of 3 artists>"
      ]
     },
     "execution_count": 18,
     "metadata": {},
     "output_type": "execute_result"
    },
    {
     "data": {
      "image/png": "[encoded data removed]",
      "text/plain": [
       "<matplotlib.figure.Figure at 0x10da34c50>"
      ]
     },
     "metadata": {},
     "output_type": "display_data"
    }
   ],
   "source": [
    "plt.plot(wl, flux)\n",
    "phot = ascii.read(photpath, comment='%')\n",
    "plt.errorbar([70, 100, 160], phot['flux(Jy)'][(phot['wavelength'] > 50.) & (phot['wavelength'] < 200.)], \n",
    "             yerr=phot['error(Jy)'][(phot['wavelength'] > 50.) & (phot['wavelength'] < 200.)], \n",
    "             fmt='s', color='m', linestyle='None')"
   ]
  },
  {
   "cell_type": "markdown",
   "metadata": {},
   "source": [
    "### Fit the weighted PACS spectrum"
   ]
  },
  {
   "cell_type": "code",
   "execution_count": 9,
   "metadata": {
    "collapsed": false
   },
   "outputs": [
    {
     "name": "stdout",
     "output_type": "stream",
     "text": [
      "% Compiled module: GAUSS.\n",
      "% Compiled module: EXTRACT_PACS.\n",
      "% Compiled module: EXTRACT_PACS_LINESCAN.\n",
      "---> Re-calculating the noise level...\n"
     ]
    }
   ],
   "source": [
    "idl('.r /Users/yaolun/programs/line_fitting/gauss.pro')\n",
    "idl('.r /Users/yaolun/programs/line_fitting/extract_pacs.pro')\n",
    "idl.pro('extract_pacs', indir=outdir, filename='BHR71_pacs_weighted',\n",
    "        outdir=outdir+'fitting/pacs/advanced_products/',\n",
    "        plotdir=outdir+'fitting/pacs/advanced_products/plots/', noiselevel=3, ra=0, dec=0, global_noise=20,\n",
    "        localbaseline=10, opt_width=1, continuum=1, flat=1, object='BHR71', double_gauss=1, fixed_width=1)"
   ]
  },
  {
   "cell_type": "code",
   "execution_count": 9,
   "metadata": {
    "collapsed": false
   },
   "outputs": [
    {
     "data": {
      "text/plain": [
       "<Container object of 3 artists>"
      ]
     },
     "execution_count": 9,
     "metadata": {},
     "output_type": "execute_result"
    },
    {
     "data": {
      "image/png": "[encoded data removed]",
      "text/plain": [
       "<matplotlib.figure.Figure at 0x10cd43c10>"
      ]
     },
     "metadata": {},
     "output_type": "display_data"
    }
   ],
   "source": [
    "pacs_cont = ascii.read(outdir+'fitting/pacs/advanced_products/BHR71_pacs_weighted_continuum.txt')\n",
    "\n",
    "plt.plot(pacs_cont['Wavelength(um)'], pacs_cont['Flux_Density(Jy)'])\n",
    "plt.errorbar([70, 100, 160], phot['flux'], yerr=phot['uncertainty'], fmt='s', color='m', linestyle='None')"
   ]
  },
  {
   "cell_type": "markdown",
   "metadata": {
    "collapsed": true
   },
   "source": [
    "## SPIRE"
   ]
  },
  {
   "cell_type": "markdown",
   "metadata": {},
   "source": [
    "### Call for HIPE"
   ]
  },
  {
   "cell_type": "code",
   "execution_count": null,
   "metadata": {
    "collapsed": false
   },
   "outputs": [],
   "source": [
    "from subprocess import Popen, call\n",
    "run = call(['hipe','/Users/programs/spectra_analysis/bhr71_sect_phot.py'])\n",
    "run.communicate()"
   ]
  },
  {
   "cell_type": "code",
   "execution_count": 9,
   "metadata": {
    "collapsed": false
   },
   "outputs": [
    {
     "data": {
      "text/plain": [
       "<Container object of 3 artists>"
      ]
     },
     "execution_count": 9,
     "metadata": {},
     "output_type": "execute_result"
    },
    {
     "data": {
      "image/png": "[encoded data removed]",
      "text/plain": [
       "<matplotlib.figure.Figure at 0x10b518450>"
      ]
     },
     "metadata": {},
     "output_type": "display_data"
    }
   ],
   "source": [
    "# read in the spectrum\n",
    "spire_spec = ascii.read(outdir+'spire_sect.txt', data_start=4)\n",
    "# convert it to the usual format\n",
    "spire_wl = np.hstack((spire_spec['wave_segm1_0'][spire_spec['wave_segm1_0'] >= 310].data,\n",
    "            spire_spec['wave_segm2_0'][(spire_spec['wave_segm2_0'] < 310) & (spire_spec['wave_segm2_0'] > 195)].data))\n",
    "spire_flux = np.hstack((spire_spec['flux_segm1_0'][spire_spec['wave_segm1_0'] >= 310].data,\n",
    "            spire_spec['flux_segm2_0'][(spire_spec['wave_segm2_0'] < 310) & (spire_spec['wave_segm2_0'] > 195)].data))\n",
    "\n",
    "sorter = np.argsort(spire_wl)\n",
    "spire_wl = spire_wl[sorter].data\n",
    "spire_flux = spire_flux[sorter].data\n",
    "\n",
    "# Write to file\n",
    "foo = open(outdir+'BHR71_spire_corrected.txt','w')\n",
    "foo.write('%s \\t %s \\n' % ('Wavelength(um)', 'Flux_Density(Jy)'))\n",
    "for i in range(len(spire_wl)):\n",
    "    foo.write('%f \\t %f \\n' % (spire_wl[i], spire_flux[i]))\n",
    "foo.close()\n",
    "\n",
    "# read in the photometry\n",
    "spire_phot = ascii.read(outdir+'phot_sect.txt', data_start=4)\n",
    "\n",
    "plt.plot(spire_wl, spire_flux)\n",
    "plt.errorbar(spire_phot['wavelength(um)'], spire_phot['flux(Jy)'], yerr=spire_phot['uncertainty(Jy)'],\n",
    "             fmt='s', color='m', linestyle='None')"
   ]
  },
  {
   "cell_type": "code",
   "execution_count": 50,
   "metadata": {
    "collapsed": false
   },
   "outputs": [
    {
     "name": "stdout",
     "output_type": "stream",
     "text": [
      "% Compiled module: GAUSS.\n",
      "% Compiled module: EXTRACT_SPIRE.\n",
      "---> Re-calculating the noise level...\n"
     ]
    }
   ],
   "source": [
    "idl('.r /Users/yaolun/programs/line_fitting/gauss.pro')\n",
    "idl('.r /Users/yaolun/programs/line_fitting/extract_spire.pro')\n",
    "idl.pro('extract_spire', indir=outdir, filename='BHR71_spire_corrected',\n",
    "        outdir=outdir+'fitting/spire/advanced_products/',\n",
    "        plotdir=outdir+'fitting/spire/advanced_products/plots/', noiselevel=3, ra=0, dec=0, global_noise=20,\n",
    "        localbaseline=10, continuum=1, flat=1, object='BHR71', double_gauss=1, fx=1)"
   ]
  },
  {
   "cell_type": "code",
   "execution_count": 51,
   "metadata": {
    "collapsed": false
   },
   "outputs": [
    {
     "data": {
      "text/plain": [
       "<Container object of 3 artists>"
      ]
     },
     "execution_count": 51,
     "metadata": {},
     "output_type": "execute_result"
    },
    {
     "data": {
      "image/png": "[encoded data removed]",
      "text/plain": [
       "<matplotlib.figure.Figure at 0x10cd2cb90>"
      ]
     },
     "metadata": {},
     "output_type": "display_data"
    }
   ],
   "source": [
    "spire_cont = ascii.read(outdir+'fitting/spire/advanced_products/BHR71_spire_corrected_continuum.txt')\n",
    "\n",
    "plt.plot(spire_cont['Wavelength(um)'], spire_cont['Flux_Density(Jy)'])\n",
    "plt.errorbar(spire_phot['wavelength(um)'], spire_phot['flux(Jy)'], yerr=spire_phot['uncertainty(Jy)'],\n",
    "             fmt='s', color='m', linestyle='None')"
   ]
  },
  {
   "cell_type": "code",
   "execution_count": 52,
   "metadata": {
    "collapsed": false
   },
   "outputs": [
    {
     "data": {
      "text/plain": [
       "<Container object of 3 artists>"
      ]
     },
     "execution_count": 52,
     "metadata": {},
     "output_type": "execute_result"
    },
    {
     "data": {
      "image/png": "[encoded data removed]",
      "text/plain": [
       "<matplotlib.figure.Figure at 0x1029a7410>"
      ]
     },
     "metadata": {},
     "output_type": "display_data"
    }
   ],
   "source": [
    "plt.plot(pacs_cont['Wavelength(um)'], pacs_cont['Flux_Density(Jy)'])\n",
    "plt.errorbar([70, 100, 160], phot['flux'], yerr=phot['uncertainty'], fmt='s', color='m', linestyle='None')\n",
    "\n",
    "plt.plot(spire_cont['Wavelength(um)'], spire_cont['Flux_Density(Jy)'])\n",
    "plt.errorbar(spire_phot['wavelength(um)'], spire_phot['flux(Jy)'], yerr=spire_phot['uncertainty(Jy)'],\n",
    "             fmt='s', color='m', linestyle='None')"
   ]
  },
  {
   "cell_type": "code",
   "execution_count": null,
   "metadata": {
    "collapsed": true
   },
   "outputs": [],
   "source": []
  }
 ],
 "metadata": {
  "kernelspec": {
   "display_name": "Python 2",
   "language": "python",
   "name": "python2"
  },
  "language_info": {
   "codemirror_mode": {
    "name": "ipython",
    "version": 2
   },
   "file_extension": ".py",
   "mimetype": "text/x-python",
   "name": "python",
   "nbconvert_exporter": "python",
   "pygments_lexer": "ipython2",
   "version": "2.7.11"
  }
 },
 "nbformat": 4,
 "nbformat_minor": 0
}
