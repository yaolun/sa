{
 "cells": [
  {
   "cell_type": "code",
   "execution_count": 11,
   "metadata": {
    "collapsed": true
   },
   "outputs": [],
   "source": [
    "# This is a Python 3 script"
   ]
  },
  {
   "cell_type": "code",
   "execution_count": 1,
   "metadata": {
    "collapsed": true
   },
   "outputs": [],
   "source": [
    "from astropy.io import ascii\n",
    "import numpy as np\n",
    "from astropy import units as u\n",
    "from astropy.coordinates import SkyCoord\n",
    "\n",
    "data = ascii.read('/Users/yaolun/data/digit_hsa_results.csv')\n",
    "\n",
    "# add a source column\n",
    "data['source'] = np.empty_like(data['TARGET_NAME'])"
   ]
  },
  {
   "cell_type": "code",
   "execution_count": 14,
   "metadata": {
    "collapsed": false
   },
   "outputs": [
    {
     "data": {
      "text/html": [
       "&lt;Table masked=True length=67&gt;\n",
       "<table id=\"table4515732560\" class=\"table-striped table-bordered table-condensed\">\n",
       "<thead><tr><th>OBSERVATION_ID</th><th>TARGET_NAME</th><th>START_TIME</th><th>INSTRUMENT_NAME</th><th>RA</th><th>DEC</th><th>OBSERVER</th><th>PROPOSAL_ID</th><th>AOR</th><th>PROP_END</th><th>OBSSTATE</th><th>DURATION</th><th>OBSERVING_MODE_OID</th><th>SPG_ID</th><th>OD_NUMBER</th><th>STATUS</th><th>DISTANCE</th><th>source</th></tr></thead>\n",
       "<thead><tr><th>int64</th><th>str27</th><th>str21</th><th>str4</th><th>float64</th><th>float64</th><th>str8</th><th>str21</th><th>str69</th><th>str21</th><th>str18</th><th>float64</th><th>str9</th><th>str11</th><th>int64</th><th>str6</th><th>int64</th><th>str27</th></tr></thead>\n",
       "<tr><td>1342227103</td><td>per_05_45</td><td>2011-08-22 20:29:36.0</td><td>PACS</td><td>52.5640475521</td><td>30.8038316333</td><td>pandre</td><td>KPGT_pandre_1</td><td>PPhoto-0000</td><td>2012-02-22 00:00:00.0</td><td>LEVEL2_PROCESSED</td><td>22832.0</td><td>PacsPhoto</td><td>SPG v14.2.0</td><td>831</td><td>PASSED</td><td>--</td><td>B1-a</td></tr>\n",
       "<tr><td>1342227104</td><td>per_05_45</td><td>2011-08-23 02:51:34.0</td><td>PACS</td><td>52.5698430616</td><td>30.8042402682</td><td>pandre</td><td>KPGT_pandre_1</td><td>PPhoto-0000 - per_05_135</td><td>2012-02-23 00:00:00.0</td><td>LEVEL2_PROCESSED</td><td>22832.0</td><td>PacsPhoto</td><td>SPG v14.2.0</td><td>831</td><td>PASSED</td><td>--</td><td>B1-a</td></tr>\n",
       "<tr><td>1342267246</td><td>perB1-bN-1</td><td>2013-03-13 00:37:56.0</td><td>PACS</td><td>53.3373887983</td><td>31.1291319248</td><td>pandre</td><td>KPGT_pandre_1</td><td>perB1-bN+070deg</td><td>2013-09-13 00:37:56.0</td><td>LEVEL2_PROCESSED</td><td>276.0</td><td>PacsPhoto</td><td>SPG v14.2.0</td><td>1399</td><td>PASSED</td><td>--</td><td>B1-a</td></tr>\n",
       "<tr><td>1342267247</td><td>perB1-bN-1</td><td>2013-03-13 00:43:38.0</td><td>PACS</td><td>53.3379766366</td><td>31.1277352931</td><td>pandre</td><td>KPGT_pandre_1</td><td>perB1-bN+110deg</td><td>2013-09-13 00:43:38.0</td><td>LEVEL2_PROCESSED</td><td>276.0</td><td>PacsPhoto</td><td>SPG v14.2.0</td><td>1399</td><td>PASSED</td><td>--</td><td>B1-a</td></tr>\n",
       "<tr><td>1342216036</td><td>L1489</td><td>2011-03-14 20:07:54.0</td><td>PACS</td><td>61.1835947259</td><td>26.337518196</td><td>pandre</td><td>KPGT_pandre_1</td><td>Taurus_L1489_p1</td><td>2011-12-15 00:00:00.0</td><td>LEVEL2_PROCESSED</td><td>415.0</td><td>PacsPhoto</td><td>SPG v14.2.0</td><td>669</td><td>PASSED</td><td>--</td><td>L1489</td></tr>\n",
       "<tr><td>1342216037</td><td>L1489</td><td>2011-03-14 20:15:52.0</td><td>PACS</td><td>61.1942423547</td><td>26.3406906944</td><td>pandre</td><td>KPGT_pandre_1</td><td>Taurus_L1489_p2</td><td>2011-12-15 00:00:00.0</td><td>LEVEL2_PROCESSED</td><td>415.0</td><td>PacsPhoto</td><td>SPG v14.2.0</td><td>669</td><td>PASSED</td><td>--</td><td>L1489</td></tr>\n",
       "<tr><td>1342190941</td><td>IRAM04191</td><td>2010-02-22 07:05:44.0</td><td>PACS</td><td>65.4957074591</td><td>15.5089082461</td><td>okrause</td><td>KPGT_okrause_1</td><td>Launhardt PACS-1 - IRAM04191</td><td>2011-02-22 07:05:44.0</td><td>LEVEL2_5_PROCESSED</td><td>2870.0</td><td>PacsPhoto</td><td>SPG v14.2.0</td><td>284</td><td>PASSED</td><td>--</td><td>IRAM04191+1522</td></tr>\n",
       "<tr><td>1342190942</td><td>IRAM04191</td><td>2010-02-22 07:54:37.0</td><td>PACS</td><td>65.4957074591</td><td>15.5089082461</td><td>okrause</td><td>KPGT_okrause_1</td><td>Launhardt PACS-2 - IRAM04191</td><td>2011-02-22 07:54:37.0</td><td>LEVEL2_5_PROCESSED</td><td>3141.0</td><td>PacsPhoto</td><td>SPG v14.2.0</td><td>284</td><td>PASSED</td><td>--</td><td>IRAM04191+1522</td></tr>\n",
       "<tr><td>1342241875</td><td>class12-J04220007+1530248</td><td>2012-03-19 14:02:00.0</td><td>PACS</td><td>65.4987685885</td><td>15.5058350277</td><td>jpatienc</td><td>OT1_jpatienc_1</td><td>taurusbd-PPhoto - class12-J04220007+1530248_p1</td><td>2012-09-19 14:02:00.0</td><td>LEVEL2_PROCESSED</td><td>445.0</td><td>PacsPhoto</td><td>SPG v14.2.0</td><td>1040</td><td>PASSED</td><td>--</td><td>IRAM04191+1522</td></tr>\n",
       "<tr><td>1342241874</td><td>class12-J04220007+1530248</td><td>2012-03-19 13:57:17.0</td><td>PACS</td><td>65.5002621319</td><td>15.5062966804</td><td>jpatienc</td><td>OT1_jpatienc_1</td><td>taurusbd-PPhoto - class12-J04220007+1530248_p2</td><td>2012-09-19 13:57:17.0</td><td>LEVEL2_PROCESSED</td><td>220.0</td><td>PacsPhoto</td><td>SPG v14.2.0</td><td>1040</td><td>PASSED</td><td>--</td><td>IRAM04191+1522</td></tr>\n",
       "<tr><td>...</td><td>...</td><td>...</td><td>...</td><td>...</td><td>...</td><td>...</td><td>...</td><td>...</td><td>...</td><td>...</td><td>...</td><td>...</td><td>...</td><td>...</td><td>...</td><td>...</td><td>...</td></tr>\n",
       "<tr><td>1342218806</td><td>CrA_center_2</td><td>2011-04-18 12:25:35.0</td><td>PACS</td><td>285.84964441</td><td>-37.1291207658</td><td>pandre</td><td>KPGT_pandre_1</td><td>Corona_Australis_2 - 0002</td><td>2011-12-15 00:00:00.0</td><td>LEVEL2_PROCESSED</td><td>19351.0</td><td>PacsPhoto</td><td>SPG v14.2.0</td><td>704</td><td>PASSED</td><td>--</td><td>RCrA-IRS7B</td></tr>\n",
       "<tr><td>1342218807</td><td>CrA_center_2</td><td>2011-04-18 17:49:09.0</td><td>PACS</td><td>285.849695485</td><td>-37.1285989959</td><td>pandre</td><td>KPGT_pandre_1</td><td>Corona_Australis_1 - 0002</td><td>2011-12-15 00:00:00.0</td><td>LEVEL2_PROCESSED</td><td>19351.0</td><td>PacsPhoto</td><td>SPG v14.2.0</td><td>704</td><td>PASSED</td><td>--</td><td>RCrA-IRS7B</td></tr>\n",
       "<tr><td>1342231917</td><td>L723</td><td>2011-11-05 19:40:28.0</td><td>PACS</td><td>289.454173649</td><td>19.2323645397</td><td>mdunham</td><td>OT1_mdunham_1</td><td>L723-PACS-45</td><td>2012-05-05 19:40:28.0</td><td>LEVEL2_PROCESSED</td><td>213.0</td><td>PacsPhoto</td><td>SPG v14.2.0</td><td>906</td><td>PASSED</td><td>--</td><td>L723-MM</td></tr>\n",
       "<tr><td>1342231918</td><td>L723</td><td>2011-11-05 19:45:04.0</td><td>PACS</td><td>289.463414779</td><td>19.2372968817</td><td>mdunham</td><td>OT1_mdunham_1</td><td>L723-PACS-135</td><td>2012-05-05 19:45:04.0</td><td>LEVEL2_PROCESSED</td><td>213.0</td><td>PacsPhoto</td><td>SPG v14.2.0</td><td>906</td><td>PASSED</td><td>--</td><td>L723-MM</td></tr>\n",
       "<tr><td>1342196030</td><td>B335</td><td>2010-05-09 12:53:56.0</td><td>PACS</td><td>294.225813017</td><td>7.57806272735</td><td>okrause</td><td>KPGT_okrause_1</td><td>Launhardt PACS-1 - B335</td><td>2011-05-09 12:53:56.0</td><td>LEVEL2_5_PROCESSED</td><td>4509.0</td><td>PacsPhoto</td><td>SPG v14.2.0</td><td>360</td><td>PASSED</td><td>--</td><td>B335</td></tr>\n",
       "<tr><td>1342196031</td><td>B335</td><td>2010-05-09 14:10:08.0</td><td>PACS</td><td>294.225813017</td><td>7.57806272735</td><td>okrause</td><td>KPGT_okrause_1</td><td>Launhardt PACS-2 - B335</td><td>2011-05-09 14:10:08.0</td><td>LEVEL2_5_PROCESSED</td><td>4509.0</td><td>PacsPhoto</td><td>SPG v14.2.0</td><td>360</td><td>PASSED</td><td>--</td><td>B335</td></tr>\n",
       "<tr><td>1342224778</td><td>L1157</td><td>2011-07-27 19:53:42.0</td><td>PACS</td><td>310.274247131</td><td>67.5852889018</td><td>pandre</td><td>KPGT_pandre_1</td><td>cep_l1157_p1</td><td>2012-01-27 00:00:00.0</td><td>LEVEL2_PROCESSED</td><td>7969.0</td><td>PacsPhoto</td><td>SPG v14.2.0</td><td>805</td><td>PASSED</td><td>--</td><td>L1157</td></tr>\n",
       "<tr><td>1342224779</td><td>L1157</td><td>2011-07-27 22:07:49.0</td><td>PACS</td><td>310.275682055</td><td>67.5718316658</td><td>pandre</td><td>KPGT_pandre_1</td><td>cep_l1157_p2</td><td>2012-01-28 00:00:00.0</td><td>LEVEL2_PROCESSED</td><td>8021.0</td><td>PacsPhoto</td><td>SPG v14.2.0</td><td>805</td><td>PASSED</td><td>--</td><td>L1157</td></tr>\n",
       "<tr><td>1342225450</td><td>L1014</td><td>2011-07-24 06:29:38.0</td><td>PACS</td><td>321.035012912</td><td>49.982106206</td><td>mdunham</td><td>OT1_mdunham_1</td><td>L1014-PACS-135</td><td>2012-01-24 00:00:00.0</td><td>LEVEL2_PROCESSED</td><td>213.0</td><td>PacsPhoto</td><td>SPG v14.2.0</td><td>801</td><td>PASSED</td><td>--</td><td>L1014</td></tr>\n",
       "<tr><td>1342225449</td><td>L1014</td><td>2011-07-24 06:25:02.0</td><td>PACS</td><td>321.038885767</td><td>49.9896640207</td><td>mdunham</td><td>OT1_mdunham_1</td><td>L1014-PACS-45</td><td>2012-01-24 00:00:00.0</td><td>LEVEL2_PROCESSED</td><td>213.0</td><td>PacsPhoto</td><td>SPG v14.2.0</td><td>801</td><td>PASSED</td><td>--</td><td>L1014</td></tr>\n",
       "</table>"
      ],
      "text/plain": [
       "<Table masked=True length=67>\n",
       "OBSERVATION_ID        TARGET_NAME        ... DISTANCE     source    \n",
       "    int64                str27           ...  int64       str27     \n",
       "-------------- ------------------------- ... -------- --------------\n",
       "    1342227103                 per_05_45 ...       --           B1-a\n",
       "    1342227104                 per_05_45 ...       --           B1-a\n",
       "    1342267246                perB1-bN-1 ...       --           B1-a\n",
       "    1342267247                perB1-bN-1 ...       --           B1-a\n",
       "    1342216036                     L1489 ...       --          L1489\n",
       "    1342216037                     L1489 ...       --          L1489\n",
       "    1342190941                 IRAM04191 ...       -- IRAM04191+1522\n",
       "    1342190942                 IRAM04191 ...       -- IRAM04191+1522\n",
       "    1342241875 class12-J04220007+1530248 ...       -- IRAM04191+1522\n",
       "    1342241874 class12-J04220007+1530248 ...       -- IRAM04191+1522\n",
       "           ...                       ... ...      ...            ...\n",
       "    1342218806              CrA_center_2 ...       --     RCrA-IRS7B\n",
       "    1342218807              CrA_center_2 ...       --     RCrA-IRS7B\n",
       "    1342231917                      L723 ...       --        L723-MM\n",
       "    1342231918                      L723 ...       --        L723-MM\n",
       "    1342196030                      B335 ...       --           B335\n",
       "    1342196031                      B335 ...       --           B335\n",
       "    1342224778                     L1157 ...       --          L1157\n",
       "    1342224779                     L1157 ...       --          L1157\n",
       "    1342225450                     L1014 ...       --          L1014\n",
       "    1342225449                     L1014 ...       --          L1014"
      ]
     },
     "execution_count": 14,
     "metadata": {},
     "output_type": "execute_result"
    }
   ],
   "source": [
    "data"
   ]
  },
  {
   "cell_type": "markdown",
   "metadata": {},
   "source": [
    "### Reference source list for matching"
   ]
  },
  {
   "cell_type": "code",
   "execution_count": 2,
   "metadata": {
    "collapsed": false
   },
   "outputs": [],
   "source": [
    "ref = ascii.read('/Users/yaolun/data/digit_source')\n",
    "\n",
    "# create a list of SkyCoord objects\n",
    "ref_coord = ()\n",
    "for i in range(len(ref)):\n",
    "    ref_coord = ref_coord + (SkyCoord(ref['RA'][i], ref['DEC'][i], unit=(u.hourangle, u.deg)),)"
   ]
  },
  {
   "cell_type": "code",
   "execution_count": 3,
   "metadata": {
    "collapsed": false
   },
   "outputs": [
    {
     "data": {
      "text/html": [
       "&lt;Table length=36&gt;\n",
       "<table id=\"table4515931976\" class=\"table-striped table-bordered table-condensed\">\n",
       "<thead><tr><th>Name</th><th>RA</th><th>DEC</th><th>PACS</th><th>SPIRE</th></tr></thead>\n",
       "<thead><tr><th>str14</th><th>str10</th><th>str11</th><th>str5</th><th>str5</th></tr></thead>\n",
       "<tr><td>L1157</td><td>20:39:06.3</td><td>+68:02:16</td><td>TRUE</td><td>TRUE</td></tr>\n",
       "<tr><td>L1014</td><td>21:24:07.5</td><td>+49:59:09</td><td>TRUE</td><td>TRUE</td></tr>\n",
       "<tr><td>IRAS03301+3111</td><td>03:33:12.8</td><td>+31:21:24.2</td><td>TRUE</td><td>TRUE</td></tr>\n",
       "<tr><td>B1-c</td><td>03:33:17.9</td><td>+31:09:31.9</td><td>TRUE</td><td>TRUE</td></tr>\n",
       "<tr><td>B1-a</td><td>03:33:16.7</td><td>+31:07:55.2</td><td>TRUE</td><td>TRUE</td></tr>\n",
       "<tr><td>IRAS03245+3002</td><td>03:27:39.1</td><td>+30:13:03.1</td><td>TRUE</td><td>TRUE</td></tr>\n",
       "<tr><td>L1455-IRS3</td><td>03:28:00.4</td><td>+30:08:01.3</td><td>TRUE</td><td>TRUE</td></tr>\n",
       "<tr><td>TMR1</td><td>04:39:13.9</td><td>+25:53:20.6</td><td>TRUE</td><td>TRUE</td></tr>\n",
       "<tr><td>TMC1</td><td>04:41:12.7</td><td>+25:46:35.9</td><td>TRUE</td><td>TRUE</td></tr>\n",
       "<tr><td>TMC1A</td><td>04:39:35</td><td>+25:41:45.5</td><td>TRUE</td><td>TRUE</td></tr>\n",
       "<tr><td>...</td><td>...</td><td>...</td><td>...</td><td>...</td></tr>\n",
       "<tr><td>L1527</td><td>04:39:53.9</td><td>+26:03:09.8</td><td>TRUE</td><td>FALSE</td></tr>\n",
       "<tr><td>Serpens-SMM3</td><td>18:29:59.3</td><td>+01:14:01.7</td><td>TRUE</td><td>FALSE</td></tr>\n",
       "<tr><td>Serpens-SMM4</td><td>18:29:56.7</td><td>+01:13:17.2</td><td>TRUE</td><td>FALSE</td></tr>\n",
       "<tr><td>Ced110-IRS4</td><td>11:06:47</td><td>-77:22:32.4</td><td>FALSE</td><td>TRUE</td></tr>\n",
       "<tr><td>HH100</td><td>19:01:49.1</td><td>-36:58:16</td><td>FALSE</td><td>TRUE</td></tr>\n",
       "<tr><td>HH46</td><td>08:25:43.9</td><td>-51:00:36</td><td>FALSE</td><td>TRUE</td></tr>\n",
       "<tr><td>IRAS15398-3359</td><td>15:42:01.3</td><td>-34:09:15</td><td>FALSE</td><td>TRUE</td></tr>\n",
       "<tr><td>L483</td><td>18:17:29.9</td><td>-04:39:39.5</td><td>FALSE</td><td>TRUE</td></tr>\n",
       "<tr><td>L723-MM</td><td>19:17:53.7</td><td>+19:12:20</td><td>FALSE</td><td>TRUE</td></tr>\n",
       "<tr><td>RNO91</td><td>16:34:29.3</td><td>-15:47:01.4</td><td>FALSE</td><td>TRUE</td></tr>\n",
       "</table>"
      ],
      "text/plain": [
       "<Table length=36>\n",
       "     Name          RA         DEC      PACS SPIRE\n",
       "    str14        str10       str11     str5  str5\n",
       "-------------- ---------- ----------- ----- -----\n",
       "         L1157 20:39:06.3   +68:02:16  TRUE  TRUE\n",
       "         L1014 21:24:07.5   +49:59:09  TRUE  TRUE\n",
       "IRAS03301+3111 03:33:12.8 +31:21:24.2  TRUE  TRUE\n",
       "          B1-c 03:33:17.9 +31:09:31.9  TRUE  TRUE\n",
       "          B1-a 03:33:16.7 +31:07:55.2  TRUE  TRUE\n",
       "IRAS03245+3002 03:27:39.1 +30:13:03.1  TRUE  TRUE\n",
       "    L1455-IRS3 03:28:00.4 +30:08:01.3  TRUE  TRUE\n",
       "          TMR1 04:39:13.9 +25:53:20.6  TRUE  TRUE\n",
       "          TMC1 04:41:12.7 +25:46:35.9  TRUE  TRUE\n",
       "         TMC1A   04:39:35 +25:41:45.5  TRUE  TRUE\n",
       "           ...        ...         ...   ...   ...\n",
       "         L1527 04:39:53.9 +26:03:09.8  TRUE FALSE\n",
       "  Serpens-SMM3 18:29:59.3 +01:14:01.7  TRUE FALSE\n",
       "  Serpens-SMM4 18:29:56.7 +01:13:17.2  TRUE FALSE\n",
       "   Ced110-IRS4   11:06:47 -77:22:32.4 FALSE  TRUE\n",
       "         HH100 19:01:49.1   -36:58:16 FALSE  TRUE\n",
       "          HH46 08:25:43.9   -51:00:36 FALSE  TRUE\n",
       "IRAS15398-3359 15:42:01.3   -34:09:15 FALSE  TRUE\n",
       "          L483 18:17:29.9 -04:39:39.5 FALSE  TRUE\n",
       "       L723-MM 19:17:53.7   +19:12:20 FALSE  TRUE\n",
       "         RNO91 16:34:29.3 -15:47:01.4 FALSE  TRUE"
      ]
     },
     "execution_count": 3,
     "metadata": {},
     "output_type": "execute_result"
    }
   ],
   "source": [
    "ref"
   ]
  },
  {
   "cell_type": "code",
   "execution_count": 11,
   "metadata": {
    "collapsed": false
   },
   "outputs": [
    {
     "data": {
      "text/plain": [
       "<SkyCoord (ICRS): (ra, dec) in deg\n",
       "    (309.77625, 68.03777778)>"
      ]
     },
     "execution_count": 11,
     "metadata": {},
     "output_type": "execute_result"
    }
   ],
   "source": [
    "ref_coord[0]"
   ]
  },
  {
   "cell_type": "code",
   "execution_count": 12,
   "metadata": {
    "collapsed": false
   },
   "outputs": [
    {
     "data": {
      "text/plain": [
       "<SkyCoord (ICRS): (ra, dec) in deg\n",
       "    (310.27568205, 67.57183167)>"
      ]
     },
     "execution_count": 12,
     "metadata": {},
     "output_type": "execute_result"
    }
   ],
   "source": [
    "SkyCoord(data['RA'][-3], data['DEC'][-3], unit='deg')"
   ]
  },
  {
   "cell_type": "code",
   "execution_count": 9,
   "metadata": {
    "collapsed": false
   },
   "outputs": [
    {
     "data": {
      "text/latex": [
       "$0^\\circ30{}^\\prime09.6835{}^{\\prime\\prime}$"
      ],
      "text/plain": [
       "<Angle 0.5026898646561077 deg>"
      ]
     },
     "execution_count": 9,
     "metadata": {},
     "output_type": "execute_result"
    }
   ],
   "source": [
    "ref_coord[0].separation(SkyCoord(data['RA'][-3], data['DEC'][-3], unit='deg'))"
   ]
  },
  {
   "cell_type": "code",
   "execution_count": 17,
   "metadata": {
    "collapsed": false
   },
   "outputs": [
    {
     "name": "stdout",
     "output_type": "stream",
     "text": [
      "B1-a\n",
      "B1-a\n",
      "B1-a\n",
      "B1-a\n",
      "L1489\n",
      "L1489\n",
      "IRAM04191+1522\n",
      "IRAM04191+1522\n",
      "IRAM04191+1522\n",
      "IRAM04191+1522\n",
      "TMR1\n",
      "TMR1\n",
      "L1527\n",
      "L1527\n",
      "L1527\n",
      "Ced110-IRS4\n",
      "Ced110-IRS4\n",
      "Ced110-IRS4\n",
      "Ced110-IRS4\n",
      "BHR71\n",
      "BHR71\n",
      "BHR71\n",
      "BHR71\n",
      "DKCha\n",
      "DKCha\n",
      "IRAS15398-3359\n",
      "IRAS15398-3359\n",
      "GSS30-IRS1\n",
      "GSS30-IRS1\n",
      "WL12\n",
      "WL12\n",
      "IRS63\n",
      "IRS63\n",
      "L483\n",
      "L483\n",
      "L483\n",
      "L483\n",
      "Serpens-SMM4\n",
      "Serpens-SMM4\n",
      "RCrA-IRS5A\n",
      "RCrA-IRS5A\n",
      "RCrA-IRS5A\n",
      "RCrA-IRS5A\n",
      "RCrA-IRS5A\n",
      "RCrA-IRS5A\n",
      "RCrA-IRS5A\n",
      "RCrA-IRS5A\n",
      "RCrA-IRS5A\n",
      "RCrA-IRS5A\n",
      "RCrA-IRS5A\n",
      "RCrA-IRS5A\n",
      "RCrA-IRS5A\n",
      "RCrA-IRS5A\n",
      "RCrA-IRS7C\n",
      "RCrA-IRS7C\n",
      "HH100\n",
      "HH100\n",
      "RCrA-IRS7B\n",
      "RCrA-IRS7B\n",
      "L723-MM\n",
      "L723-MM\n",
      "B335\n",
      "B335\n",
      "L1157\n",
      "L1157\n",
      "L1014\n",
      "L1014\n"
     ]
    }
   ],
   "source": [
    "for i in range(len(data)):\n",
    "    c_test = SkyCoord(data['RA'][i], data['DEC'][i], unit='deg')\n",
    "    \n",
    "    dist_dum = []\n",
    "    for j in range(len(ref_coord)):\n",
    "        dist_dum.append(c_test.separation(ref_coord[j]).arcsecond)\n",
    "    dist_dum = np.array(dist_dum)\n",
    "\n",
    "#     if dist_dum[np.argsort(dist_dum)[0]] < 30.:\n",
    "    data['source'][i] = ref['Name'][dist_dum == dist_dum.min()].data[0]\n",
    "#     else:\n",
    "#         data['source'][i] = 'N/A'\n",
    "\n",
    "    print(data['source'][i])\n",
    "#     print(dist_dum[np.argsort(dist_dum)[1]])\n",
    "\n",
    "# write out\n",
    "ascii.write(data, '/Users/yaolun/data/digt_hsa_match.csv', format='fixed_width')"
   ]
  },
  {
   "cell_type": "code",
   "execution_count": 23,
   "metadata": {
    "collapsed": false
   },
   "outputs": [
    {
     "name": "stdout",
     "output_type": "stream",
     "text": [
      "L1157 [1342224778 1342224779]\n",
      "L1014 [1342225450 1342225449]\n",
      "IRAS03301+3111 []\n",
      "B1-c []\n",
      "B1-a [1342227103 1342227104 1342267246 1342267247]\n",
      "IRAS03245+3002 []\n",
      "L1455-IRS3 []\n",
      "TMR1 [1342228175 1342228174]\n",
      "TMC1 []\n",
      "TMC1A []\n",
      "L1551-IRS5 []\n",
      "B335 [1342196030 1342196031]\n",
      "GSS30-IRS1 [1342227148 1342227149]\n",
      "VLA1623-243 []\n",
      "WL12 [1342238817 1342238816]\n",
      "IRS46_44 []\n",
      "RCrA-IRS7C [1342184510 1342184511]\n",
      "RCrA-IRS5A [1342267429 1342267427 1342267428 1342267430 1342242076 1342241402\n",
      " 1342241519 1342241403 1342242555 1342242077 1342241314 1342241520\n",
      " 1342241313 1342242554]\n",
      "RCrA-IRS7B [1342218806 1342218807]\n",
      "BHR71 [1342224922 1342224925 1342224924 1342224923]\n",
      "DKCha [1342212709 1342212708]\n",
      "Elias29 []\n",
      "IRAM04191+1522 [1342190941 1342190942 1342241875 1342241874]\n",
      "IRS63 [1342227037 1342227038]\n",
      "L1448-MM []\n",
      "L1489 [1342216036 1342216037]\n",
      "L1527 [1342243453 1342243455 1342243454]\n",
      "Serpens-SMM3 []\n",
      "Serpens-SMM4 [1342229079 1342229080]\n",
      "Ced110-IRS4 [1342223480 1342223481 1342224782 1342224783]\n",
      "HH100 [1342267769 1342267768]\n",
      "HH46 []\n",
      "IRAS15398-3359 [1342226706 1342226705]\n",
      "L483 [1342228398 1342228397 1342228395 1342228396]\n",
      "L723-MM [1342231917 1342231918]\n",
      "RNO91 []\n"
     ]
    }
   ],
   "source": [
    "for i in range(len(ref)):\n",
    "    print(ref['Name'][i], data['OBSERVATION_ID'][data['source'] == ref['Name'][i]].data)"
   ]
  },
  {
   "cell_type": "code",
   "execution_count": null,
   "metadata": {
    "collapsed": true
   },
   "outputs": [],
   "source": []
  }
 ],
 "metadata": {
  "kernelspec": {
   "display_name": "Python 3",
   "language": "python",
   "name": "python3"
  },
  "language_info": {
   "codemirror_mode": {
    "name": "ipython",
    "version": 3
   },
   "file_extension": ".py",
   "mimetype": "text/x-python",
   "name": "python",
   "nbconvert_exporter": "python",
   "pygments_lexer": "ipython3",
   "version": "3.5.2"
  }
 },
 "nbformat": 4,
 "nbformat_minor": 0
}
