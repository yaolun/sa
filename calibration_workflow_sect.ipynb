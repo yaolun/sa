{
 "cells": [
  {
   "cell_type": "code",
   "execution_count": 2,
   "metadata": {
    "collapsed": true
   },
   "outputs": [],
   "source": [
    "%matplotlib inline"
   ]
  },
  {
   "cell_type": "markdown",
   "metadata": {},
   "source": [
    "# Calibrate Herschel PACS and SPIRE 1-D spectra for semi-extended objects"
   ]
  },
  {
   "cell_type": "markdown",
   "metadata": {},
   "source": [
    "## PACS"
   ]
  },
  {
   "cell_type": "code",
   "execution_count": 3,
   "metadata": {
    "collapsed": true
   },
   "outputs": [],
   "source": [
    "from pacs_weight import pacs_weight\n",
    "import numpy as np\n",
    "import matplotlib.pyplot as plt\n",
    "from astropy.io import ascii, fits"
   ]
  },
  {
   "cell_type": "code",
   "execution_count": 4,
   "metadata": {
    "collapsed": true
   },
   "outputs": [],
   "source": [
    "outdir = '/Users/yaolun/bhr71/best_calibrated/'\n",
    "cubedir = '/Users/yaolun/bhr71/data/HSA/'\n",
    "photpath = '/Users/yaolun/bhr71/best_calibrated/bhr71.txt'"
   ]
  },
  {
   "cell_type": "markdown",
   "metadata": {},
   "source": [
    "### From rebinned cube to 1-D spectra"
   ]
  },
  {
   "cell_type": "code",
   "execution_count": 5,
   "metadata": {
    "collapsed": false
   },
   "outputs": [
    {
     "name": "stdout",
     "output_type": "stream",
     "text": [
      "% Compiled module: GET_PACS.\n",
      "% Compiled module: GET_PACS_1D.\n",
      "% Compiled module: GET_PACS_LINESCAN.\n",
      "% Compiled module: READFITS.\n",
      "% Compiled module: SXPAR.\n",
      "% Compiled module: GETTOK.\n",
      "% Compiled module: VALID_NUM.\n",
      "% Compiled module: MRD_SKIP.\n",
      "% Compiled module: HEADFITS.\n",
      "% Compiled module: FXPOSIT.\n",
      "% Compiled module: MRD_HREAD.\n",
      "% Compiled module: AL_LEGEND.\n",
      "% Compiled module: CGCHECKFORSYMBOLS.\n",
      "% Compiled module: SETDEFAULTVALUE.\n",
      "% Compiled module: CGTEXT.\n",
      "% Compiled module: CGDEFCHARSIZE.\n",
      "% Compiled module: SETDECOMPOSEDSTATE.\n",
      "% Compiled module: DECOMPOSEDCOLOR.\n",
      "% Compiled module: CGDEFAULTCOLOR.\n",
      "% Compiled module: GETDECOMPOSEDSTATE.\n",
      "% Compiled module: CGCOLOR24.\n",
      "% Compiled module: CGPLOTS.\n",
      "% Compiled module: CGCOLOR.\n"
     ]
    }
   ],
   "source": [
    "cubefile = [cubedir+'bhr71_rebinnedcube_blue1.fits',cubedir+'bhr71_rebinnedcube_red1.fits',\n",
    "            cubedir+'bhr71_rebinnedcube_blue2.fits',cubedir+'bhr71_rebinnedcube_red2.fits']\n",
    "import pidly\n",
    "idl = pidly.IDL('/Applications/exelis/idl83/bin/idl')\n",
    "idl('.r /Users/yaolun/programs/line_fitting/get_pacs.pro')\n",
    "idl.pro('get_pacs', outdir=cubedir, objname='BHR71', filename=cubefile, suffix='hsa', hsa=1)"
   ]
  },
  {
   "cell_type": "code",
   "execution_count": 6,
   "metadata": {
    "collapsed": false
   },
   "outputs": [
    {
     "name": "stdout",
     "output_type": "stream",
     "text": [
      "Scaling: 0.827105 +/- 0.022025\n",
      "Weighted spectrum saved at  /Users/yaolun/bhr71/best_calibrated/BHR71pacs_weighted.txt\n"
     ]
    },
    {
     "name": "stderr",
     "output_type": "stream",
     "text": [
      "/Users/yaolun/anaconda/lib/python2.7/site-packages/numpy/core/numeric.py:294: FutureWarning: in the future, full((1000.0, 1000.0), 0) will return an array of dtype('int64')\n",
      "  format(shape, fill_value, array(fill_value).dtype), FutureWarning)\n"
     ]
    }
   ],
   "source": [
    "wl, flux, phot, scale = pacs_weight(cubedir+'cube/',\n",
    "                'BHR71', 31.8, photpath, outdir,\n",
    "                '/Users/yaolun/bhr71/calibration_testing/data/BHR71_042516/1342212230/level2/'+\n",
    "                'HPS3DRB/herschel.pacs.signal.PacsRebinnedCube/hpacs1342212230_20hps3drbs_00_1453197821063.fits',\n",
    "                suffix='hsa')"
   ]
  },
  {
   "cell_type": "code",
   "execution_count": 7,
   "metadata": {
    "collapsed": false
   },
   "outputs": [
    {
     "data": {
      "text/plain": [
       "<Container object of 3 artists>"
      ]
     },
     "execution_count": 7,
     "metadata": {},
     "output_type": "execute_result"
    },
    {
     "data": {
      "image/png": "[encoded data removed]",
      "text/plain": [
       "<matplotlib.figure.Figure at 0x10c50ca90>"
      ]
     },
     "metadata": {},
     "output_type": "display_data"
    }
   ],
   "source": [
    "plt.plot(wl, flux)\n",
    "plt.errorbar([70, 100, 160], phot['flux'], yerr=phot['uncertainty'], fmt='s', color='m', linestyle='None')"
   ]
  },
  {
   "cell_type": "markdown",
   "metadata": {},
   "source": [
    "### Fit the weighted PACS spectrum"
   ]
  },
  {
   "cell_type": "code",
   "execution_count": 9,
   "metadata": {
    "collapsed": false
   },
   "outputs": [
    {
     "name": "stdout",
     "output_type": "stream",
     "text": [
      "% Compiled module: GAUSS.\n",
      "% Compiled module: EXTRACT_PACS.\n",
      "% Compiled module: EXTRACT_PACS_LINESCAN.\n",
      "---> Re-calculating the noise level...\n"
     ]
    }
   ],
   "source": [
    "idl('.r /Users/yaolun/programs/line_fitting/gauss.pro')\n",
    "idl('.r /Users/yaolun/programs/line_fitting/extract_pacs.pro')\n",
    "idl.pro('extract_pacs', indir=outdir, filename='BHR71_pacs_weighted',\n",
    "        outdir=outdir+'fitting/pacs/advanced_products/',\n",
    "        plotdir=outdir+'fitting/pacs/advanced_products/plots/', noiselevel=3, ra=0, dec=0, global_noise=20,\n",
    "        localbaseline=10, opt_width=1, continuum=1, flat=1, object='BHR71', double_gauss=1, fixed_width=1)"
   ]
  },
  {
   "cell_type": "code",
   "execution_count": 9,
   "metadata": {
    "collapsed": false
   },
   "outputs": [
    {
     "data": {
      "text/plain": [
       "<Container object of 3 artists>"
      ]
     },
     "execution_count": 9,
     "metadata": {},
     "output_type": "execute_result"
    },
    {
     "data": {
      "image/png": "[encoded data removed]",
      "text/plain": [
       "<matplotlib.figure.Figure at 0x10cd43c10>"
      ]
     },
     "metadata": {},
     "output_type": "display_data"
    }
   ],
   "source": [
    "pacs_cont = ascii.read(outdir+'fitting/pacs/advanced_products/BHR71_pacs_weighted_continuum.txt')\n",
    "\n",
    "plt.plot(pacs_cont['Wavelength(um)'], pacs_cont['Flux_Density(Jy)'])\n",
    "plt.errorbar([70, 100, 160], phot['flux'], yerr=phot['uncertainty'], fmt='s', color='m', linestyle='None')"
   ]
  },
  {
   "cell_type": "markdown",
   "metadata": {
    "collapsed": true
   },
   "source": [
    "## SPIRE"
   ]
  },
  {
   "cell_type": "markdown",
   "metadata": {},
   "source": [
    "### Call for HIPE"
   ]
  },
  {
   "cell_type": "code",
   "execution_count": 48,
   "metadata": {
    "collapsed": false
   },
   "outputs": [
    {
     "ename": "OSError",
     "evalue": "[Errno 2] No such file or directory",
     "output_type": "error",
     "traceback": [
      "\u001b[0;31m---------------------------------------------------------------------------\u001b[0m",
      "\u001b[0;31mOSError\u001b[0m                                   Traceback (most recent call last)",
      "\u001b[0;32m<ipython-input-48-98856dc3018b>\u001b[0m in \u001b[0;36m<module>\u001b[0;34m()\u001b[0m\n\u001b[1;32m      1\u001b[0m \u001b[0;32mfrom\u001b[0m \u001b[0msubprocess\u001b[0m \u001b[0;32mimport\u001b[0m \u001b[0mPopen\u001b[0m\u001b[0;34m,\u001b[0m \u001b[0mcall\u001b[0m\u001b[0;34m\u001b[0m\u001b[0m\n\u001b[0;32m----> 2\u001b[0;31m \u001b[0mrun\u001b[0m \u001b[0;34m=\u001b[0m \u001b[0mcall\u001b[0m\u001b[0;34m(\u001b[0m\u001b[0;34m[\u001b[0m\u001b[0;34m'hipe'\u001b[0m\u001b[0;34m,\u001b[0m\u001b[0;34m'/Users/programs/spectra_analysis/bhr71_sect_phot.py'\u001b[0m\u001b[0;34m]\u001b[0m\u001b[0;34m)\u001b[0m\u001b[0;34m\u001b[0m\u001b[0m\n\u001b[0m\u001b[1;32m      3\u001b[0m \u001b[0mrun\u001b[0m\u001b[0;34m.\u001b[0m\u001b[0mcommunicate\u001b[0m\u001b[0;34m(\u001b[0m\u001b[0;34m)\u001b[0m\u001b[0;34m\u001b[0m\u001b[0m\n",
      "\u001b[0;32m/Users/yaolun/anaconda/lib/python2.7/subprocess.pyc\u001b[0m in \u001b[0;36mcall\u001b[0;34m(*popenargs, **kwargs)\u001b[0m\n\u001b[1;32m    520\u001b[0m     \u001b[0mretcode\u001b[0m \u001b[0;34m=\u001b[0m \u001b[0mcall\u001b[0m\u001b[0;34m(\u001b[0m\u001b[0;34m[\u001b[0m\u001b[0;34m\"ls\"\u001b[0m\u001b[0;34m,\u001b[0m \u001b[0;34m\"-l\"\u001b[0m\u001b[0;34m]\u001b[0m\u001b[0;34m)\u001b[0m\u001b[0;34m\u001b[0m\u001b[0m\n\u001b[1;32m    521\u001b[0m     \"\"\"\n\u001b[0;32m--> 522\u001b[0;31m     \u001b[0;32mreturn\u001b[0m \u001b[0mPopen\u001b[0m\u001b[0;34m(\u001b[0m\u001b[0;34m*\u001b[0m\u001b[0mpopenargs\u001b[0m\u001b[0;34m,\u001b[0m \u001b[0;34m**\u001b[0m\u001b[0mkwargs\u001b[0m\u001b[0;34m)\u001b[0m\u001b[0;34m.\u001b[0m\u001b[0mwait\u001b[0m\u001b[0;34m(\u001b[0m\u001b[0;34m)\u001b[0m\u001b[0;34m\u001b[0m\u001b[0m\n\u001b[0m\u001b[1;32m    523\u001b[0m \u001b[0;34m\u001b[0m\u001b[0m\n\u001b[1;32m    524\u001b[0m \u001b[0;34m\u001b[0m\u001b[0m\n",
      "\u001b[0;32m/Users/yaolun/anaconda/lib/python2.7/subprocess.pyc\u001b[0m in \u001b[0;36m__init__\u001b[0;34m(self, args, bufsize, executable, stdin, stdout, stderr, preexec_fn, close_fds, shell, cwd, env, universal_newlines, startupinfo, creationflags)\u001b[0m\n\u001b[1;32m    708\u001b[0m                                 \u001b[0mp2cread\u001b[0m\u001b[0;34m,\u001b[0m \u001b[0mp2cwrite\u001b[0m\u001b[0;34m,\u001b[0m\u001b[0;34m\u001b[0m\u001b[0m\n\u001b[1;32m    709\u001b[0m                                 \u001b[0mc2pread\u001b[0m\u001b[0;34m,\u001b[0m \u001b[0mc2pwrite\u001b[0m\u001b[0;34m,\u001b[0m\u001b[0;34m\u001b[0m\u001b[0m\n\u001b[0;32m--> 710\u001b[0;31m                                 errread, errwrite)\n\u001b[0m\u001b[1;32m    711\u001b[0m         \u001b[0;32mexcept\u001b[0m \u001b[0mException\u001b[0m\u001b[0;34m:\u001b[0m\u001b[0;34m\u001b[0m\u001b[0m\n\u001b[1;32m    712\u001b[0m             \u001b[0;31m# Preserve original exception in case os.close raises.\u001b[0m\u001b[0;34m\u001b[0m\u001b[0;34m\u001b[0m\u001b[0m\n",
      "\u001b[0;32m/Users/yaolun/anaconda/lib/python2.7/subprocess.pyc\u001b[0m in \u001b[0;36m_execute_child\u001b[0;34m(self, args, executable, preexec_fn, close_fds, cwd, env, universal_newlines, startupinfo, creationflags, shell, to_close, p2cread, p2cwrite, c2pread, c2pwrite, errread, errwrite)\u001b[0m\n\u001b[1;32m   1333\u001b[0m                         \u001b[0;32mraise\u001b[0m\u001b[0;34m\u001b[0m\u001b[0m\n\u001b[1;32m   1334\u001b[0m                 \u001b[0mchild_exception\u001b[0m \u001b[0;34m=\u001b[0m \u001b[0mpickle\u001b[0m\u001b[0;34m.\u001b[0m\u001b[0mloads\u001b[0m\u001b[0;34m(\u001b[0m\u001b[0mdata\u001b[0m\u001b[0;34m)\u001b[0m\u001b[0;34m\u001b[0m\u001b[0m\n\u001b[0;32m-> 1335\u001b[0;31m                 \u001b[0;32mraise\u001b[0m \u001b[0mchild_exception\u001b[0m\u001b[0;34m\u001b[0m\u001b[0m\n\u001b[0m\u001b[1;32m   1336\u001b[0m \u001b[0;34m\u001b[0m\u001b[0m\n\u001b[1;32m   1337\u001b[0m \u001b[0;34m\u001b[0m\u001b[0m\n",
      "\u001b[0;31mOSError\u001b[0m: [Errno 2] No such file or directory"
     ]
    }
   ],
   "source": [
    "from subprocess import Popen, call\n",
    "run = call(['hipe','/Users/programs/spectra_analysis/bhr71_sect_phot.py'])\n",
    "run.communicate()"
   ]
  },
  {
   "cell_type": "code",
   "execution_count": 44,
   "metadata": {
    "collapsed": false
   },
   "outputs": [
    {
     "data": {
      "text/plain": [
       "<Container object of 3 artists>"
      ]
     },
     "execution_count": 44,
     "metadata": {},
     "output_type": "execute_result"
    },
    {
     "data": {
      "image/png": "[encoded data removed]",
      "text/plain": [
       "<matplotlib.figure.Figure at 0x10d5b9b50>"
      ]
     },
     "metadata": {},
     "output_type": "display_data"
    }
   ],
   "source": [
    "# read in the spectrum\n",
    "spire_spec = ascii.read(outdir+'spire_sect.txt', data_start=4)\n",
    "# convert it to the usual format\n",
    "spire_wl = np.hstack((spire_spec['wave_segm1_0'][spire_spec['wave_segm1_0'] >= 310].data,\n",
    "            spire_spec['wave_segm2_0'][(spire_spec['wave_segm2_0'] < 310) & (spire_spec['wave_segm2_0'] > 195)].data))\n",
    "spire_flux = np.hstack((spire_spec['flux_segm1_0'][spire_spec['wave_segm1_0'] >= 310].data,\n",
    "            spire_spec['flux_segm2_0'][(spire_spec['wave_segm2_0'] < 310) & (spire_spec['wave_segm2_0'] > 195)].data))\n",
    "\n",
    "sorter = np.argsort(spire_wl)\n",
    "spire_wl = spire_wl[sorter].data\n",
    "spire_flux = spire_flux[sorter].data\n",
    "\n",
    "# Write to file\n",
    "foo = open(outdir+'BHR71_spire_corrected.txt','w')\n",
    "foo.write('%s \\t %s \\n' % ('Wavelength(um)', 'Flux_Density(Jy)'))\n",
    "for i in range(len(spire_wl)):\n",
    "    foo.write('%f \\t %f \\n' % (spire_wl[i], spire_flux[i]))\n",
    "foo.close()\n",
    "\n",
    "# read in the photometry\n",
    "spire_phot = ascii.read(outdir+'phot_sect.txt', data_start=4)\n",
    "\n",
    "plt.plot(spire_wl, spire_flux)\n",
    "plt.errorbar(spire_phot['wavelength(um)'], spire_phot['flux(Jy)'], yerr=spire_phot['uncertainty(Jy)'],\n",
    "             fmt='s', color='m', linestyle='None')"
   ]
  },
  {
   "cell_type": "code",
   "execution_count": 50,
   "metadata": {
    "collapsed": false
   },
   "outputs": [
    {
     "name": "stdout",
     "output_type": "stream",
     "text": [
      "% Compiled module: GAUSS.\n",
      "% Compiled module: EXTRACT_SPIRE.\n",
      "---> Re-calculating the noise level...\n"
     ]
    }
   ],
   "source": [
    "idl('.r /Users/yaolun/programs/line_fitting/gauss.pro')\n",
    "idl('.r /Users/yaolun/programs/line_fitting/extract_spire.pro')\n",
    "idl.pro('extract_spire', indir=outdir, filename='BHR71_spire_corrected',\n",
    "        outdir=outdir+'fitting/spire/advanced_products/',\n",
    "        plotdir=outdir+'fitting/spire/advanced_products/plots/', noiselevel=3, ra=0, dec=0, global_noise=20,\n",
    "        localbaseline=10, continuum=1, flat=1, object='BHR71', double_gauss=1, fx=1)"
   ]
  },
  {
   "cell_type": "code",
   "execution_count": 51,
   "metadata": {
    "collapsed": false
   },
   "outputs": [
    {
     "data": {
      "text/plain": [
       "<Container object of 3 artists>"
      ]
     },
     "execution_count": 51,
     "metadata": {},
     "output_type": "execute_result"
    },
    {
     "data": {
      "image/png": "[encoded data removed]",
      "text/plain": [
       "<matplotlib.figure.Figure at 0x10cd2cb90>"
      ]
     },
     "metadata": {},
     "output_type": "display_data"
    }
   ],
   "source": [
    "spire_cont = ascii.read(outdir+'fitting/spire/advanced_products/BHR71_spire_corrected_continuum.txt')\n",
    "\n",
    "plt.plot(spire_cont['Wavelength(um)'], spire_cont['Flux_Density(Jy)'])\n",
    "plt.errorbar(spire_phot['wavelength(um)'], spire_phot['flux(Jy)'], yerr=spire_phot['uncertainty(Jy)'],\n",
    "             fmt='s', color='m', linestyle='None')"
   ]
  },
  {
   "cell_type": "code",
   "execution_count": 52,
   "metadata": {
    "collapsed": false
   },
   "outputs": [
    {
     "data": {
      "text/plain": [
       "<Container object of 3 artists>"
      ]
     },
     "execution_count": 52,
     "metadata": {},
     "output_type": "execute_result"
    },
    {
     "data": {
      "image/png": "[encoded data removed]",
      "text/plain": [
       "<matplotlib.figure.Figure at 0x1029a7410>"
      ]
     },
     "metadata": {},
     "output_type": "display_data"
    }
   ],
   "source": [
    "plt.plot(pacs_cont['Wavelength(um)'], pacs_cont['Flux_Density(Jy)'])\n",
    "plt.errorbar([70, 100, 160], phot['flux'], yerr=phot['uncertainty'], fmt='s', color='m', linestyle='None')\n",
    "\n",
    "plt.plot(spire_cont['Wavelength(um)'], spire_cont['Flux_Density(Jy)'])\n",
    "plt.errorbar(spire_phot['wavelength(um)'], spire_phot['flux(Jy)'], yerr=spire_phot['uncertainty(Jy)'],\n",
    "             fmt='s', color='m', linestyle='None')"
   ]
  },
  {
   "cell_type": "code",
   "execution_count": null,
   "metadata": {
    "collapsed": true
   },
   "outputs": [],
   "source": []
  }
 ],
 "metadata": {
  "kernelspec": {
   "display_name": "Python 2",
   "language": "python",
   "name": "python2"
  },
  "language_info": {
   "codemirror_mode": {
    "name": "ipython",
    "version": 2
   },
   "file_extension": ".py",
   "mimetype": "text/x-python",
   "name": "python",
   "nbconvert_exporter": "python",
   "pygments_lexer": "ipython2",
   "version": "2.7.11"
  }
 },
 "nbformat": 4,
 "nbformat_minor": 0
}
