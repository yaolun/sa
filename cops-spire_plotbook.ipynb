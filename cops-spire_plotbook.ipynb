{
 "cells": [
  {
   "cell_type": "code",
   "execution_count": 1,
   "metadata": {
    "collapsed": true
   },
   "outputs": [],
   "source": [
    "# This is a Python 3 script"
   ]
  },
  {
   "cell_type": "code",
   "execution_count": 2,
   "metadata": {
    "collapsed": true
   },
   "outputs": [],
   "source": [
    "%matplotlib inline\n",
    "from astropy.io import ascii\n",
    "import numpy as np\n",
    "import matplotlib.pyplot as plt\n",
    "import astropy.constants as const\n",
    "\n",
    "LS = const.L_sun.cgs.value\n",
    "pc = const.pc.cgs.value"
   ]
  },
  {
   "cell_type": "code",
   "execution_count": 3,
   "metadata": {
    "collapsed": true
   },
   "outputs": [],
   "source": [
    "filename = '/Volumes/SD-Mac/CDF_archive/CDF_archive_spire_1d_lines.txt'"
   ]
  },
  {
   "cell_type": "code",
   "execution_count": 4,
   "metadata": {
    "collapsed": true
   },
   "outputs": [],
   "source": [
    "data = ascii.read(filename)"
   ]
  },
  {
   "cell_type": "code",
   "execution_count": 5,
   "metadata": {
    "collapsed": false
   },
   "outputs": [
    {
     "name": "stdout",
     "output_type": "stream",
     "text": [
      "{'IRAS03245', 'WL12', 'GSS30', 'RCrA-IRS7B', 'L1014', 'L1551-IRS5', 'B1-a', 'L1455-IRS', 'TMC1', 'TMC1A', 'HH46', 'TMR1', 'RCrA-IRS7C', 'BHR71', 'L723-MM', 'B335', 'L1157', 'RCrA-IRS5A', 'IRAS03301', 'B1-c', 'VLA1623', 'L483', 'DKCha', 'RNO91', 'IRAS15398', 'Ced110'}\n"
     ]
    }
   ],
   "source": [
    "print(set(data['Object']))"
   ]
  },
  {
   "cell_type": "code",
   "execution_count": 6,
   "metadata": {
    "collapsed": false
   },
   "outputs": [],
   "source": [
    "# Enter the line name \n",
    "linename = 'o-H2O1_10-1_01'"
   ]
  },
  {
   "cell_type": "code",
   "execution_count": 7,
   "metadata": {
    "collapsed": false
   },
   "outputs": [
    {
     "name": "stdout",
     "output_type": "stream",
     "text": [
      "Number of detections:  3\n",
      "Sources with detections:    Object \n",
      "---------\n",
      "     B1-c\n",
      "    BHR71\n",
      "IRAS15398\n"
     ]
    }
   ],
   "source": [
    "# only for 1-D spectra fitting results\n",
    "selecter = (data['Line'] == linename) & (data['SNR'] >= 3.0) & (data['Validity'] == 1)\n",
    "print('Number of detections: ', len(data[selecter]))\n",
    "print('Sources with detections: ', data[selecter]['Object'])"
   ]
  },
  {
   "cell_type": "markdown",
   "metadata": {
    "collapsed": true
   },
   "source": [
    "## Correlation plot"
   ]
  },
  {
   "cell_type": "code",
   "execution_count": 13,
   "metadata": {
    "collapsed": true
   },
   "outputs": [],
   "source": [
    "xname = 'o-H2O1_10-1_01'\n",
    "yname = 'p-H2O1_11-0_00'\n",
    "xlabel = r'$\\rm{o-H_{2}O\\,1_{10}-1_{01}\\,\\,Luminosity\\,[L_{\\odot}]}$'\n",
    "ylabel = r'$\\rm{p-H_{2}O\\,1_{11}-0_{00}\\,\\,Luminosity\\,[L_{\\odot}]}$'"
   ]
  },
  {
   "cell_type": "code",
   "execution_count": 24,
   "metadata": {
    "collapsed": true
   },
   "outputs": [],
   "source": [
    "xname = 'CO6-5'\n",
    "yname = 'CO4-3'\n",
    "xlabel = r'$\\rm{CO}\\,\\it{J}=6\\rightarrow5\\rm{\\,\\,Luminosity\\,[L_{\\odot}]}$'\n",
    "ylabel = r'$\\rm{CO}\\,\\it{J}=4\\rightarrow3\\rm{\\,\\,Luminosity\\,[L_{\\odot}]}$'"
   ]
  },
  {
   "cell_type": "code",
   "execution_count": 21,
   "metadata": {
    "collapsed": true
   },
   "outputs": [],
   "source": [
    "xname = 'CO6-5'\n",
    "yname = 'CO12-11'\n",
    "xlabel = r'$\\rm{CO}\\,\\it{J}=6\\rightarrow5\\rm{\\,\\,Luminosity\\,[L_{\\odot}]}$'\n",
    "ylabel = r'$\\rm{CO}\\,\\it{J}=12\\rightarrow11\\rm{\\,\\,Luminosity\\,[L_{\\odot}]}$'"
   ]
  },
  {
   "cell_type": "markdown",
   "metadata": {},
   "source": [
    "Distance of sources\n",
    "\n",
    "color code for sources"
   ]
  },
  {
   "cell_type": "code",
   "execution_count": 18,
   "metadata": {
    "collapsed": false
   },
   "outputs": [],
   "source": [
    "dist = {'L1014': 200, 'TMR1': 140, 'RCrA-IRS5A': 130, 'TMC1A': 140, 'IRAS03301': 250,\n",
    "        'IRAS03245': 250, 'HH46': 450, 'TMC1': 140, 'L1551-IRS5': 140, 'IRAS15398': 130,\n",
    "        'L723-MM': 300, 'WL12': 125, 'RNO91': 125, 'DKCha': 178, 'L483': 200,\n",
    "        'L1455-IRS': 250, 'Ced110': 125, 'GSS30': 125, 'L1157': 325, 'RCrA-IRS7B': 130,\n",
    "        'B335': 106, 'BHR71': 200, 'RCrA-IRS7C': 130, 'B1-a': 250, 'VLA1623': 125,\n",
    "        'B1-c': 250}\n",
    "# Class 0: blue; Class I: red; Class II: black\n",
    "color_code = {'L1014': 'k', 'TMR1': 'r', 'RCrA-IRS5A': 'r', 'TMC1A': 'r', 'IRAS03301': 'k',\n",
    "              'IRAS03245': 'b', 'HH46': 'r', 'TMC1': 'r', 'L1551-IRS5': 'r', 'IRAS15398': 'b',\n",
    "              'L723-MM': 'b', 'WL12': 'r', 'RNO91': 'r', 'DKCha': 'k', 'L483': 'b',\n",
    "              'L1455-IRS': 'r', 'Ced110': 'b', 'GSS30': 'r', 'L1157': 'b', 'RCrA-IRS7B': 'b',\n",
    "              'B335': 'b', 'BHR71': 'b', 'RCrA-IRS7C': 'r', 'B1-a': 'r', 'VLA1623': 'b',\n",
    "              'B1-c': 'b'}"
   ]
  },
  {
   "cell_type": "code",
   "execution_count": 25,
   "metadata": {
    "collapsed": false
   },
   "outputs": [],
   "source": [
    "xdata = np.empty(len(data['Object']))\n",
    "ydata = np.empty(len(data['Object']))\n",
    "\n",
    "# need to convert from W/cm2 to L_sun\n",
    "xdata_selecter = (data['Line'] == xname)\n",
    "xdetection_mask = xdata_selecter & (data['SNR'] >= 3) & (data['Validity'] == 1)\n",
    "xnondetection_mask = xdata_selecter & (data['SNR'] < 3)\n",
    "\n",
    "xdata[xdetection_mask] = data['Str(W/cm2)'][xdetection_mask]*data['FWHM(um)'][xdetection_mask]*\\\n",
    "        4*np.pi*(np.array([dist[obj] for obj in data['Object'][xdetection_mask]])*pc)**2*1e7/LS\n",
    "xdata[xnondetection_mask] = data['Noise(W/cm2/um)'][xnondetection_mask]*\\\n",
    "        4*np.pi*(np.array([dist[obj] for obj in data['Object'][xnondetection_mask]])*pc)**2*1e7/LS\n",
    "\n",
    "ydata_selecter = (data['Line'] == yname)\n",
    "ydetection_mask = ydata_selecter & (data['SNR'] >= 3) & (data['Validity'] == 1)\n",
    "ynondetection_mask = ydata_selecter & (data['SNR'] < 3)\n",
    "\n",
    "ydata[ydetection_mask] = data['Str(W/cm2)'][ydetection_mask]*data['FWHM(um)'][ydetection_mask]*\\\n",
    "        4*np.pi*(np.array([dist[obj] for obj in data['Object'][ydetection_mask]])*pc)**2*1e7/LS\n",
    "ydata[ynondetection_mask] = data['Noise(W/cm2/um)'][ynondetection_mask]*\\\n",
    "        4*np.pi*(np.array([dist[obj] for obj in data['Object'][ynondetection_mask]])*pc)**2*1e7/LS\n",
    "    \n",
    "\n",
    "# common detection indice\n",
    "xind = np.nonzero(np.in1d(data['Object'][xdetection_mask], data['Object'][ydetection_mask]))[0]\n",
    "yind = np.nonzero(np.in1d(data['Object'][ydetection_mask], data['Object'][xdetection_mask]))[0]\n",
    "\n",
    "# only upper limit in x\n",
    "xuplimx = np.nonzero(np.in1d(data['Object'][xnondetection_mask], data['Object'][ydetection_mask]))[0]\n",
    "yuplimx = np.nonzero(np.in1d(data['Object'][ydetection_mask], data['Object'][xnondetection_mask]))[0]\n",
    "\n",
    "# only upper limit in y\n",
    "xuplimy = np.nonzero(np.in1d(data['Object'][xdetection_mask], data['Object'][ynondetection_mask]))[0]\n",
    "yuplimy = np.nonzero(np.in1d(data['Object'][ynondetection_mask], data['Object'][xdetection_mask]))[0]\n",
    "\n",
    "# upper limits in both x and y\n",
    "xuplim = np.nonzero(np.in1d(data['Object'][xnondetection_mask], data['Object'][ynondetection_mask]))[0]\n",
    "yuplim = np.nonzero(np.in1d(data['Object'][ynondetection_mask], data['Object'][xnondetection_mask]))[0]"
   ]
  },
  {
   "cell_type": "code",
   "execution_count": 32,
   "metadata": {
    "collapsed": false
   },
   "outputs": [
    {
     "data": {
      "image/png": "[encoded data removed]",
      "text/plain": [
       "<matplotlib.figure.Figure at 0x10bfb7ba8>"
      ]
     },
     "metadata": {},
     "output_type": "display_data"
    }
   ],
   "source": [
    "fig = plt.figure(figsize=(8,6))\n",
    "ax = fig.add_subplot(111)\n",
    "\n",
    "mrksize = 10\n",
    "\n",
    "if len(xind) > 0:\n",
    "    color_dum = np.array([color_code[obj] for obj in data['Object'][xdetection_mask]])[xind]\n",
    "    # Class 0\n",
    "    ax.plot(xdata[xdetection_mask][xind][color_dum == 'b'],\n",
    "            ydata[ydetection_mask][yind][color_dum == 'b'],\n",
    "            'o', mec='None', color='b', markersize=mrksize, alpha=0.8)\n",
    "    # Class I\n",
    "    ax.plot(xdata[xdetection_mask][xind][color_dum == 'r'],\n",
    "            ydata[ydetection_mask][yind][color_dum == 'r'],\n",
    "            'o', mec='None', color='r', markersize=mrksize, alpha=0.8)\n",
    "    # Class II\n",
    "    ax.plot(xdata[xdetection_mask][xind][color_dum == 'k'],\n",
    "            ydata[ydetection_mask][yind][color_dum == 'k'],\n",
    "            'o', mec='None', color='k', markersize=mrksize, alpha=0.8)\n",
    "\n",
    "# only upper limit in x\n",
    "if len(xuplimx) > 0:\n",
    "    color_dum = np.array([color_code[obj] for obj in data['Object'][xnondetection_mask]])[xuplimx]\n",
    "    # Class 0\n",
    "    ax.errorbar(xdata[xnondetection_mask][xuplimx][color_dum == 'b'],\n",
    "                ydata[ydetection_mask][yuplimx][color_dum == 'b'],\n",
    "                xerr=xdata[xnondetection_mask][xuplimx][color_dum == 'b']/3, \n",
    "                xuplims=True, fmt='o', mfc='None', markeredgewidth=1,\n",
    "                color='b', mec='b', markersize=mrksize)\n",
    "    # Class I\n",
    "    ax.errorbar(xdata[xnondetection_mask][xuplimx][color_dum == 'r'],\n",
    "                ydata[ydetection_mask][yuplimx][color_dum == 'r'],\n",
    "                xerr=xdata[xnondetection_mask][xuplimx][color_dum == 'r']/3, \n",
    "                xuplims=True, fmt='o', mfc='None', markeredgewidth=1,\n",
    "                color='r', mec='r', markersize=mrksize)\n",
    "    # Class II\n",
    "    ax.errorbar(xdata[xnondetection_mask][xuplimx][color_dum == 'k'],\n",
    "                ydata[ydetection_mask][yuplimx][color_dum == 'k'],\n",
    "                xerr=xdata[xnondetection_mask][xuplimx][color_dum == 'k']/3, \n",
    "                xuplims=True, fmt='o', mfc='None', markeredgewidth=1,\n",
    "                color='k', mec='k', markersize=mrksize)\n",
    "\n",
    "# only upper limit in y\n",
    "if len(xuplimy) > 0:\n",
    "    color_dum = np.array([color_code[obj] for obj in data['Object'][xdetection_mask]])[xuplimy]\n",
    "    # Class 0\n",
    "    ax.errorbar(xdata[xdetection_mask][xuplimy][color_dum == 'b'],\n",
    "                ydata[ynondetection_mask][yuplimy][color_dum == 'b'],\n",
    "                yerr=ydata[ynondetection_mask][yuplimy][color_dum == 'b']/3,\n",
    "                uplims=True, fmt='o', mfc='None', markeredgewidth=1,\n",
    "                color='b', mec='b', markersize=mrksize)\n",
    "    # Class I\n",
    "    ax.errorbar(xdata[xdetection_mask][xuplimy][color_dum == 'r'],\n",
    "                ydata[ynondetection_mask][yuplimy][color_dum == 'r'],\n",
    "                yerr=ydata[ynondetection_mask][yuplimy][color_dum == 'r']/3,\n",
    "                uplims=True, fmt='o', mfc='None', markeredgewidth=1,\n",
    "                color='r', mec='r', markersize=mrksize)\n",
    "    # Class II\n",
    "    ax.errorbar(xdata[xdetection_mask][xuplimy][color_dum == 'k'],\n",
    "                ydata[ynondetection_mask][yuplimy][color_dum == 'k'],\n",
    "                yerr=ydata[ynondetection_mask][yuplimy][color_dum == 'k']/3,\n",
    "                uplims=True, fmt='o', mfc='None', markeredgewidth=1,\n",
    "                color='k', mec='k', markersize=mrksize)\n",
    "\n",
    "# both upper limits\n",
    "if len(xuplim) > 0:\n",
    "    color_dum = np.array([color_code[obj] for obj in data['Object'][xnondetection_mask]])[xuplim]\n",
    "    # Class 0\n",
    "    ax.errorbar(xdata[xnondetection_mask][xuplim][color_dum == 'b'],\n",
    "                ydata[ynondetection_mask][yuplim][color_dum == 'b'],\n",
    "                xerr=xdata[xnondetection_mask][xuplim][color_dum == 'b']/3,\n",
    "                yerr=ydata[ynondetection_mask][yuplim][color_dum == 'b']/3,\n",
    "                uplims=True, xuplims=True, fmt='o', mfc='None', markeredgewidth=1, \n",
    "                color='b', mec='b', markersize=mrksize)\n",
    "    # Class I\n",
    "    ax.errorbar(xdata[xnondetection_mask][xuplim][color_dum == 'r'],\n",
    "                ydata[ynondetection_mask][yuplim][color_dum == 'r'],\n",
    "                xerr=xdata[xnondetection_mask][xuplim][color_dum == 'r']/3,\n",
    "                yerr=ydata[ynondetection_mask][yuplim][color_dum == 'r']/3,\n",
    "                uplims=True, xuplims=True, fmt='o', mfc='None', markeredgewidth=1, \n",
    "                color='r', mec='r', markersize=mrksize)\n",
    "    # Class II\n",
    "    ax.errorbar(xdata[xnondetection_mask][xuplim][color_dum == 'k'],\n",
    "                ydata[ynondetection_mask][yuplim][color_dum == 'k'],\n",
    "                xerr=xdata[xnondetection_mask][xuplim][color_dum == 'k']/3,\n",
    "                yerr=ydata[ynondetection_mask][yuplim][color_dum == 'k']/3,\n",
    "                uplims=True, xuplims=True, fmt='o', mfc='None', markeredgewidth=1, \n",
    "                color='k', mec='k', markersize=mrksize)\n",
    "\n",
    "# legend config\n",
    "class0, = ax.plot([],[], 'o', color='b', mec='None', markersize=mrksize)\n",
    "classI, = ax.plot([],[], 'o', color='r', mec='None', markersize=mrksize)\n",
    "classII, = ax.plot([],[], 'o', color='k', mec='None', markersize=mrksize)\n",
    "ax.legend([class0, classI, classII], [r'$\\rm{Class\\,0}$', r'$\\rm{Class\\,I}$', r'$\\rm{Flat\\,Spectrum}$'],\n",
    "          fontsize=18, numpoints=1, loc='best')\n",
    "\n",
    "ax.set_xscale('log')\n",
    "ax.set_yscale('log')\n",
    "\n",
    "ax.set_xlabel(xlabel,fontsize=20)\n",
    "ax.set_ylabel(ylabel,fontsize=20)\n",
    "[ax.spines[axis].set_linewidth(1.5) for axis in ['top','bottom','left','right']]\n",
    "ax.minorticks_on()\n",
    "ax.tick_params('both',labelsize=18,width=1.5,which='major',pad=15,length=5)\n",
    "ax.tick_params('both',labelsize=18,width=1.5,which='minor',pad=15,length=4)"
   ]
  },
  {
   "cell_type": "raw",
   "metadata": {},
   "source": []
  }
 ],
 "metadata": {
  "kernelspec": {
   "display_name": "Python 2",
   "language": "python",
   "name": "python2"
  },
  "language_info": {
   "codemirror_mode": {
    "name": "ipython",
    "version": 2
   },
   "file_extension": ".py",
   "mimetype": "text/x-python",
   "name": "python",
   "nbconvert_exporter": "python",
   "pygments_lexer": "ipython2",
   "version": "2.7.11"
  }
 },
 "nbformat": 4,
 "nbformat_minor": 0
}
