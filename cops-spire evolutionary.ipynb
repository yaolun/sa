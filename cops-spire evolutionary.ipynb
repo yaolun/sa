{
 "cells": [
  {
   "cell_type": "code",
   "execution_count": 1,
   "metadata": {
    "collapsed": true
   },
   "outputs": [],
   "source": [
    "# This is a Python 3 script"
   ]
  },
  {
   "cell_type": "markdown",
   "metadata": {},
   "source": [
    "# Source Information"
   ]
  },
  {
   "cell_type": "code",
   "execution_count": 10,
   "metadata": {
    "collapsed": true
   },
   "outputs": [],
   "source": [
    "from astropy.io import ascii\n",
    "# distance\n",
    "dist = ascii.read('/Users/yaolun/data/cops-spire_distance.txt')\n",
    "archive_dir = '/Volumes/SD-Mac/CDF_archive_v2/'\n",
    "\n",
    "# source list\n",
    "obj_list = ['RCrA-IRS7B','RCrA-IRS7C','HH46','L723-MM','L1014',\n",
    "            'L1157','Ced110','BHR71','IRAS03245','L1551-IRS5',\n",
    "            'L1455-IRS3','B1-a','B1-c','IRAS03301','TMR1',\n",
    "            'TMC1A','TMC1','IRAS15398','RNO91','GSS30-IRS1',\n",
    "            'VLA1623','WL12','RCrA-IRS5A','L483','B335',\n",
    "            'DKCha']\n",
    "l_bol_list = [19.0, 44.4, 23.2, 3.3, 0.327,\n",
    "              5.41, 0.89, 13.5, 6.13, 23.5,\n",
    "              0.521, 2.33, 4.4, 3.81, 1.96,\n",
    "              2.62, 0.792, 1.49, 2.26, 19.7,\n",
    "              5.36, 2.29, 4.61, 8.78, 0.564,\n",
    "              34.7]\n",
    "t_bol_list = [51.3, 98.3, 105.0, 66.7, 63.5,\n",
    "              41.8, 53.6, 51.1, 48.4, 109.0,\n",
    "              129.0, 80.5, 55.8, 361.0, 126.0,\n",
    "              158.0, 149.0, 41.6, 231.0, 129.0,\n",
    "              33.1, 207.0, 115.0, 49.3, 45.4,\n",
    "              597.0]\n",
    "alpha500_list = [2.77, 2.81, 2.43, 2.16, 1.85,\n",
    "                 2.27, 2.34, 2.59, 2.47, 2.74,\n",
    "                 1.55, 1.74, 2.08, 2.07, 2.39,\n",
    "                 2.29, 2.00, 2.43, 2.46, 2.67,\n",
    "                 2.66, 2.41, 2.56, 2.53, 2.30,\n",
    "                 2.08]"
   ]
  },
  {
   "cell_type": "markdown",
   "metadata": {},
   "source": [
    "# Submillimeter Luminosity"
   ]
  },
  {
   "cell_type": "code",
   "execution_count": 11,
   "metadata": {
    "collapsed": true
   },
   "outputs": [],
   "source": [
    "def lsubmm(low_wave, spec, dist):\n",
    "    \"\"\"\n",
    "    spec = 'Wavelength(um)' and 'Flux_Density(Jy)'\n",
    "    dist: distance in parsec\n",
    "    \"\"\"\n",
    "    import sys\n",
    "    sys.path.append('/Users/yaolun/programs/misc/hyperion/')\n",
    "    from l_bol import l_bol\n",
    "    \n",
    "    l = l_bol(spec['Wavelength(um)'][spec['Wavelength(um)'] >= low_wave],\n",
    "              spec['Flux_Density(Jy)'][spec['Wavelength(um)'] >= low_wave], dist)\n",
    "    return l.data[0]"
   ]
  },
  {
   "cell_type": "code",
   "execution_count": 12,
   "metadata": {
    "collapsed": false
   },
   "outputs": [
    {
     "name": "stdout",
     "output_type": "stream",
     "text": [
      "RCrA-IRS7B 0.150941157376 19.0 51.3 125.876867054\n",
      "RCrA-IRS7C 0.152121038109 44.4 98.3 291.872843836\n",
      "HH46 0.189732597922 23.2 105.0 122.277353781\n",
      "L723-MM 0.0657261782949 3.3 66.7 50.2083049039\n",
      "L1014 0.0241873519017 0.327 63.5 13.5194626236\n",
      "L1157 0.106669579276 5.41 41.8 50.717365126\n",
      "Ced110 0.0207226612071 0.89 53.6 42.9481518374\n",
      "BHR71 0.161673190665 13.5 51.1 83.5017849559\n",
      "IRAS03245 0.0512886566335 6.13 48.4 119.519605355\n",
      "L1551-IRS5 0.0777980776847 23.5 109.0 302.064018795\n",
      "L1455-IRS3 0.0458527342071 0.521 129.0 11.3624630899\n",
      "B1-a 0.0934436647323 2.33 80.5 24.9348097239\n",
      "B1-c 0.115691858541 4.4 55.8 38.0320625453\n",
      "IRAS03301 0.0483955856362 3.81 361.0 78.7261885545\n",
      "TMR1 0.0149406509961 1.96 126.0 131.185716105\n",
      "TMC1A 0.0153518791321 2.62 158.0 170.663146671\n",
      "TMC1 0.015393789212 0.792 149.0 51.4493208326\n",
      "IRAS15398 0.0323112225541 1.49 41.6 46.1140087629\n",
      "RNO91 0.0153221845801 2.26 231.0 147.498549452\n",
      "GSS30-IRS1 0.0592557953155 19.7 129.0 332.456933454\n",
      "VLA1623 0.125718358942 5.36 33.1 42.6349822343\n",
      "WL12 0.0328013009094 2.29 207.0 69.8143042048\n",
      "RCrA-IRS5A 0.0713449203946 4.61 115.0 64.6156723492\n",
      "L483 0.107025399264 8.78 49.3 82.0366012212\n",
      "B335 0.0119918402352 0.564 45.4 47.0319808252\n",
      "DKCha 0.0255467051256 34.7 597.0 1358.29649379\n"
     ]
    },
    {
     "data": {
      "text/plain": [
       "(0, 400)"
      ]
     },
     "execution_count": 12,
     "metadata": {},
     "output_type": "execute_result"
    },
    {
     "data": {
      "image/png": "[encoded data removed]",
      "text/plain": [
       "<matplotlib.figure.Figure at 0x10e7726a0>"
      ]
     },
     "metadata": {},
     "output_type": "display_data"
    }
   ],
   "source": [
    "%matplotlib inline\n",
    "import matplotlib.pyplot as plt\n",
    "for o in obj_list:\n",
    "    spec = ascii.read(archive_dir+o+'/spire/data/'+o+'_spire_corrected.txt')\n",
    "    l = lsubmm(350, spec, dist['distance'][dist['object'] == o])\n",
    "    print(o, l, l_bol_list[obj_list.index(o)], t_bol_list[obj_list.index(o)], l_bol_list[obj_list.index(o)]/l)\n",
    "    plt.plot(l_bol_list[obj_list.index(o)]/l, alpha500_list[obj_list.index(o)], 'o', color='b')\n",
    "plt.xlim([0,400])"
   ]
  },
  {
   "cell_type": "markdown",
   "metadata": {},
   "source": [
    "# Alpha at 500 um"
   ]
  },
  {
   "cell_type": "code",
   "execution_count": 10,
   "metadata": {
    "collapsed": false
   },
   "outputs": [
    {
     "name": "stdout",
     "output_type": "stream",
     "text": [
      "('RCrA-IRS7B', 2.767245)\n",
      "('RCrA-IRS7C', 2.8121130000000001)\n",
      "('HH46', 2.4324050000000002)\n",
      "('L723-MM', 2.155815)\n",
      "('L1014', 1.854385)\n",
      "('L1157', 2.2730769999999998)\n",
      "('Ced110', 2.3403130000000001)\n",
      "('BHR71', 2.589369)\n",
      "('IRAS03245', 2.4729009999999998)\n",
      "('L1551-IRS5', 2.7363089999999999)\n",
      "('L1455-IRS3', 1.54925)\n",
      "('B1-a', 1.7430490000000001)\n",
      "('B1-c', 2.0847859999999998)\n",
      "('IRAS03301', 2.067377)\n",
      "('TMR1', 2.3868420000000001)\n",
      "('TMC1A', 2.2854700000000001)\n",
      "('TMC1', 2.0044240000000002)\n",
      "('IRAS15398', 2.4372739999999999)\n",
      "('RNO91', 2.4560580000000001)\n",
      "('GSS30-IRS1', 2.6679200000000001)\n",
      "('VLA1623', 2.660031)\n",
      "('WL12', 2.409173)\n",
      "('RCrA-IRS5A', 2.5608399999999998)\n",
      "('L483', 2.5290620000000001)\n",
      "('B335', 2.297253)\n",
      "('DKCha', 2.077604)\n"
     ]
    }
   ],
   "source": [
    "for o in obj_list:\n",
    "    print(o, ascii.read(archive_dir+o+'/spire/data/'+o+'_alpha.txt')['500um'].data[0])"
   ]
  },
  {
   "cell_type": "code",
   "execution_count": null,
   "metadata": {
    "collapsed": true
   },
   "outputs": [],
   "source": []
  }
 ],
 "metadata": {
  "kernelspec": {
   "display_name": "Python 2",
   "language": "python",
   "name": "python2"
  },
  "language_info": {
   "codemirror_mode": {
    "name": "ipython",
    "version": 2
   },
   "file_extension": ".py",
   "mimetype": "text/x-python",
   "name": "python",
   "nbconvert_exporter": "python",
   "pygments_lexer": "ipython2",
   "version": "2.7.11"
  }
 },
 "nbformat": 4,
 "nbformat_minor": 0
}
